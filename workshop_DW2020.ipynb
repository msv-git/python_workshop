{
 "cells": [
  {
   "cell_type": "markdown",
   "metadata": {},
   "source": [
    "<img src=\"./images/title_slide.png\" width=\"1020\" align=\"center\" border = \"5px solid #555\">"
   ]
  },
  {
   "cell_type": "markdown",
   "metadata": {},
   "source": [
    "<img src=\"./images/presenters.png\" width=\"1020\" align=\"center\" border = \"5px solid #555\">"
   ]
  },
  {
   "cell_type": "markdown",
   "metadata": {},
   "source": [
    "<img src=\"./images/why_python.png\" width=\"1020\" align=\"center\" border = \"5px solid #555\">"
   ]
  },
  {
   "cell_type": "markdown",
   "metadata": {},
   "source": [
    "<img src=\"./images/python_better_than_excel.png\" width=\"1020\" align=\"center\" border = \"5px solid #555\">"
   ]
  },
  {
   "cell_type": "markdown",
   "metadata": {},
   "source": [
    "# The goal is to eventually be like this guy:"
   ]
  },
  {
   "cell_type": "markdown",
   "metadata": {},
   "source": [
    "<img src=\"https://www.abc.net.au/cm/rimage/12082194-3x2-xlarge.jpg\" width=\"750\" border = \"5px solid #555\" align=\"center\" >"
   ]
  },
  {
   "cell_type": "markdown",
   "metadata": {},
   "source": [
    "# But we'll start here:"
   ]
  },
  {
   "cell_type": "markdown",
   "metadata": {},
   "source": [
    "<img src=\"./images/snake-charmer-simple-icon-vector-6819909.jpg\" width=\"200\" align=\"center\" border = \"5px solid #555\">"
   ]
  },
  {
   "cell_type": "markdown",
   "metadata": {},
   "source": [
    "# This is a \"Jupyter notebook\": a beginner-friendly environment to start learning and playing with Python in a web browser.\n",
    "# A notebook consists of _cells_ (see what the arrow is pointing to below). Each cell can contain:\n",
    "## 1. Python code\n",
    "## 2. Markdown (i.e., a _fancy_ way to present **text**)\n",
    "## 3. `Raw text`"
   ]
  },
  {
   "cell_type": "markdown",
   "metadata": {},
   "source": [
    " <img src=\"./images/down_arrow.gif\" width=\"100\" align=\"left\">"
   ]
  },
  {
   "cell_type": "code",
   "execution_count": null,
   "metadata": {},
   "outputs": [],
   "source": []
  },
  {
   "cell_type": "markdown",
   "metadata": {},
   "source": [
    "# \n",
    "# Each cell below contains Python code. You can run the code in the cell by clicking into the cell, then pressing <font color='#9E54C0'>**CTRL-ENTER**</font>, or by clicking the Play icon on the upper left. The output of the code (if any) shows up right below that cell.\n",
    "# <img src=\"./images/notebook_options_light.png\">"
   ]
  },
  {
   "cell_type": "markdown",
   "metadata": {},
   "source": [
    "# \n",
    "# \n",
    "# For the remainder of this notebook, pay attention to the text color _above_ cells:\n",
    "### 1. Most of the text is in black font, which is informative only. \n",
    "### 2. The word <span style=\"color:#9E54C0\"> **\"Exercise\"** </span> indicates when you should try out what you've learned.\n",
    "# \n",
    "# "
   ]
  },
  {
   "cell_type": "markdown",
   "metadata": {},
   "source": [
    "### Click into this next cell and run it."
   ]
  },
  {
   "cell_type": "code",
   "execution_count": null,
   "metadata": {},
   "outputs": [],
   "source": [
    "print(\"Hello, world!\")"
   ]
  },
  {
   "cell_type": "markdown",
   "metadata": {},
   "source": [
    "# \n",
    "# **PYTHON BASICS**"
   ]
  },
  {
   "cell_type": "markdown",
   "metadata": {},
   "source": [
    "# Let's start with some basic information that you'll need to know in order to work through the exercises today.\n",
    "\n",
    "## \n",
    "\n"
   ]
  },
  {
   "cell_type": "markdown",
   "metadata": {},
   "source": [
    "### In this section, we'll be going over _**variables**_.\n",
    "### In math we learned about variables (e.g., x = 4), and in Python variables generally work in the same way. \n",
    "### A **variable** is a stand-in value that represents one or more values. \n",
    "# \n",
    "### In Python, you may use any name you want for a variable **so long as**:\n",
    "### &nbsp;&nbsp;&nbsp;&nbsp;&nbsp;&nbsp; 1. The variable name does **not** start with a number \n",
    "### &nbsp;&nbsp;&nbsp;&nbsp;&nbsp;&nbsp; 2. There are **no spaces** between characters in the variable name"
   ]
  },
  {
   "cell_type": "markdown",
   "metadata": {},
   "source": [
    "### Some variables contain just one value. Those can be one of **four types**:\n",
    "### &nbsp;&nbsp;&nbsp;&nbsp;&nbsp;&nbsp; 1. an **integer** (e.g., 5)\n",
    "### &nbsp;&nbsp;&nbsp;&nbsp;&nbsp;&nbsp; 2. a **float** (e.g., 5.0)\n",
    "### &nbsp;&nbsp;&nbsp;&nbsp;&nbsp;&nbsp; 3. a **string** (e.g., 'abc' or '5')\n",
    "### &nbsp;&nbsp;&nbsp;&nbsp;&nbsp;&nbsp; 4. a **boolean** (True or False)"
   ]
  },
  {
   "cell_type": "code",
   "execution_count": null,
   "metadata": {},
   "outputs": [],
   "source": [
    "# Remember, use CTRL-ENTER to run a cell\n",
    "\n",
    "a=5\n",
    "\n",
    "b=5.0\n",
    "\n",
    "c='abc'\n",
    "\n",
    "d=False"
   ]
  },
  {
   "cell_type": "code",
   "execution_count": null,
   "metadata": {},
   "outputs": [],
   "source": [
    "print(a)\n",
    "print(b)\n",
    "print(c)\n",
    "print(d)"
   ]
  },
  {
   "cell_type": "markdown",
   "metadata": {},
   "source": [
    "### \n",
    "### <font color='#9E54C0'> **EXERCISE: Display the _type_ for each of the four variables we created above.**  </font>"
   ]
  },
  {
   "cell_type": "markdown",
   "metadata": {},
   "source": [
    "### Hint: each time a \"____\" shows up, it's your job to replace it with the correct code **(not necessarily 4 characters long!)**"
   ]
  },
  {
   "cell_type": "code",
   "execution_count": null,
   "metadata": {},
   "outputs": [],
   "source": [
    "print(type(a))\n",
    "____(type(b))\n",
    "print(____(c))\n",
    "____(____(d))"
   ]
  },
  {
   "cell_type": "markdown",
   "metadata": {},
   "source": [
    "### True is equivalent to 1, False is equivalent to 0"
   ]
  },
  {
   "cell_type": "code",
   "execution_count": null,
   "metadata": {},
   "outputs": [],
   "source": [
    "print(True + True)\n",
    "print(False * 10)"
   ]
  },
  {
   "cell_type": "markdown",
   "metadata": {},
   "source": [
    "### The \"==\" symbol checks if two things are equal"
   ]
  },
  {
   "cell_type": "code",
   "execution_count": null,
   "metadata": {},
   "outputs": [],
   "source": [
    "print(3==5)\n",
    "print(5==5)\n",
    "print(a==5)\n",
    "print(False==0)"
   ]
  },
  {
   "cell_type": "markdown",
   "metadata": {},
   "source": [
    "## Python Lists"
   ]
  },
  {
   "cell_type": "markdown",
   "metadata": {},
   "source": [
    "### A variable can also contain many values at once. The most common example of this kind of variable in Python is a **list**. \n",
    "### You know it's a list because it has brackets [ ] with one or more values inside.\n",
    "### A list can hold any number of any kind of values, and therefore is incredibly flexible and useful for python coders."
   ]
  },
  {
   "cell_type": "code",
   "execution_count": null,
   "metadata": {},
   "outputs": [],
   "source": [
    "my_list = ['a', 5, True, 'DESIGN', 0.9]\n",
    "\n",
    "print(my_list)\n",
    "print(type(my_list))\n",
    "print(len(my_list))"
   ]
  },
  {
   "cell_type": "markdown",
   "metadata": {},
   "source": [
    "### Generally, we create lists because we want to access the items inside.\n",
    "\n",
    "### If you want a particular value in the list, use brackets to extract it. The number inside the brackets indicates the position inside the list."
   ]
  },
  {
   "cell_type": "code",
   "execution_count": null,
   "metadata": {},
   "outputs": [],
   "source": [
    "print(my_list[0])"
   ]
  },
  {
   "cell_type": "markdown",
   "metadata": {},
   "source": [
    "### Why 0? Python is what's called a \"zero-indexing\" language, where the first thing in any data structure is actually the \"zeroth\" thing."
   ]
  },
  {
   "cell_type": "markdown",
   "metadata": {},
   "source": [
    "### <font color='#9E54C0'> **EXERCISE: Extract and print the last item in the list.**  </font>"
   ]
  },
  {
   "cell_type": "code",
   "execution_count": null,
   "metadata": {},
   "outputs": [],
   "source": [
    "print(____)"
   ]
  },
  {
   "cell_type": "markdown",
   "metadata": {},
   "source": [
    "### \n",
    "## Errors in Python\n",
    "### If you try something crazy, Python will print an **error**. \n",
    "### At first, errors may be incomprehensible and frustrating. \n",
    "### With a little experience, it'll start becoming obvious what you need to fix as soon as you see an error. You'll say \"duh!\" a lot and it'll feel good."
   ]
  },
  {
   "cell_type": "markdown",
   "metadata": {},
   "source": [
    "### \n",
    "### <font color='#9E54C0'> **EXERCISE: Try running each cell below.**  </font>"
   ]
  },
  {
   "cell_type": "code",
   "execution_count": null,
   "metadata": {},
   "outputs": [],
   "source": [
    "3=5"
   ]
  },
  {
   "cell_type": "code",
   "execution_count": null,
   "metadata": {},
   "outputs": [],
   "source": [
    "print(3"
   ]
  },
  {
   "cell_type": "code",
   "execution_count": null,
   "metadata": {},
   "outputs": [],
   "source": [
    "my_list * my_list"
   ]
  },
  {
   "cell_type": "markdown",
   "metadata": {},
   "source": [
    "# \n",
    "# Comments\n",
    "### Comments are incredibly useful in any coding language. \n",
    "### Code is read way more often than it is written, so comments allow others (including future versions of yourself) ways to understand what your code is doing.\n",
    "\n",
    "### Comments are also a useful way to keep code in a particular cell without having to run it."
   ]
  },
  {
   "cell_type": "code",
   "execution_count": null,
   "metadata": {},
   "outputs": [],
   "source": [
    "# This is a comment about the line of code below so I can remember what it does\n",
    "a=5\n",
    "\n",
    "# I want to skip the line of code below for now, without deleting it, so I commented it out.\n",
    "# b=5.0"
   ]
  },
  {
   "cell_type": "markdown",
   "metadata": {},
   "source": [
    "### \n",
    "# That's it for Python basics! The rest of this workshop is dedicated entirely to the essential data-analysis and visualization packages.\n",
    "# If you'd like to learn more about Python, please see the links in our reference section below.\n",
    "### "
   ]
  },
  {
   "cell_type": "markdown",
   "metadata": {},
   "source": [
    "# \n",
    "# **ESSENTIAL DATA SCIENCE PACKAGES**\n",
    "### <img src=\"./images/numpylogo.png\" width=\"400\" align=\"center\">\n",
    "### <img src=\"./images/pandas_logo.png\" width=\"400\" align=\"center\">\n",
    "\n",
    "## The vast majority of what you do in Python will involve working within numpy and pandas (mostly pandas), rather than base Python.\n",
    "### "
   ]
  },
  {
   "cell_type": "markdown",
   "metadata": {},
   "source": [
    "# Importing packages to use in your notebook\n",
    "### **Packages** are collections of useful functions that allow you to do something with your data."
   ]
  },
  {
   "cell_type": "markdown",
   "metadata": {},
   "source": [
    "### Luckily for you, we've already installed these packages in your workspace.\n",
    "### Even though packages may already be installed, you still need to **import** them into your notebook.\n",
    "### Generally, python programmers use abbreviations for packages when they import them so that they don't have to type more letters when referencing the package in the notebook."
   ]
  },
  {
   "cell_type": "code",
   "execution_count": null,
   "metadata": {},
   "outputs": [],
   "source": [
    "import numpy as np\n",
    "import pandas as pd"
   ]
  },
  {
   "cell_type": "markdown",
   "metadata": {},
   "source": [
    "### From this point on in the notebook, \"np. ...\" means the command comes from numpy, and \"pd. ...\" means it comes from pandas.\n",
    "### Jupyter Notebook allows you to use tab to auto complete phrases. If you type the abbreviated name of a package followed by \".\" and then hit the _Tab_ key, you'll see all of the functions associated with this package."
   ]
  },
  {
   "cell_type": "code",
   "execution_count": null,
   "metadata": {},
   "outputs": [],
   "source": [
    "np. # np.| <-- hit Tab once you place your cursor to the right of the \".\" as shown here"
   ]
  },
  {
   "cell_type": "markdown",
   "metadata": {},
   "source": [
    "### \n",
    "# **BACKGROUND: FACIAL MICROEXPRESSIONS DATASET**\n",
    "### "
   ]
  },
  {
   "cell_type": "markdown",
   "metadata": {},
   "source": [
    "### In 2018, our Design Research group ran a standard, ~30-minute, 1:1 in-person formative test of an enterprise software prototype with Oracle employee participants.\n",
    "### The test contained 3 realistic tasks for each participant to complete, while talking out loud. Each task ended with a special **Submit \"emo\"button** that allowed the participant to indicate their experience on the page (negative, neutral, or positive) at the exact same time as Submitting their data entry on the page. \n",
    "# \n",
    "# \n",
    "# \n",
    "# "
   ]
  },
  {
   "cell_type": "markdown",
   "metadata": {},
   "source": [
    "<img src=\"./images/emo_button.gif\" width=\"400\" align=\"center\">"
   ]
  },
  {
   "cell_type": "markdown",
   "metadata": {},
   "source": [
    "# \n",
    "## Testing this \"emobutton\" was the main goal of the research project: \n",
    "- <font size = 5 > Would participants notice it? \n",
    "- <font size = 5 > Would it seem like a valid measure of happiness or frustration?"
   ]
  },
  {
   "cell_type": "markdown",
   "metadata": {},
   "source": [
    "### Another special part of the study was that we recorded participants' faces the whole time. Then we ran the recordings through an emotional expression-detecting software called Noldus Facereader. This gave us a measure of how happy, confused, etc., each participant's face looked every 10th of a second for the entire duration. \n",
    "# \n",
    " <img src=\"./images/face_reader.gif\" width=\"750\" align=\"center\">\n",
    "\n",
    "# \n",
    "# \n",
    "# Our focus for the remainder of the workshop will be to explore some basic, fundamental questions about the data from this project - the <font size = 6 > \"shape of the data\" .\n",
    "# \n",
    "# "
   ]
  },
  {
   "cell_type": "markdown",
   "metadata": {},
   "source": [
    "<img src=\"./images/panda.jpeg\" width=\"800\" align=\"center\" border = \"5px solid #555\">"
   ]
  },
  {
   "cell_type": "markdown",
   "metadata": {},
   "source": [
    "### \n",
    "# **PANDAS**\n",
    "### is a package that allows you to efficiently view, edit, transform, and extract insights from 2-dimensional tables of data (called \"dataframes\").\n",
    "### It's sort of like Excel, but can perform a lot of things faster and easier.\n",
    "### "
   ]
  },
  {
   "cell_type": "markdown",
   "metadata": {},
   "source": [
    "### After importing useful packages, the next thing researchers need do is read in data. \n",
    "### Most of the time, the data we need will be either a \".csv\" or \".xlsx\" file format.\n",
    "# \n",
    "### Read in an **existing** CSV or Excel file and call it \"df\" (a common abbreviation that stands for \"dataframe\")\n",
    "\n",
    "### (this is how you'll start off most of the time in real life)"
   ]
  },
  {
   "cell_type": "code",
   "execution_count": null,
   "metadata": {},
   "outputs": [],
   "source": [
    "df = pd.read_csv('face_data.csv')"
   ]
  },
  {
   "cell_type": "markdown",
   "metadata": {},
   "source": [
    "### As you can see, df is a pandas dataframe"
   ]
  },
  {
   "cell_type": "code",
   "execution_count": null,
   "metadata": {},
   "outputs": [],
   "source": [
    "type(df)"
   ]
  },
  {
   "cell_type": "markdown",
   "metadata": {},
   "source": [
    "# \n",
    "### Beyond the data captured by Noldus Facereader, we also put together some data about participants. \n",
    "### We'll need to rely on information from both of those files for our work today."
   ]
  },
  {
   "cell_type": "markdown",
   "metadata": {},
   "source": [
    "### <font color='#9E54C0'> **EXERCISE: Read an Excel file named 'participant_data.xlsx' by using the command _pd.read_excel_. Call this dataframe \"dfp\".**  </font>"
   ]
  },
  {
   "cell_type": "code",
   "execution_count": null,
   "metadata": {},
   "outputs": [],
   "source": [
    "dfp = pd.read_excel('participant_data.xlsx')"
   ]
  },
  {
   "cell_type": "code",
   "execution_count": null,
   "metadata": {},
   "outputs": [],
   "source": [
    "dfp = ____('____')"
   ]
  },
  {
   "cell_type": "markdown",
   "metadata": {},
   "source": [
    "# <font color='#32925E'> **Literally, what is the shape of the data?** </font>"
   ]
  },
  {
   "cell_type": "code",
   "execution_count": null,
   "metadata": {},
   "outputs": [],
   "source": [
    "df.shape"
   ]
  },
  {
   "cell_type": "markdown",
   "metadata": {},
   "source": [
    "### The 1st number in this output represents the number of rows in the df dataframe; the 2nd number is columns. \n",
    "### Given how large this file is, this is not something you'd want to open in Excel!\n",
    "# \n",
    "### `df.shape` returns a list-like object, so if you are interested in just the # of rows, you can \"index\" it like any other list:"
   ]
  },
  {
   "cell_type": "code",
   "execution_count": null,
   "metadata": {},
   "outputs": [],
   "source": [
    "df.shape[0] # Remember, the 1st thing is really the 0th thing!"
   ]
  },
  {
   "cell_type": "markdown",
   "metadata": {},
   "source": [
    "# <font color='#32925E'> **What are the column names?** </font>"
   ]
  },
  {
   "cell_type": "code",
   "execution_count": null,
   "metadata": {},
   "outputs": [],
   "source": [
    "df.columns"
   ]
  },
  {
   "cell_type": "markdown",
   "metadata": {},
   "source": [
    "# <font color='#32925E'> **That's fine, but what does the dataset actually _look like_?** </font>"
   ]
  },
  {
   "cell_type": "code",
   "execution_count": null,
   "metadata": {},
   "outputs": [],
   "source": [
    "df"
   ]
  },
  {
   "cell_type": "markdown",
   "metadata": {},
   "source": [
    "### Pandas displays information in a neat and visible way. \n",
    "### When the dataframe has a large number of rows, Pandas puts \"...\" in the middle to show you the first five and the last five rows of the dataframe.\n",
    "\n"
   ]
  },
  {
   "cell_type": "markdown",
   "metadata": {},
   "source": [
    "# <font color='#32925E'> **What if I want to see just the first few rows?** </font>"
   ]
  },
  {
   "cell_type": "code",
   "execution_count": null,
   "metadata": {},
   "outputs": [],
   "source": [
    "df.head(5)"
   ]
  },
  {
   "cell_type": "markdown",
   "metadata": {},
   "source": [
    "### \n",
    "### You may have noticed the following pattern above: `df.some_attribute` or `df.some_function()`\n",
    "### This makes Python syntax more user-friendly than some other languages, like Excel syntax. Instead of this:\n",
    "### `function3(function2(function1(df)))` , you usually write and see this:\n",
    "### `df.function1().function2().function3()` . Much better, right?\n",
    "### "
   ]
  },
  {
   "cell_type": "markdown",
   "metadata": {},
   "source": [
    "### \n",
    "# **DIVING INTO THE FACIAL MICROEXPRESSIONS DATASET: DETAILS**"
   ]
  },
  {
   "cell_type": "code",
   "execution_count": null,
   "metadata": {},
   "outputs": [],
   "source": [
    "df.head()"
   ]
  },
  {
   "cell_type": "markdown",
   "metadata": {},
   "source": [
    "### **\"participant_id\"** is self-explanatory.\n",
    "### Every row in the dataset is one frame (0.1 seconds) of one participant's video. Hence, **\"capture_time_secs\"** is the cumulative time at frame capture; every participant starts at 0.0.\n",
    "### **\"happiness\"** is the degree of happiness in the participant's facial expression at that moment, ranging from 0 (none) to 1 (max); **\"confusion\"** - same idea. \n",
    "\n",
    "### **\"primary_emotion\"** is whichever of \"happiness\" or \"confusion\" is present to a greater degree in the face. Yes, multiple emotions can be expressed and detected in faces to varying degrees at the same time <img src=\"./images/smile_emoji.jpg\" width=\"50\" align=\"Center\" border = \"2px solid #555\"> <img src=\"./images/neutral_emoji.png\" width=\"50\" align=\"Center\" border = \"2px solid #555\"> <img src=\"./images/frown_emoji.png\" width=\"50\" align=\"Center\" border = \"2px solid #555\">\n",
    "### **\"task\"** is which of the three aforementioned tasks the participant was doing at the time of capture.\n",
    "### **\"during_self_report\"** indicates whether the participant's hand and mouse were literally on their way to hitting the Submit Emobutton during that particular frame (rare).\n",
    "### "
   ]
  },
  {
   "cell_type": "markdown",
   "metadata": {},
   "source": [
    "# <font color='#32925E'> **How many participants are there?** </font>"
   ]
  },
  {
   "cell_type": "code",
   "execution_count": null,
   "metadata": {},
   "outputs": [],
   "source": [
    "df['participant_id'].nunique()"
   ]
  },
  {
   "cell_type": "markdown",
   "metadata": {},
   "source": [
    "### `df['some_column_name']` is how you can refer to and isolate one data column in the dataframe.\n",
    "### `df['some_column_name'].nunique()` is how you can count the number of unique values."
   ]
  },
  {
   "cell_type": "markdown",
   "metadata": {},
   "source": [
    "### <font color='#9E54C0'> **Exercise: Print the full list of participant IDs.**  </font>"
   ]
  },
  {
   "cell_type": "code",
   "execution_count": null,
   "metadata": {},
   "outputs": [],
   "source": [
    "# Hint: use \"unique\" instead of \"nunique\"\n",
    "\n",
    "print(____.____)"
   ]
  },
  {
   "cell_type": "markdown",
   "metadata": {},
   "source": [
    "### "
   ]
  },
  {
   "cell_type": "markdown",
   "metadata": {},
   "source": [
    "## As we continue to explore our dataset, we notice that some columns have a bunch of the same values, specifically \"**NaN**\""
   ]
  },
  {
   "cell_type": "code",
   "execution_count": null,
   "metadata": {},
   "outputs": [],
   "source": [
    "df.head()"
   ]
  },
  {
   "cell_type": "markdown",
   "metadata": {},
   "source": [
    "#  <font color='#32925E'> What are all those **NaN**s? </font>\n",
    "### **np.NaN** (as input) or **nan** or **NaN** (as output) are all the same thing: a special value indicating...the lack of a real value \"**N**ot **A** **N**umber\".\n",
    "### CSV or Excel files that have \"nothing\" in the cell get automatically imported into Pandas as NaN, and you often want to keep it that way."
   ]
  },
  {
   "cell_type": "code",
   "execution_count": null,
   "metadata": {},
   "outputs": [],
   "source": [
    "np.NaN"
   ]
  },
  {
   "cell_type": "markdown",
   "metadata": {},
   "source": [
    "#  <font color='#32925E'> What is the shape of the data for Happiness? </font>\n",
    "## Pandas also has built in features for describing some basic stats about numerical columns"
   ]
  },
  {
   "cell_type": "code",
   "execution_count": null,
   "metadata": {},
   "outputs": [],
   "source": [
    "df['happiness'].describe().round(3)"
   ]
  },
  {
   "cell_type": "markdown",
   "metadata": {},
   "source": [
    "# \n",
    "## You can even describe multiple numerical columns at once. \n",
    "\n",
    "### The general pandas syntax for selecting multiple columns is `df[[column1, column2, etc.]]`"
   ]
  },
  {
   "cell_type": "code",
   "execution_count": null,
   "metadata": {},
   "outputs": [],
   "source": [
    "df[['happiness', 'confusion']].describe().round(3)"
   ]
  },
  {
   "cell_type": "markdown",
   "metadata": {},
   "source": [
    "# \n",
    "# Often, you want to transform the values in a column to make the data easier to understand, improve visualizations, or format for specific analyses.\n",
    "# <font color='#32925E'> **You want to turn seconds into minutes. Is there a simple way to do that?** </font>"
   ]
  },
  {
   "cell_type": "markdown",
   "metadata": {},
   "source": [
    "### Pandas makes it very easy to apply a simple operation to an entire column of data:"
   ]
  },
  {
   "cell_type": "code",
   "execution_count": null,
   "metadata": {},
   "outputs": [],
   "source": [
    "df['capture_time_secs']"
   ]
  },
  {
   "cell_type": "code",
   "execution_count": null,
   "metadata": {},
   "outputs": [],
   "source": [
    "df['capture_time_secs'] / 60"
   ]
  },
  {
   "cell_type": "markdown",
   "metadata": {},
   "source": [
    "### **Two things to note:** \n",
    "### 1. Unlike in Excel, we were able to divide all 400 thousand rows with one line of code\n",
    "### 2. Even with 400,000+ rows, python was able to perform this operation within milliseconds"
   ]
  },
  {
   "cell_type": "markdown",
   "metadata": {},
   "source": [
    "### \n",
    "#  <font color='#32925E'> How do we add this as a new column in the data? </font> \n",
    "## Simply set a new column name equal to what we just created!"
   ]
  },
  {
   "cell_type": "code",
   "execution_count": null,
   "metadata": {},
   "outputs": [],
   "source": [
    "df['capture_time_mins'] = df['capture_time_secs'] / 60"
   ]
  },
  {
   "cell_type": "code",
   "execution_count": null,
   "metadata": {},
   "outputs": [],
   "source": [
    "df.head()"
   ]
  },
  {
   "cell_type": "markdown",
   "metadata": {},
   "source": [
    "### <font color='#9E54C0'> **Exercise: Add a column \"participant_id_zero\" where, in the Pythonic spirit, participant numbering starts at 0 instead of 1.** </font>"
   ]
  },
  {
   "cell_type": "code",
   "execution_count": null,
   "metadata": {},
   "outputs": [],
   "source": [
    "df['participant_id_zero'] = df['participant_id'] - 1"
   ]
  },
  {
   "cell_type": "code",
   "execution_count": null,
   "metadata": {},
   "outputs": [],
   "source": [
    "# ____[____] = df[____] - 1"
   ]
  },
  {
   "cell_type": "code",
   "execution_count": null,
   "metadata": {},
   "outputs": [],
   "source": [
    "df.head()"
   ]
  },
  {
   "cell_type": "markdown",
   "metadata": {},
   "source": [
    "## Since we've added in the zero-indexed participant id column, we no longer need to keep our original participant_id column.\n",
    "## Often, researchers will drop columns that they no longer need for their analyses. The more columns a dataframe has, generally, the longer it takes to do anything with it. \n",
    "### The way to drop columns from your dataframe is `df.drop(columns = [insert column names to drop here], inplace = True)`"
   ]
  },
  {
   "cell_type": "markdown",
   "metadata": {},
   "source": [
    "### <font color='#9E54C0'> **Exercise: Drop the \"participant_id\" column from df.** </font>"
   ]
  },
  {
   "cell_type": "code",
   "execution_count": null,
   "metadata": {},
   "outputs": [],
   "source": [
    "df.____(columns = [____], inplace = True)"
   ]
  },
  {
   "cell_type": "markdown",
   "metadata": {},
   "source": [
    "### \n",
    "# <font color='#32925E'> **We have participant-level data in the small separate Excel file we called \"dfp\". How do we add those data into the large dataset, so all the data are in one place?** </font>"
   ]
  },
  {
   "cell_type": "code",
   "execution_count": null,
   "metadata": {},
   "outputs": [],
   "source": [
    "dfp.loc[4, 'self_reported_attitude'] = 'negative'"
   ]
  },
  {
   "cell_type": "code",
   "execution_count": null,
   "metadata": {},
   "outputs": [],
   "source": [
    "dfp.loc[8, 'self_reported_attitude'] = 'neutral'"
   ]
  },
  {
   "cell_type": "code",
   "execution_count": null,
   "metadata": {},
   "outputs": [],
   "source": [
    "dfp.loc[10, 'self_reported_attitude'] = 'positive'"
   ]
  },
  {
   "cell_type": "code",
   "execution_count": null,
   "metadata": {},
   "outputs": [],
   "source": [
    "dfp.groupby('gender')['self_reported_attitude'].value_counts(dropna = False)"
   ]
  },
  {
   "cell_type": "code",
   "execution_count": null,
   "metadata": {},
   "outputs": [],
   "source": [
    "dfp"
   ]
  },
  {
   "cell_type": "markdown",
   "metadata": {},
   "source": [
    "# \n",
    "<img src = './images/emo_2.png' width = 200 align = \"center\">"
   ]
  },
  {
   "cell_type": "markdown",
   "metadata": {},
   "source": [
    "### **self_reported_attitude** corresponds to which part of the Submit EmoButton that participant clicked."
   ]
  },
  {
   "cell_type": "markdown",
   "metadata": {},
   "source": [
    "# <font color='#32925E'> So, how do we merge the information from the small dataset into the larger one? </font>\n",
    "### Let's start with a simpler example."
   ]
  },
  {
   "cell_type": "markdown",
   "metadata": {},
   "source": [
    "### In this example we have 2 dataframes (**_df_a_**, and **_df_b_**). \n",
    "### df_a contains two columns: one for names of researchers and another that describes eye color."
   ]
  },
  {
   "cell_type": "code",
   "execution_count": null,
   "metadata": {},
   "outputs": [],
   "source": [
    "df_a = pd.DataFrame.from_dict({'Researcher':['Mike', 'Andrew', 'Ben', 'Bob', 'Alejandro'], 'Eye_Color':['Brown', 'Brown', 'Brown', 'Blue', 'Brown']})"
   ]
  },
  {
   "cell_type": "code",
   "execution_count": null,
   "metadata": {},
   "outputs": [],
   "source": [
    "df_a"
   ]
  },
  {
   "cell_type": "markdown",
   "metadata": {},
   "source": [
    "## df_b contains two columns: one for names of researchers and another indicates whether that researcher owns cats."
   ]
  },
  {
   "cell_type": "code",
   "execution_count": null,
   "metadata": {},
   "outputs": [],
   "source": [
    "df_b = pd.DataFrame.from_dict({'Researcher':['Mike', 'Andrew', 'Ben', 'Jia', 'John'], 'Owns_Cats':['No', 'Yes', 'Yes', 'No', 'Yes']})"
   ]
  },
  {
   "cell_type": "code",
   "execution_count": null,
   "metadata": {},
   "outputs": [],
   "source": [
    "df_b"
   ]
  },
  {
   "cell_type": "markdown",
   "metadata": {},
   "source": [
    "# General syntax for merging is \n",
    "\n",
    "#### `pd.merge(left_dataframe, right_dataframe, on = column name to match tables, how = \"left\")`"
   ]
  },
  {
   "cell_type": "markdown",
   "metadata": {},
   "source": [
    "<img src = './images/merge_options.png' width = 600 align = 'center'/>"
   ]
  },
  {
   "cell_type": "markdown",
   "metadata": {},
   "source": [
    "## We use **inner** join when we only want what's common between the two dataframes."
   ]
  },
  {
   "cell_type": "code",
   "execution_count": null,
   "metadata": {},
   "outputs": [],
   "source": [
    "pd.merge(df_a, df_b, on = 'Researcher', how = 'inner')"
   ]
  },
  {
   "cell_type": "markdown",
   "metadata": {},
   "source": [
    "## We use **left** join when we want to keep all of the rows from the **left** dataframe. \n",
    "## **Note** This will return **NaN** if there are values in the left dataframe that are **_not_** in the right dataframe."
   ]
  },
  {
   "cell_type": "code",
   "execution_count": null,
   "metadata": {},
   "outputs": [],
   "source": [
    "pd.merge(df_a, df_b, on = 'Researcher', how = 'left')"
   ]
  },
  {
   "cell_type": "markdown",
   "metadata": {},
   "source": [
    "### <font color='#9E54C0'> **Exercise: how would you merge df_a and df_b making sure to include all of the rows from df_b?**   </font>"
   ]
  },
  {
   "cell_type": "code",
   "execution_count": null,
   "metadata": {},
   "outputs": [],
   "source": [
    "pd.merge(df_a, ____, on = 'Researcher', how = ____)\n",
    "\n",
    "# pd.merge(df_a, df_b, on = 'Researcher', how = 'right')"
   ]
  },
  {
   "cell_type": "markdown",
   "metadata": {},
   "source": [
    "### <font color='#9E54C0'> **Exercise: how would you merge df_a and df_b making sure to include all of the rows from both dataframes?**   </font>"
   ]
  },
  {
   "cell_type": "code",
   "execution_count": null,
   "metadata": {},
   "outputs": [],
   "source": [
    "pd.merge(df_a, df_b, on = ____, how = ____)\n",
    "# pd.merge(df_a, df_b, on = 'Researcher', how = 'outer')"
   ]
  },
  {
   "cell_type": "markdown",
   "metadata": {},
   "source": [
    "### <font color='red'> Warning: do not try this at home (with Excel).</font> But do try it at home with Python/pandas.\n",
    "### Back to our actual datasets."
   ]
  },
  {
   "cell_type": "code",
   "execution_count": null,
   "metadata": {},
   "outputs": [],
   "source": [
    "df.shape"
   ]
  },
  {
   "cell_type": "markdown",
   "metadata": {},
   "source": [
    "### <font color='#9E54C0'> **Exercise: Merge the participant-level data into the face capture dataset.** </font>"
   ]
  },
  {
   "cell_type": "code",
   "execution_count": null,
   "metadata": {},
   "outputs": [],
   "source": [
    "df = pd.merge(____, ____, on = ____, how = ____)"
   ]
  },
  {
   "cell_type": "code",
   "execution_count": null,
   "metadata": {},
   "outputs": [],
   "source": [
    "df = pd.merge(df, dfp, on = 'participant_id_zero', how = 'left')"
   ]
  },
  {
   "cell_type": "code",
   "execution_count": null,
   "metadata": {},
   "outputs": [],
   "source": [
    "# As expected, two columns got added, and no rows got added.\n",
    "\n",
    "df.shape"
   ]
  },
  {
   "cell_type": "markdown",
   "metadata": {},
   "source": [
    "# <font color='#32925E'> **How do we adjust the column order?** </font>\n",
    "\n",
    "# show this example live"
   ]
  },
  {
   "cell_type": "code",
   "execution_count": null,
   "metadata": {},
   "outputs": [],
   "source": [
    "# df.columns"
   ]
  },
  {
   "cell_type": "code",
   "execution_count": null,
   "metadata": {},
   "outputs": [],
   "source": [
    "df.head()"
   ]
  },
  {
   "cell_type": "markdown",
   "metadata": {},
   "source": [
    "### \n",
    "### In the context of this dataset, the emotion-analysis software isn't perfect, and for many frames it simply cannot tell if an emotion is present, or simply cannot detect the boundaries of a face. The question is, did this happen often?"
   ]
  },
  {
   "cell_type": "markdown",
   "metadata": {},
   "source": [
    "# <font color='#32925E'> **How much \"happiness\" data is missing?** </font>"
   ]
  },
  {
   "cell_type": "code",
   "execution_count": null,
   "metadata": {},
   "outputs": [],
   "source": [
    "df['happiness'].isnull() # tests whether each cell has a NaN in it or not. If it does, then True. If it doesn't, then False."
   ]
  },
  {
   "cell_type": "markdown",
   "metadata": {},
   "source": [
    "### Remember how `True==1` and `False==0`? How can we use that to answer the question?"
   ]
  },
  {
   "cell_type": "code",
   "execution_count": null,
   "metadata": {},
   "outputs": [],
   "source": [
    "n_missing = df['happiness'].isnull().sum()\n",
    "print(n_missing)"
   ]
  },
  {
   "cell_type": "markdown",
   "metadata": {},
   "source": [
    "### The sum of \"True\"s is the same thing as how many times \"True\" appears in the column, which is what we want!"
   ]
  },
  {
   "cell_type": "markdown",
   "metadata": {},
   "source": [
    "### <font color='#9E54C0'> **Exercise: How much \"happiness\" data is NOT missing?** </font>"
   ]
  },
  {
   "cell_type": "code",
   "execution_count": null,
   "metadata": {},
   "outputs": [],
   "source": [
    "# Hint: use \"notnull\" instead of \"isnull\"\n",
    "\n",
    "n_not_missing = df____.____.____\n",
    "print(n_not_missing)"
   ]
  },
  {
   "cell_type": "markdown",
   "metadata": {},
   "source": [
    "### <font color='#9E54C0'> **Exercise: The sum of # missing and # not missing should add up to how many total rows are in the data. Does it?** </font>"
   ]
  },
  {
   "cell_type": "code",
   "execution_count": null,
   "metadata": {},
   "outputs": [],
   "source": [
    "# Let's double check!\n",
    "\n",
    "print(\"Missing and non-missing happiness rows add up to\", ____ + ____)\n",
    "print(\"There are\", df.____[____], \"rows in the data.\")"
   ]
  },
  {
   "cell_type": "markdown",
   "metadata": {},
   "source": [
    "# \n",
    "# <font color='#32925E'> **Which emotion (Happiness or Confusion) was the \"primary emotion\" more often?** </font>"
   ]
  },
  {
   "cell_type": "code",
   "execution_count": null,
   "metadata": {},
   "outputs": [],
   "source": [
    "df.head()"
   ]
  },
  {
   "cell_type": "markdown",
   "metadata": {},
   "source": [
    "### <font color='#9E54C0'> **Exercise: Display only the \"primary_emotion\" column of the dataset.** </font>"
   ]
  },
  {
   "cell_type": "code",
   "execution_count": null,
   "metadata": {},
   "outputs": [],
   "source": [
    "____[____]"
   ]
  },
  {
   "cell_type": "markdown",
   "metadata": {},
   "source": [
    "### Again, pandas makes it very easy to apply a simple operation to an entire column of data - in this case, checking in one line of code if every single cell in the column is equal to 'happiness' or not:"
   ]
  },
  {
   "cell_type": "code",
   "execution_count": null,
   "metadata": {},
   "outputs": [],
   "source": [
    "df['primary_emotion'] == 'happiness' # Note that missing values of primary_emotion also return False; after all, they are not equal to 'happiness'."
   ]
  },
  {
   "cell_type": "code",
   "execution_count": null,
   "metadata": {},
   "outputs": [],
   "source": [
    "(df['primary_emotion'] == 'happiness').sum()"
   ]
  },
  {
   "cell_type": "markdown",
   "metadata": {},
   "source": [
    "### <font color='#9E54C0'> **Exercise: How often was Confusion the \"primary emotion\"?** </font>"
   ]
  },
  {
   "cell_type": "code",
   "execution_count": null,
   "metadata": {},
   "outputs": [],
   "source": [
    "(df[____] == ____).____"
   ]
  },
  {
   "cell_type": "markdown",
   "metadata": {},
   "source": [
    "### Participants looked happy far more frequently than they looked confused.\n",
    "### How could we get this answer in one step?"
   ]
  },
  {
   "cell_type": "code",
   "execution_count": null,
   "metadata": {},
   "outputs": [],
   "source": [
    "df.primary_emotion.value_counts()"
   ]
  },
  {
   "cell_type": "markdown",
   "metadata": {},
   "source": [
    "### What if we want proportions instead of raw counts?"
   ]
  },
  {
   "cell_type": "code",
   "execution_count": null,
   "metadata": {},
   "outputs": [],
   "source": [
    "df['primary_emotion'].value_counts(normalize=True, dropna = False).round(2)"
   ]
  },
  {
   "cell_type": "markdown",
   "metadata": {},
   "source": [
    "### <font color='#9E54C0'> **EXERCISE: What proportion of the rows did participants spend in Tasks 1 vs. 2 vs. 3?** </font>"
   ]
  },
  {
   "cell_type": "code",
   "execution_count": null,
   "metadata": {},
   "outputs": [],
   "source": [
    "# Find how often the \"task\" column took on each of its values\n",
    "\n",
    "df[____].____(____).round(2)"
   ]
  },
  {
   "cell_type": "code",
   "execution_count": null,
   "metadata": {},
   "outputs": [],
   "source": [
    "df.head()"
   ]
  },
  {
   "cell_type": "markdown",
   "metadata": {},
   "source": [
    "### \n",
    "# <font color='#32925E'> **Did the \"primary emotion\" differ by gender?** </font>"
   ]
  },
  {
   "cell_type": "markdown",
   "metadata": {},
   "source": [
    "### **Filtering**: Let's first filter the dataset to only the female participants."
   ]
  },
  {
   "cell_type": "code",
   "execution_count": null,
   "metadata": {},
   "outputs": [],
   "source": [
    "# This is what the filter looks like\n",
    "\n",
    "df['gender'] == 'female'"
   ]
  },
  {
   "cell_type": "code",
   "execution_count": null,
   "metadata": {},
   "outputs": [],
   "source": [
    "# This is how you use the filter\n",
    "\n",
    "df_female = df[df['gender'] == 'female']\n",
    "df_female"
   ]
  },
  {
   "cell_type": "markdown",
   "metadata": {},
   "source": [
    "### **Two things to note:**\n",
    "### 1. df_female is a subset of df\n",
    "### 2. This subset dataframe still keeps track of the original row numbers (i.e., indices)"
   ]
  },
  {
   "cell_type": "markdown",
   "metadata": {},
   "source": [
    "### \n",
    "### <font color='#9E54C0'> **EXERCISE: What were the frequencies for the primary emotion for the female participants?** </font>"
   ]
  },
  {
   "cell_type": "code",
   "execution_count": null,
   "metadata": {},
   "outputs": [],
   "source": [
    "____[____].____(normalize=True).round(2)"
   ]
  },
  {
   "cell_type": "markdown",
   "metadata": {},
   "source": [
    "### What about for the male participants?"
   ]
  },
  {
   "cell_type": "code",
   "execution_count": null,
   "metadata": {},
   "outputs": [],
   "source": [
    "df_male = df[df['gender'] == 'male']\n",
    "\n",
    "df_male['primary_emotion'].value_counts(normalize=True).round(2)"
   ]
  },
  {
   "cell_type": "markdown",
   "metadata": {},
   "source": [
    "### Looks like the men in this study were slightly more confused than happy, and substantially more confused and less happy than the women.\n",
    "# \n",
    "# <font color='#32925E'> How could we get these answers in one step, and without creating extra smaller datasets? </font>\n",
    "## Introducing **grouping**:"
   ]
  },
  {
   "cell_type": "markdown",
   "metadata": {},
   "source": [
    "### Grouping in pandas works using the following syntax: \n",
    "### `df.groupby(column name to groupby)[column name to aggregate].some_function()`\n",
    "### Common functions to use while grouping are \"value_counts\", \"mean\", \"median\" \"mode\", \"max\", \"min\""
   ]
  },
  {
   "cell_type": "code",
   "execution_count": null,
   "metadata": {},
   "outputs": [],
   "source": [
    "df.groupby('gender')['primary_emotion'].value_counts(normalize=True).round(2)"
   ]
  },
  {
   "cell_type": "markdown",
   "metadata": {},
   "source": [
    "### <font color='#9E54C0'> **Exercise: Did the participants' face reflect their emobutton choice?** </font>"
   ]
  },
  {
   "cell_type": "code",
   "execution_count": null,
   "metadata": {},
   "outputs": [],
   "source": [
    "df.groupby('self_reported_attitude')[____].____(normalize=True).round(2).sort_index(ascending=False)\n",
    "# df.groupby('self_reported_attitude')['primary_emotion'].value_counts(normalize=True).round(2).sort_index(ascending=False)"
   ]
  },
  {
   "cell_type": "markdown",
   "metadata": {},
   "source": [
    "### The faces of the participants who hit the \"unhappy\" part of the Submit EmoButton looked substantially different than for the other two groups of participants."
   ]
  },
  {
   "cell_type": "markdown",
   "metadata": {},
   "source": [
    "### \n",
    "# <font color='#32925E'> **Were people who gave negative feedback more confused? Or less happy? Or both?** </font>"
   ]
  },
  {
   "cell_type": "markdown",
   "metadata": {},
   "source": [
    "### Seaborn is a powerful and easy-to-learn package that can create beautiful visualizations - both quick/dirty and polished.\n",
    "\n",
    "<img src = './images/seaborn_logo.png' width = 400 align = \"center\" border = \"5px solid #555\"> "
   ]
  },
  {
   "cell_type": "code",
   "execution_count": null,
   "metadata": {},
   "outputs": [],
   "source": [
    "import seaborn as sns"
   ]
  },
  {
   "cell_type": "code",
   "execution_count": null,
   "metadata": {},
   "outputs": [],
   "source": [
    "cat_df = df.groupby('self_reported_attitude')['primary_emotion'].value_counts(normalize=True).round(2).sort_index(ascending=False)\n",
    "\n",
    "cat_df = pd.DataFrame(cat_df).rename(columns = {'primary_emotion':'proportion'}).reset_index()\n",
    "\n",
    "cat_df"
   ]
  },
  {
   "cell_type": "code",
   "execution_count": null,
   "metadata": {},
   "outputs": [],
   "source": [
    "sns.catplot(data = cat_df, kind = 'bar', x = 'self_reported_attitude', y = 'proportion', hue = 'primary_emotion') "
   ]
  },
  {
   "cell_type": "markdown",
   "metadata": {},
   "source": [
    "### Participants who self-reported a negative attitude had less facial happiness."
   ]
  },
  {
   "cell_type": "markdown",
   "metadata": {},
   "source": [
    "# \n",
    "# Using Python, there are numerous types of visualizations you have at your disposal to examine the shape of your data.\n",
    "### The remainder of this workshop will go over different visualizations you can produce to generate meaningful insights from this dataset.\n",
    "# "
   ]
  },
  {
   "cell_type": "markdown",
   "metadata": {},
   "source": [
    "# <font color='#32925E'> What were the session lengths? </font>\n",
    "\n",
    "### <font color='#9E54C0'> **Exercise: find the length of the test session (in minutes) for each participant.** </font>"
   ]
  },
  {
   "cell_type": "code",
   "execution_count": null,
   "metadata": {},
   "outputs": [],
   "source": [
    "# Hint: .max() finds the maximum of a column of numbers.\n",
    "\n",
    "df.groupby(____)[____].max()\n",
    "# df.groupby('participant_id_start_at_zero')['capture_time_mins'].max()"
   ]
  },
  {
   "cell_type": "markdown",
   "metadata": {},
   "source": [
    "### For an even better idea of how long most sessions were, we can create a quick and dirty histogram with just one more function wrapped around the same code."
   ]
  },
  {
   "cell_type": "code",
   "execution_count": null,
   "metadata": {},
   "outputs": [],
   "source": [
    "session_lengths = df.groupby('participant_id_zero')['capture_time_mins'].max() # same exact code as in the exercise above\n",
    "\n",
    "sns.histplot(session_lengths, kde = True, stat = 'probability')"
   ]
  },
  {
   "cell_type": "markdown",
   "metadata": {},
   "source": [
    "# <font color='#32925E'> What about the average time per task for participants? </font>"
   ]
  },
  {
   "cell_type": "markdown",
   "metadata": {},
   "source": [
    "### <font color='#9E54C0'> **Exercise: Identify which task took the longest on average.** </font>"
   ]
  },
  {
   "cell_type": "code",
   "execution_count": null,
   "metadata": {},
   "outputs": [],
   "source": [
    "avg_task_time = df.groupby(['task', '____'])['capture_time_mins'].____().reset_index()"
   ]
  },
  {
   "cell_type": "code",
   "execution_count": null,
   "metadata": {},
   "outputs": [],
   "source": [
    "# avg_task_time = df.groupby(['task', 'participant_id_zero'])['capture_time_mins'].mean().reset_index()"
   ]
  },
  {
   "cell_type": "code",
   "execution_count": null,
   "metadata": {},
   "outputs": [],
   "source": [
    "avg_task_time"
   ]
  },
  {
   "cell_type": "code",
   "execution_count": null,
   "metadata": {},
   "outputs": [],
   "source": [
    "sns.boxplot(data = avg_task_time, x = 'task', y = 'capture_time_mins')"
   ]
  },
  {
   "cell_type": "markdown",
   "metadata": {},
   "source": [
    "# \n",
    "# <font color='#32925E'> **Are happiness and confusion negatively correlated?** </font>"
   ]
  },
  {
   "cell_type": "markdown",
   "metadata": {},
   "source": [
    "### It seems obvious that they should be, but let's confirm!"
   ]
  },
  {
   "cell_type": "code",
   "execution_count": null,
   "metadata": {},
   "outputs": [],
   "source": [
    "# Each data point is a participant\n",
    "\n",
    "happiness_by_participant = df.groupby('participant_id_zero')['happiness'].mean()\n",
    "confusion_by_participant = df.groupby('participant_id_zero')['confusion'].mean()\n",
    "\n",
    "sns.regplot(x = happiness_by_participant, y = confusion_by_participant, ci=0)"
   ]
  },
  {
   "cell_type": "markdown",
   "metadata": {},
   "source": [
    "### Looks like a negative correlation - but let's double-check that directly"
   ]
  },
  {
   "cell_type": "code",
   "execution_count": null,
   "metadata": {},
   "outputs": [],
   "source": [
    "df[['happiness', 'confusion']].corr()"
   ]
  },
  {
   "cell_type": "markdown",
   "metadata": {},
   "source": [
    "### As expected, there's a small but significant negative correlation between facial happiness and facial confusion."
   ]
  },
  {
   "cell_type": "markdown",
   "metadata": {},
   "source": [
    "### \n",
    "# <font color='#32925E'> **Finding delight: Identifying when participants are \"extremely happy\"** </font>"
   ]
  },
  {
   "cell_type": "markdown",
   "metadata": {},
   "source": [
    "# \n",
    "# <font color='#32925E'> Do people get more happy or more confused over time? </font>"
   ]
  },
  {
   "cell_type": "markdown",
   "metadata": {},
   "source": [
    "# <font color='red'>Z-score is probably not a good example to use for anything here. Find a different function to use, while trying to keep the above topic. Also create a fake Happiness that's normally distributed, AND in a way that keeps all our earlier findings intact."
   ]
  },
  {
   "cell_type": "markdown",
   "metadata": {},
   "source": [
    "### In UX, this facial emotion-analysis tool gives us the unique opportunity to go back and see what made participants happiest during a task, even if they didn't self-report it. But first we need to define the cutoff for \"extremely happy\".\n",
    "### An accepted way to \"standardize\" continuous variables (i.e., put them all on a comparable scale) is to create their **Z-score**: from every value, subtract the mean and divide by the standard deviation. The resulting variable always has Mean==0 and Standard Deviation ==1. A Z-score >3 or <-3 is commonly considered extreme.\n",
    "### "
   ]
  },
  {
   "cell_type": "markdown",
   "metadata": {},
   "source": [
    "### Let's write a reusable function that will take any one Happiness value and make a Happiness Z-score out of it"
   ]
  },
  {
   "cell_type": "code",
   "execution_count": null,
   "metadata": {},
   "outputs": [],
   "source": [
    "def z_score(happiness_series):\n",
    "    \n",
    "    happiness_z = (happiness_series - happiness_series.mean()) / happiness_series.std()\n",
    "    \n",
    "    return happiness_z"
   ]
  },
  {
   "cell_type": "code",
   "execution_count": null,
   "metadata": {},
   "outputs": [],
   "source": [
    "df.groupby('participant_id_zero')['happiness'].mean().sort_values(ascending = False)"
   ]
  },
  {
   "cell_type": "code",
   "execution_count": null,
   "metadata": {},
   "outputs": [],
   "source": [
    "df['norm_happiness'] = df.groupby('participant_id_zero')['happiness'].apply(z_score)"
   ]
  },
  {
   "cell_type": "markdown",
   "metadata": {},
   "source": [
    "### What would be the Z-score of a Happiness value of 0.55? (remember, the Happiness scale ranges from 0 to 1, so 0.55 might not seem that high)"
   ]
  },
  {
   "cell_type": "code",
   "execution_count": null,
   "metadata": {},
   "outputs": [],
   "source": [
    "z_score(0.55)"
   ]
  },
  {
   "cell_type": "markdown",
   "metadata": {},
   "source": [
    "### 0.55 on the Happiness scale is actually an extreme outlier with Z-score > 3."
   ]
  },
  {
   "cell_type": "markdown",
   "metadata": {},
   "source": [
    "### Now let's apply our Z-score function to the first real Happiness value in our actual data."
   ]
  },
  {
   "cell_type": "code",
   "execution_count": null,
   "metadata": {},
   "outputs": [],
   "source": [
    "df.head()"
   ]
  },
  {
   "cell_type": "markdown",
   "metadata": {},
   "source": [
    "### But instead of copying \"0.013309\", let's refer to its location in the dataframe: row 0, column \"happiness\""
   ]
  },
  {
   "cell_type": "code",
   "execution_count": null,
   "metadata": {},
   "outputs": [],
   "source": [
    "df.loc[0, 'happiness']"
   ]
  },
  {
   "cell_type": "markdown",
   "metadata": {},
   "source": [
    "### <font color='#9E54C0'> **Exercise: Find the Confusion value in the 100,000th row of the dataset.** </font>"
   ]
  },
  {
   "cell_type": "code",
   "execution_count": null,
   "metadata": {},
   "outputs": [],
   "source": [
    "df.____[____, ____]"
   ]
  },
  {
   "cell_type": "markdown",
   "metadata": {},
   "source": [
    "### Now let's literally \"apply\" our Z-score function to _every single row_ of the Happiness column in one short line of code!"
   ]
  },
  {
   "cell_type": "code",
   "execution_count": null,
   "metadata": {},
   "outputs": [],
   "source": [
    "df['happiness_z_score'] = df['happiness'].apply(z_score)\n",
    "df['happiness_z_score']"
   ]
  },
  {
   "cell_type": "markdown",
   "metadata": {},
   "source": [
    "### <font color='#9E54C0'> **Exercise: Confirm that the mean of the Happiness Z-score is indeed 0 and the standard deviation is indeed 1.** </font>"
   ]
  },
  {
   "cell_type": "code",
   "execution_count": null,
   "metadata": {},
   "outputs": [],
   "source": [
    "df['happiness'].apply(z_score).____.round(3)"
   ]
  },
  {
   "cell_type": "markdown",
   "metadata": {},
   "source": [
    "# \n",
    "# <font color='red'> **DON'T TRY THIS AT HOME (WITH EXCEL)**\n",
    "# <font color='red'> (example of something complicated to do in Excel that takes one line of Python)"
   ]
  },
  {
   "cell_type": "code",
   "execution_count": null,
   "metadata": {},
   "outputs": [],
   "source": []
  },
  {
   "cell_type": "markdown",
   "metadata": {},
   "source": [
    "# \n",
    "# **POST-WORKSHOP: TEACHING YOURSELF**\n",
    "# "
   ]
  },
  {
   "cell_type": "markdown",
   "metadata": {},
   "source": [
    "### Google \"python create repeating list\""
   ]
  },
  {
   "cell_type": "code",
   "execution_count": null,
   "metadata": {},
   "outputs": [],
   "source": [
    "# From: https://stackoverflow.com/questions/3459098/create-list-of-single-item-repeated-n-times\n",
    "\n",
    "e = 'A'\n",
    "n = 100\n",
    "\n",
    "print([e] * n)"
   ]
  },
  {
   "cell_type": "markdown",
   "metadata": {},
   "source": [
    "# \n",
    "# <font color='red'> **ADD: HOW TO SAVE CSVs AND FIGURES** </font>"
   ]
  },
  {
   "cell_type": "markdown",
   "metadata": {},
   "source": [
    "### \n",
    "# <font color='#32925E'> **You want to read only the first 50 rows of a CSV. You've never done this before.** </font>"
   ]
  },
  {
   "cell_type": "markdown",
   "metadata": {},
   "source": [
    "### Google \"pandas read csv\""
   ]
  },
  {
   "cell_type": "code",
   "execution_count": null,
   "metadata": {},
   "outputs": [],
   "source": [
    "df = pd.read_csv('face_data.csv', ____=50)\n",
    "\n",
    "df"
   ]
  },
  {
   "cell_type": "markdown",
   "metadata": {},
   "source": [
    "# \n",
    "# **EXTRA CONTENT**\n",
    "# "
   ]
  },
  {
   "cell_type": "markdown",
   "metadata": {},
   "source": [
    "# ADDITIONAL VISUALIZATION IDEAS"
   ]
  },
  {
   "cell_type": "code",
   "execution_count": null,
   "metadata": {},
   "outputs": [],
   "source": [
    "test = df.groupby(['task', 'participant_id']).apply(len).reset_index()\n",
    "test.columns = ['task', 'participant_id', 'session_length_mins']\n",
    "test['session_length_mins'] = test['session_length_mins'] / 600\n",
    "test"
   ]
  },
  {
   "cell_type": "code",
   "execution_count": null,
   "metadata": {},
   "outputs": [],
   "source": [
    "# How long each task took. Issue: creating dataset for it is complex / out of scope.\n",
    "\n",
    "sns.boxplot(test.session_length_mins, test.task)"
   ]
  },
  {
   "cell_type": "code",
   "execution_count": null,
   "metadata": {},
   "outputs": [],
   "source": [
    "# How long did self-reportedly unhappy vs. neutral vs. happy participants take to get thru the session?\n",
    "\n",
    "test2 = df.groupby(['self_reported_attitude', 'participant_id']).apply(len).reset_index()\n",
    "test2.columns = ['self_reported_attitude', 'participant_id', 'session_length_mins']\n",
    "test2['session_length_mins'] = test['session_length_mins'] / 600\n",
    "test2"
   ]
  },
  {
   "cell_type": "code",
   "execution_count": null,
   "metadata": {},
   "outputs": [],
   "source": [
    "# How long each type of participant took. Issue: creating dataset for it is complex / out of scope.\n",
    "\n",
    "sns.boxplot(test2.session_length_mins, test2.self_reported_attitude)"
   ]
  },
  {
   "cell_type": "code",
   "execution_count": null,
   "metadata": {},
   "outputs": [],
   "source": []
  }
 ],
 "metadata": {
  "kernelspec": {
   "display_name": "Python 3",
   "language": "python",
   "name": "python3"
  },
  "language_info": {
   "codemirror_mode": {
    "name": "ipython",
    "version": 3
   },
   "file_extension": ".py",
   "mimetype": "text/x-python",
   "name": "python",
   "nbconvert_exporter": "python",
   "pygments_lexer": "ipython3",
   "version": "3.6.10"
  }
 },
 "nbformat": 4,
 "nbformat_minor": 4
}
