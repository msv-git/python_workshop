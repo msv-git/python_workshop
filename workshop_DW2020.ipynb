{
 "cells": [
  {
   "cell_type": "markdown",
   "metadata": {},
   "source": [
    "<img src=\"./images/title_slide.png\" width=\"1020\" align=\"center\" border = \"5px solid #555\">"
   ]
  },
  {
   "cell_type": "markdown",
   "metadata": {},
   "source": [
    "<img src=\"./images/presenters.png\" width=\"1020\" align=\"center\" border = \"5px solid #555\">"
   ]
  },
  {
   "cell_type": "markdown",
   "metadata": {},
   "source": [
    "<img src=\"./images/why_python.png\" width=\"1020\" align=\"center\" border = \"5px solid #555\">"
   ]
  },
  {
   "cell_type": "markdown",
   "metadata": {},
   "source": [
    "<img src=\"./images/python_better_than_excel.png\" width=\"1020\" align=\"center\" border = \"5px solid #555\">"
   ]
  },
  {
   "cell_type": "markdown",
   "metadata": {},
   "source": [
    "# The goal is to eventually be like this guy:"
   ]
  },
  {
   "cell_type": "markdown",
   "metadata": {},
   "source": [
    "<img src=\"https://www.abc.net.au/cm/rimage/12082194-3x2-xlarge.jpg\" width=\"750\" border = \"5px solid #555\" align=\"center\" >"
   ]
  },
  {
   "cell_type": "markdown",
   "metadata": {},
   "source": [
    "# But we'll start here:"
   ]
  },
  {
   "cell_type": "markdown",
   "metadata": {},
   "source": [
    "<img src=\"./images/snake-charmer-simple-icon-vector-6819909.jpg\" width=\"200\" align=\"center\" border = \"5px solid #555\">"
   ]
  },
  {
   "cell_type": "markdown",
   "metadata": {},
   "source": [
    "# This is a \"Jupyter notebook\": a beginner-friendly environment to start learning and playing with Python in a web browser.\n",
    "# A notebook consists of _cells_ (see what the arrow is pointing to below). Each cell can contain:\n",
    "## 1. Python code\n",
    "## 2. Markdown (i.e., a _fancy_ way to present **text**)\n",
    "## 3. `Raw text`"
   ]
  },
  {
   "cell_type": "markdown",
   "metadata": {},
   "source": [
    " <img src=\"./images/down_arrow.gif\" width=\"100\" align=\"left\">"
   ]
  },
  {
   "cell_type": "code",
   "execution_count": null,
   "metadata": {},
   "outputs": [],
   "source": []
  },
  {
   "cell_type": "markdown",
   "metadata": {},
   "source": [
    "# \n",
    "# Each cell below contains Python code. You can run the code in the cell by clicking into the cell, then pressing <font color='#9E54C0'>**CTRL-ENTER**</font>, or by clicking the Play icon on the upper left. The output of the code (if any) shows up right below that cell.\n",
    "# <img src=\"./images/notebook_options_light.png\">"
   ]
  },
  {
   "cell_type": "markdown",
   "metadata": {},
   "source": [
    "# \n",
    "# \n",
    "# For the remainder of this notebook, pay attention to the text color _above_ cells:\n",
    "### 1. Most of the text is in black font, which is informative only. \n",
    "### 2. The word <span style=\"color:#9E54C0\"> **\"Exercise\"** </span> indicates when you should try out what you've learned.\n",
    "# \n",
    "# "
   ]
  },
  {
   "cell_type": "markdown",
   "metadata": {},
   "source": [
    "### Click into this next cell and run it."
   ]
  },
  {
   "cell_type": "code",
   "execution_count": 2,
   "metadata": {},
   "outputs": [],
   "source": [
    "print(\"Hello, world!\")"
   ]
  },
  {
   "cell_type": "markdown",
   "metadata": {},
   "source": [
    "# \n",
    "# **PYTHON BASICS**"
   ]
  },
  {
   "cell_type": "markdown",
   "metadata": {},
   "source": [
    "# Let's start with some basic information that you'll need to know in order to work through the exercises today.\n",
    "\n",
    "## \n",
    "\n"
   ]
  },
  {
   "cell_type": "markdown",
   "metadata": {},
   "source": [
    "### In this section, we'll be going over _**variables**_.\n",
    "### In math we learned about variables (e.g., x = 4), and in Python variables generally work in the same way. \n",
    "### A **variable** is a stand-in value that represents one or more values. \n",
    "# \n",
    "### In Python, you may use any name you want for a variable **so long as**:\n",
    "### &nbsp;&nbsp;&nbsp;&nbsp;&nbsp;&nbsp; 1. The variable name does **not** start with a number \n",
    "### &nbsp;&nbsp;&nbsp;&nbsp;&nbsp;&nbsp; 2. There are **no spaces** between characters in the variable name"
   ]
  },
  {
   "cell_type": "markdown",
   "metadata": {},
   "source": [
    "### Some variables contain just one value. Those can be one of **four types**:\n",
    "### &nbsp;&nbsp;&nbsp;&nbsp;&nbsp;&nbsp; 1. an **integer** (e.g., 5)\n",
    "### &nbsp;&nbsp;&nbsp;&nbsp;&nbsp;&nbsp; 2. a **float** (e.g., 5.0)\n",
    "### &nbsp;&nbsp;&nbsp;&nbsp;&nbsp;&nbsp; 3. a **string** (e.g., 'abc' or '5')\n",
    "### &nbsp;&nbsp;&nbsp;&nbsp;&nbsp;&nbsp; 4. a **boolean** (True or False)"
   ]
  },
  {
   "cell_type": "code",
   "execution_count": 11,
   "metadata": {},
   "outputs": [],
   "source": [
    "# Remember, use CTRL-ENTER to run a cell\n",
    "\n",
    "a=5\n",
    "\n",
    "b=5.0\n",
    "\n",
    "c='abc'\n",
    "\n",
    "d=False"
   ]
  },
  {
   "cell_type": "code",
   "execution_count": 12,
   "metadata": {},
   "outputs": [
    {
     "name": "stdout",
     "output_type": "stream",
     "text": [
      "5\n",
      "5.0\n",
      "abc\n",
      "False\n"
     ]
    }
   ],
   "source": [
    "print(a)\n",
    "print(b)\n",
    "print(c)\n",
    "print(d)"
   ]
  },
  {
   "cell_type": "markdown",
   "metadata": {},
   "source": [
    "### \n",
    "### <font color='#9E54C0'> **EXERCISE: Display the _type_ for each of the four variables we created above.**  </font>"
   ]
  },
  {
   "cell_type": "markdown",
   "metadata": {},
   "source": [
    "### Hint: each time a \"____\" shows up, it's your job to replace it with the correct code **(not necessarily 4 characters long!)**"
   ]
  },
  {
   "cell_type": "code",
   "execution_count": null,
   "metadata": {},
   "outputs": [],
   "source": [
    "print(type(a))\n",
    "____(type(b))\n",
    "print(____(c))\n",
    "____(____(d))"
   ]
  },
  {
   "cell_type": "markdown",
   "metadata": {},
   "source": [
    "### True is equivalent to 1, False is equivalent to 0"
   ]
  },
  {
   "cell_type": "code",
   "execution_count": 13,
   "metadata": {},
   "outputs": [
    {
     "name": "stdout",
     "output_type": "stream",
     "text": [
      "2\n",
      "0\n"
     ]
    }
   ],
   "source": [
    "print(True + True)\n",
    "print(False * 10)"
   ]
  },
  {
   "cell_type": "markdown",
   "metadata": {},
   "source": [
    "### The \"==\" symbol checks if two things are equal"
   ]
  },
  {
   "cell_type": "code",
   "execution_count": 14,
   "metadata": {},
   "outputs": [
    {
     "name": "stdout",
     "output_type": "stream",
     "text": [
      "False\n",
      "True\n",
      "True\n",
      "True\n"
     ]
    }
   ],
   "source": [
    "print(3==5)\n",
    "print(5==5)\n",
    "print(a==5)\n",
    "print(False==0)"
   ]
  },
  {
   "cell_type": "markdown",
   "metadata": {},
   "source": [
    "## Python Lists"
   ]
  },
  {
   "cell_type": "markdown",
   "metadata": {},
   "source": [
    "### A variable can also contain many values at once. The most common example of this kind of variable in Python is a **list**. \n",
    "### You know it's a list because it has brackets [ ] with one or more values inside.\n",
    "### A list can hold any number of any kind of values, and therefore is incredibly flexible and useful for python coders."
   ]
  },
  {
   "cell_type": "code",
   "execution_count": 7,
   "metadata": {},
   "outputs": [
    {
     "name": "stdout",
     "output_type": "stream",
     "text": [
      "['a', 5, True, 'DESIGN', 0.9]\n",
      "<class 'list'>\n",
      "5\n"
     ]
    }
   ],
   "source": [
    "my_list = ['a', 5, True, 'DESIGN', 0.9]\n",
    "\n",
    "print(my_list)\n",
    "print(type(my_list))\n",
    "print(len(my_list))"
   ]
  },
  {
   "cell_type": "markdown",
   "metadata": {},
   "source": [
    "### Generally, we create lists because we want to access the items inside.\n",
    "\n",
    "### If you want a particular value in the list, use brackets to extract it. The number inside the brackets indicates the position inside the list."
   ]
  },
  {
   "cell_type": "code",
   "execution_count": 8,
   "metadata": {},
   "outputs": [
    {
     "name": "stdout",
     "output_type": "stream",
     "text": [
      "a\n"
     ]
    }
   ],
   "source": [
    "print(my_list[0])"
   ]
  },
  {
   "cell_type": "markdown",
   "metadata": {},
   "source": [
    "### Why 0? Python is what's called a \"zero-indexing\" language, where the first thing in any data structure is actually the \"zeroth\" thing."
   ]
  },
  {
   "cell_type": "markdown",
   "metadata": {},
   "source": [
    "### <font color='#9E54C0'> **EXERCISE: Extract and print the last item in the list.**  </font>"
   ]
  },
  {
   "cell_type": "code",
   "execution_count": null,
   "metadata": {},
   "outputs": [],
   "source": [
    "print(____)"
   ]
  },
  {
   "cell_type": "markdown",
   "metadata": {},
   "source": [
    "### \n",
    "## Errors in Python\n",
    "### If you try something crazy, Python will print an **error**. \n",
    "### At first, errors may be incomprehensible and frustrating. \n",
    "### With a little experience, it'll start becoming obvious what you need to fix as soon as you see an error. You'll say \"duh!\" a lot and it'll feel good."
   ]
  },
  {
   "cell_type": "markdown",
   "metadata": {},
   "source": [
    "### \n",
    "### <font color='#9E54C0'> **EXERCISE: Try running each cell below.**  </font>"
   ]
  },
  {
   "cell_type": "code",
   "execution_count": 3,
   "metadata": {},
   "outputs": [],
   "source": [
    "3=5"
   ]
  },
  {
   "cell_type": "code",
   "execution_count": null,
   "metadata": {},
   "outputs": [],
   "source": [
    "print(3"
   ]
  },
  {
   "cell_type": "code",
   "execution_count": null,
   "metadata": {},
   "outputs": [],
   "source": [
    "my_list * my_list"
   ]
  },
  {
   "cell_type": "markdown",
   "metadata": {},
   "source": [
    "# \n",
    "# Comments\n",
    "### Comments are incredibly useful in any coding language. \n",
    "### Code is read way more often than it is written, so comments allow others (including future versions of yourself) ways to understand what your code is doing.\n",
    "\n",
    "### Comments are also a useful way to keep code in a particular cell without having to run it."
   ]
  },
  {
   "cell_type": "code",
   "execution_count": 21,
   "metadata": {},
   "outputs": [],
   "source": [
    "# This is a comment about the line of code below so I can remember what it does\n",
    "a=5\n",
    "\n",
    "# I want to skip the line of code below for now, without deleting it, so I commented it out.\n",
    "# b=5.0"
   ]
  },
  {
   "cell_type": "markdown",
   "metadata": {},
   "source": [
    "### \n",
    "# That's it for Python basics! The rest of this workshop is dedicated entirely to the essential data-analysis and visualization packages.\n",
    "# If you'd like to learn more about Python, please see the links in our reference section below.\n",
    "### "
   ]
  },
  {
   "cell_type": "markdown",
   "metadata": {},
   "source": [
    "# \n",
    "# **ESSENTIAL DATA SCIENCE PACKAGES**\n",
    "### <img src=\"./images/numpylogo.png\" width=\"400\" align=\"center\">\n",
    "### <img src=\"./images/pandas_logo.png\" width=\"400\" align=\"center\">\n",
    "\n",
    "## The vast majority of what you do in Python will involve working within numpy and pandas (mostly pandas), rather than base Python.\n",
    "### "
   ]
  },
  {
   "cell_type": "markdown",
   "metadata": {},
   "source": [
    "# Importing packages to use in your notebook\n",
    "### **Packages** are collections of useful functions that allow you to do something with your data."
   ]
  },
  {
   "cell_type": "markdown",
   "metadata": {},
   "source": [
    "### Luckily for you, we've already installed these packages in your workspace.\n",
    "### Even though packages may already be installed, you still need to **import** them into your notebook.\n",
    "### Generally, python programmers use abbreviations for packages when they import them so that they don't have to type more letters when referencing the package in the notebook."
   ]
  },
  {
   "cell_type": "code",
   "execution_count": 4,
   "metadata": {},
   "outputs": [],
   "source": [
    "import numpy as np\n",
    "import pandas as pd"
   ]
  },
  {
   "cell_type": "markdown",
   "metadata": {},
   "source": [
    "### From this point on in the notebook, \"np. ...\" means the command comes from numpy, and \"pd. ...\" means it comes from pandas.\n",
    "### Jupyter Notebook allows you to use tab to auto complete phrases. If you type the abbreviated name of a package followed by \".\" and then hit the _Tab_ key, you'll see all of the functions associated with this package."
   ]
  },
  {
   "cell_type": "code",
   "execution_count": null,
   "metadata": {},
   "outputs": [],
   "source": [
    "np. # np.| <-- hit Tab once you place your cursor to the right of the \".\" as shown here"
   ]
  },
  {
   "cell_type": "markdown",
   "metadata": {},
   "source": [
    "### \n",
    "# **BACKGROUND: FACIAL MICROEXPRESSIONS DATASET**\n",
    "### "
   ]
  },
  {
   "cell_type": "markdown",
   "metadata": {},
   "source": [
    "### In 2018, our Design Research group ran a standard, ~30-minute, 1:1 in-person formative test of an enterprise software prototype with Oracle employee participants.\n",
    "### The test contained 3 realistic tasks for each participant to complete, while talking out loud. Each task ended with a special **Submit \"emo\"button** that allowed the participant to indicate their experience on the page (negative, neutral, or positive) at the exact same time as Submitting their data entry on the page. \n",
    "# \n",
    "# \n",
    "# \n",
    "# "
   ]
  },
  {
   "cell_type": "markdown",
   "metadata": {},
   "source": [
    "<img src=\"./images/emo_button.gif\" width=\"400\" align=\"center\">"
   ]
  },
  {
   "cell_type": "markdown",
   "metadata": {},
   "source": [
    "# \n",
    "## Testing this \"emobutton\" was the main goal of the research project: \n",
    "- <font size = 5 > Would participants notice it? \n",
    "- <font size = 5 > Would it seem like a valid measure of happiness or frustration?"
   ]
  },
  {
   "cell_type": "markdown",
   "metadata": {},
   "source": [
    "### Another special part of the study was that we recorded participants' faces the whole time. Then we ran the recordings through an emotional expression-detecting software called Noldus Facereader. This gave us a measure of how happy, confused, etc., each participant's face looked every 10th of a second for the entire duration. \n",
    "# \n",
    " <img src=\"./images/face_reader.gif\" width=\"750\" align=\"center\">\n",
    "\n",
    "# \n",
    "# \n",
    "# Our focus for the remainder of the workshop will be to explore some basic, fundamental questions about the data from this project - the <font size = 6 > \"shape of the data\" .\n",
    "# \n",
    "# "
   ]
  },
  {
   "cell_type": "markdown",
   "metadata": {},
   "source": [
    "<img src=\"./images/panda.jpeg\" width=\"800\" align=\"center\" border = \"5px solid #555\">"
   ]
  },
  {
   "cell_type": "markdown",
   "metadata": {},
   "source": [
    "### \n",
    "# **PANDAS**\n",
    "### is a package that allows you to efficiently view, edit, transform, and extract insights from 2-dimensional tables of data (called \"dataframes\").\n",
    "### It's sort of like Excel, but can perform a lot of things faster and easier.\n",
    "### "
   ]
  },
  {
   "cell_type": "markdown",
   "metadata": {},
   "source": [
    "### After importing useful packages, the next thing researchers need do is read in data. \n",
    "### Most of the time, the data we need will be either a \".csv\" or \".xlsx\" file format.\n",
    "# \n",
    "### Read in an **existing** CSV or Excel file and call it \"df\" (a common abbreviation that stands for \"dataframe\")\n",
    "\n",
    "### (this is how you'll start off most of the time in real life)"
   ]
  },
  {
   "cell_type": "code",
   "execution_count": 137,
   "metadata": {},
   "outputs": [],
   "source": [
    "df = pd.read_csv('face_data.csv')"
   ]
  },
  {
   "cell_type": "markdown",
   "metadata": {},
   "source": [
    "### As you can see, df is a pandas dataframe"
   ]
  },
  {
   "cell_type": "code",
   "execution_count": 7,
   "metadata": {},
   "outputs": [
    {
     "data": {
      "text/plain": [
       "pandas.core.frame.DataFrame"
      ]
     },
     "execution_count": 7,
     "metadata": {},
     "output_type": "execute_result"
    }
   ],
   "source": [
    "type(df)"
   ]
  },
  {
   "cell_type": "markdown",
   "metadata": {},
   "source": [
    "# \n",
    "### Beyond the data captured by Noldus Facereader, we also put together some data about participants. \n",
    "### We'll need to rely on information from both of those files for our work today."
   ]
  },
  {
   "cell_type": "markdown",
   "metadata": {},
   "source": [
    "### <font color='#9E54C0'> **EXERCISE: Read an Excel file named 'participant_data.xlsx' by using the command _pd.read_excel_. Call this dataframe \"dfp\".**  </font>"
   ]
  },
  {
   "cell_type": "code",
   "execution_count": 136,
   "metadata": {},
   "outputs": [],
   "source": [
    "dfp = pd.read_excel('participant_data.xlsx')"
   ]
  },
  {
   "cell_type": "code",
   "execution_count": null,
   "metadata": {},
   "outputs": [],
   "source": [
    "dfp = ____('____')"
   ]
  },
  {
   "cell_type": "markdown",
   "metadata": {},
   "source": [
    "# <font color='#32925E'> **Literally, what is the shape of the data?** </font>"
   ]
  },
  {
   "cell_type": "code",
   "execution_count": 8,
   "metadata": {},
   "outputs": [
    {
     "data": {
      "text/plain": [
       "(403932, 7)"
      ]
     },
     "execution_count": 8,
     "metadata": {},
     "output_type": "execute_result"
    }
   ],
   "source": [
    "df.shape"
   ]
  },
  {
   "cell_type": "markdown",
   "metadata": {},
   "source": [
    "### The 1st number in this output represents the number of rows in the df dataframe; the 2nd number is columns. \n",
    "### Given how large this file is, this is not something you'd want to open in Excel!\n",
    "# \n",
    "### `df.shape` returns a list-like object, so if you are interested in just the # of rows, you can \"index\" it like any other list:"
   ]
  },
  {
   "cell_type": "code",
   "execution_count": 10,
   "metadata": {},
   "outputs": [
    {
     "data": {
      "text/plain": [
       "403932"
      ]
     },
     "execution_count": 10,
     "metadata": {},
     "output_type": "execute_result"
    }
   ],
   "source": [
    "df.shape[0] # Remember, the 1st thing is really the 0th thing!"
   ]
  },
  {
   "cell_type": "markdown",
   "metadata": {},
   "source": [
    "# <font color='#32925E'> **What are the column names?** </font>"
   ]
  },
  {
   "cell_type": "code",
   "execution_count": 11,
   "metadata": {},
   "outputs": [
    {
     "data": {
      "text/plain": [
       "Index(['participant_id', 'capture_time_secs', 'happiness', 'confusion',\n",
       "       'primary_emotion', 'task', 'during_self_report'],\n",
       "      dtype='object')"
      ]
     },
     "execution_count": 11,
     "metadata": {},
     "output_type": "execute_result"
    }
   ],
   "source": [
    "df.columns"
   ]
  },
  {
   "cell_type": "markdown",
   "metadata": {},
   "source": [
    "# <font color='#32925E'> **That's fine, but what does the dataset actually _look like_?** </font>"
   ]
  },
  {
   "cell_type": "code",
   "execution_count": 12,
   "metadata": {},
   "outputs": [
    {
     "data": {
      "text/html": [
       "<div>\n",
       "<style scoped>\n",
       "    .dataframe tbody tr th:only-of-type {\n",
       "        vertical-align: middle;\n",
       "    }\n",
       "\n",
       "    .dataframe tbody tr th {\n",
       "        vertical-align: top;\n",
       "    }\n",
       "\n",
       "    .dataframe thead th {\n",
       "        text-align: right;\n",
       "    }\n",
       "</style>\n",
       "<table border=\"1\" class=\"dataframe\">\n",
       "  <thead>\n",
       "    <tr style=\"text-align: right;\">\n",
       "      <th></th>\n",
       "      <th>participant_id</th>\n",
       "      <th>capture_time_secs</th>\n",
       "      <th>happiness</th>\n",
       "      <th>confusion</th>\n",
       "      <th>primary_emotion</th>\n",
       "      <th>task</th>\n",
       "      <th>during_self_report</th>\n",
       "    </tr>\n",
       "  </thead>\n",
       "  <tbody>\n",
       "    <tr>\n",
       "      <th>0</th>\n",
       "      <td>1</td>\n",
       "      <td>0.0</td>\n",
       "      <td>0.013309</td>\n",
       "      <td>NaN</td>\n",
       "      <td>happiness</td>\n",
       "      <td>no task</td>\n",
       "      <td>False</td>\n",
       "    </tr>\n",
       "    <tr>\n",
       "      <th>1</th>\n",
       "      <td>1</td>\n",
       "      <td>0.1</td>\n",
       "      <td>0.013633</td>\n",
       "      <td>NaN</td>\n",
       "      <td>happiness</td>\n",
       "      <td>no task</td>\n",
       "      <td>False</td>\n",
       "    </tr>\n",
       "    <tr>\n",
       "      <th>2</th>\n",
       "      <td>1</td>\n",
       "      <td>0.2</td>\n",
       "      <td>0.015672</td>\n",
       "      <td>NaN</td>\n",
       "      <td>happiness</td>\n",
       "      <td>no task</td>\n",
       "      <td>False</td>\n",
       "    </tr>\n",
       "    <tr>\n",
       "      <th>3</th>\n",
       "      <td>1</td>\n",
       "      <td>0.3</td>\n",
       "      <td>0.019451</td>\n",
       "      <td>NaN</td>\n",
       "      <td>happiness</td>\n",
       "      <td>no task</td>\n",
       "      <td>False</td>\n",
       "    </tr>\n",
       "    <tr>\n",
       "      <th>4</th>\n",
       "      <td>1</td>\n",
       "      <td>0.4</td>\n",
       "      <td>NaN</td>\n",
       "      <td>NaN</td>\n",
       "      <td>NaN</td>\n",
       "      <td>no task</td>\n",
       "      <td>False</td>\n",
       "    </tr>\n",
       "    <tr>\n",
       "      <th>...</th>\n",
       "      <td>...</td>\n",
       "      <td>...</td>\n",
       "      <td>...</td>\n",
       "      <td>...</td>\n",
       "      <td>...</td>\n",
       "      <td>...</td>\n",
       "      <td>...</td>\n",
       "    </tr>\n",
       "    <tr>\n",
       "      <th>403927</th>\n",
       "      <td>22</td>\n",
       "      <td>1781.7</td>\n",
       "      <td>0.000031</td>\n",
       "      <td>0.044686</td>\n",
       "      <td>confusion</td>\n",
       "      <td>no task</td>\n",
       "      <td>False</td>\n",
       "    </tr>\n",
       "    <tr>\n",
       "      <th>403928</th>\n",
       "      <td>22</td>\n",
       "      <td>1781.8</td>\n",
       "      <td>0.000405</td>\n",
       "      <td>0.071171</td>\n",
       "      <td>confusion</td>\n",
       "      <td>no task</td>\n",
       "      <td>False</td>\n",
       "    </tr>\n",
       "    <tr>\n",
       "      <th>403929</th>\n",
       "      <td>22</td>\n",
       "      <td>1781.9</td>\n",
       "      <td>0.000320</td>\n",
       "      <td>0.017704</td>\n",
       "      <td>confusion</td>\n",
       "      <td>no task</td>\n",
       "      <td>False</td>\n",
       "    </tr>\n",
       "    <tr>\n",
       "      <th>403930</th>\n",
       "      <td>22</td>\n",
       "      <td>1782.0</td>\n",
       "      <td>0.000050</td>\n",
       "      <td>0.000000</td>\n",
       "      <td>happiness</td>\n",
       "      <td>no task</td>\n",
       "      <td>False</td>\n",
       "    </tr>\n",
       "    <tr>\n",
       "      <th>403931</th>\n",
       "      <td>22</td>\n",
       "      <td>1782.1</td>\n",
       "      <td>0.018199</td>\n",
       "      <td>0.020687</td>\n",
       "      <td>confusion</td>\n",
       "      <td>no task</td>\n",
       "      <td>False</td>\n",
       "    </tr>\n",
       "  </tbody>\n",
       "</table>\n",
       "<p>403932 rows × 7 columns</p>\n",
       "</div>"
      ],
      "text/plain": [
       "        participant_id  capture_time_secs  happiness  confusion  \\\n",
       "0                    1                0.0   0.013309        NaN   \n",
       "1                    1                0.1   0.013633        NaN   \n",
       "2                    1                0.2   0.015672        NaN   \n",
       "3                    1                0.3   0.019451        NaN   \n",
       "4                    1                0.4        NaN        NaN   \n",
       "...                ...                ...        ...        ...   \n",
       "403927              22             1781.7   0.000031   0.044686   \n",
       "403928              22             1781.8   0.000405   0.071171   \n",
       "403929              22             1781.9   0.000320   0.017704   \n",
       "403930              22             1782.0   0.000050   0.000000   \n",
       "403931              22             1782.1   0.018199   0.020687   \n",
       "\n",
       "       primary_emotion     task  during_self_report  \n",
       "0            happiness  no task               False  \n",
       "1            happiness  no task               False  \n",
       "2            happiness  no task               False  \n",
       "3            happiness  no task               False  \n",
       "4                  NaN  no task               False  \n",
       "...                ...      ...                 ...  \n",
       "403927       confusion  no task               False  \n",
       "403928       confusion  no task               False  \n",
       "403929       confusion  no task               False  \n",
       "403930       happiness  no task               False  \n",
       "403931       confusion  no task               False  \n",
       "\n",
       "[403932 rows x 7 columns]"
      ]
     },
     "execution_count": 12,
     "metadata": {},
     "output_type": "execute_result"
    }
   ],
   "source": [
    "df"
   ]
  },
  {
   "cell_type": "markdown",
   "metadata": {},
   "source": [
    "### Pandas displays information in a neat and visible way. \n",
    "### When the dataframe has a large number of rows, Pandas puts \"...\" in the middle to show you the first five and the last five rows of the dataframe.\n",
    "\n"
   ]
  },
  {
   "cell_type": "markdown",
   "metadata": {},
   "source": [
    "# <font color='#32925E'> **What if I want to see just the first few rows?** </font>"
   ]
  },
  {
   "cell_type": "code",
   "execution_count": 13,
   "metadata": {},
   "outputs": [
    {
     "data": {
      "text/html": [
       "<div>\n",
       "<style scoped>\n",
       "    .dataframe tbody tr th:only-of-type {\n",
       "        vertical-align: middle;\n",
       "    }\n",
       "\n",
       "    .dataframe tbody tr th {\n",
       "        vertical-align: top;\n",
       "    }\n",
       "\n",
       "    .dataframe thead th {\n",
       "        text-align: right;\n",
       "    }\n",
       "</style>\n",
       "<table border=\"1\" class=\"dataframe\">\n",
       "  <thead>\n",
       "    <tr style=\"text-align: right;\">\n",
       "      <th></th>\n",
       "      <th>participant_id</th>\n",
       "      <th>capture_time_secs</th>\n",
       "      <th>happiness</th>\n",
       "      <th>confusion</th>\n",
       "      <th>primary_emotion</th>\n",
       "      <th>task</th>\n",
       "      <th>during_self_report</th>\n",
       "    </tr>\n",
       "  </thead>\n",
       "  <tbody>\n",
       "    <tr>\n",
       "      <th>0</th>\n",
       "      <td>1</td>\n",
       "      <td>0.0</td>\n",
       "      <td>0.013309</td>\n",
       "      <td>NaN</td>\n",
       "      <td>happiness</td>\n",
       "      <td>no task</td>\n",
       "      <td>False</td>\n",
       "    </tr>\n",
       "    <tr>\n",
       "      <th>1</th>\n",
       "      <td>1</td>\n",
       "      <td>0.1</td>\n",
       "      <td>0.013633</td>\n",
       "      <td>NaN</td>\n",
       "      <td>happiness</td>\n",
       "      <td>no task</td>\n",
       "      <td>False</td>\n",
       "    </tr>\n",
       "    <tr>\n",
       "      <th>2</th>\n",
       "      <td>1</td>\n",
       "      <td>0.2</td>\n",
       "      <td>0.015672</td>\n",
       "      <td>NaN</td>\n",
       "      <td>happiness</td>\n",
       "      <td>no task</td>\n",
       "      <td>False</td>\n",
       "    </tr>\n",
       "    <tr>\n",
       "      <th>3</th>\n",
       "      <td>1</td>\n",
       "      <td>0.3</td>\n",
       "      <td>0.019451</td>\n",
       "      <td>NaN</td>\n",
       "      <td>happiness</td>\n",
       "      <td>no task</td>\n",
       "      <td>False</td>\n",
       "    </tr>\n",
       "    <tr>\n",
       "      <th>4</th>\n",
       "      <td>1</td>\n",
       "      <td>0.4</td>\n",
       "      <td>NaN</td>\n",
       "      <td>NaN</td>\n",
       "      <td>NaN</td>\n",
       "      <td>no task</td>\n",
       "      <td>False</td>\n",
       "    </tr>\n",
       "  </tbody>\n",
       "</table>\n",
       "</div>"
      ],
      "text/plain": [
       "   participant_id  capture_time_secs  happiness  confusion primary_emotion  \\\n",
       "0               1                0.0   0.013309        NaN       happiness   \n",
       "1               1                0.1   0.013633        NaN       happiness   \n",
       "2               1                0.2   0.015672        NaN       happiness   \n",
       "3               1                0.3   0.019451        NaN       happiness   \n",
       "4               1                0.4        NaN        NaN             NaN   \n",
       "\n",
       "      task  during_self_report  \n",
       "0  no task               False  \n",
       "1  no task               False  \n",
       "2  no task               False  \n",
       "3  no task               False  \n",
       "4  no task               False  "
      ]
     },
     "execution_count": 13,
     "metadata": {},
     "output_type": "execute_result"
    }
   ],
   "source": [
    "df.head(5)"
   ]
  },
  {
   "cell_type": "markdown",
   "metadata": {},
   "source": [
    "### \n",
    "### You may have noticed the following pattern above: `df.some_attribute` or `df.some_function()`\n",
    "### This makes Python syntax more user-friendly than some other languages, like Excel syntax. Instead of this:\n",
    "### `function3(function2(function1(df)))` , you usually write and see this:\n",
    "### `df.function1().function2().function3()` . Much better, right?\n",
    "### "
   ]
  },
  {
   "cell_type": "markdown",
   "metadata": {},
   "source": [
    "### \n",
    "# **DIVING INTO THE FACIAL MICROEXPRESSIONS DATASET: DETAILS**"
   ]
  },
  {
   "cell_type": "code",
   "execution_count": 14,
   "metadata": {},
   "outputs": [
    {
     "data": {
      "text/html": [
       "<div>\n",
       "<style scoped>\n",
       "    .dataframe tbody tr th:only-of-type {\n",
       "        vertical-align: middle;\n",
       "    }\n",
       "\n",
       "    .dataframe tbody tr th {\n",
       "        vertical-align: top;\n",
       "    }\n",
       "\n",
       "    .dataframe thead th {\n",
       "        text-align: right;\n",
       "    }\n",
       "</style>\n",
       "<table border=\"1\" class=\"dataframe\">\n",
       "  <thead>\n",
       "    <tr style=\"text-align: right;\">\n",
       "      <th></th>\n",
       "      <th>participant_id</th>\n",
       "      <th>capture_time_secs</th>\n",
       "      <th>happiness</th>\n",
       "      <th>confusion</th>\n",
       "      <th>primary_emotion</th>\n",
       "      <th>task</th>\n",
       "      <th>during_self_report</th>\n",
       "    </tr>\n",
       "  </thead>\n",
       "  <tbody>\n",
       "    <tr>\n",
       "      <th>0</th>\n",
       "      <td>1</td>\n",
       "      <td>0.0</td>\n",
       "      <td>0.013309</td>\n",
       "      <td>NaN</td>\n",
       "      <td>happiness</td>\n",
       "      <td>no task</td>\n",
       "      <td>False</td>\n",
       "    </tr>\n",
       "    <tr>\n",
       "      <th>1</th>\n",
       "      <td>1</td>\n",
       "      <td>0.1</td>\n",
       "      <td>0.013633</td>\n",
       "      <td>NaN</td>\n",
       "      <td>happiness</td>\n",
       "      <td>no task</td>\n",
       "      <td>False</td>\n",
       "    </tr>\n",
       "    <tr>\n",
       "      <th>2</th>\n",
       "      <td>1</td>\n",
       "      <td>0.2</td>\n",
       "      <td>0.015672</td>\n",
       "      <td>NaN</td>\n",
       "      <td>happiness</td>\n",
       "      <td>no task</td>\n",
       "      <td>False</td>\n",
       "    </tr>\n",
       "    <tr>\n",
       "      <th>3</th>\n",
       "      <td>1</td>\n",
       "      <td>0.3</td>\n",
       "      <td>0.019451</td>\n",
       "      <td>NaN</td>\n",
       "      <td>happiness</td>\n",
       "      <td>no task</td>\n",
       "      <td>False</td>\n",
       "    </tr>\n",
       "    <tr>\n",
       "      <th>4</th>\n",
       "      <td>1</td>\n",
       "      <td>0.4</td>\n",
       "      <td>NaN</td>\n",
       "      <td>NaN</td>\n",
       "      <td>NaN</td>\n",
       "      <td>no task</td>\n",
       "      <td>False</td>\n",
       "    </tr>\n",
       "  </tbody>\n",
       "</table>\n",
       "</div>"
      ],
      "text/plain": [
       "   participant_id  capture_time_secs  happiness  confusion primary_emotion  \\\n",
       "0               1                0.0   0.013309        NaN       happiness   \n",
       "1               1                0.1   0.013633        NaN       happiness   \n",
       "2               1                0.2   0.015672        NaN       happiness   \n",
       "3               1                0.3   0.019451        NaN       happiness   \n",
       "4               1                0.4        NaN        NaN             NaN   \n",
       "\n",
       "      task  during_self_report  \n",
       "0  no task               False  \n",
       "1  no task               False  \n",
       "2  no task               False  \n",
       "3  no task               False  \n",
       "4  no task               False  "
      ]
     },
     "execution_count": 14,
     "metadata": {},
     "output_type": "execute_result"
    }
   ],
   "source": [
    "df.head()"
   ]
  },
  {
   "cell_type": "markdown",
   "metadata": {},
   "source": [
    "### **\"participant_id\"** is self-explanatory.\n",
    "### Every row in the dataset is one frame (0.1 seconds) of one participant's video. Hence, **\"capture_time_secs\"** is the cumulative time at frame capture; every participant starts at 0.0.\n",
    "### **\"happiness\"** is the degree of happiness in the participant's facial expression at that moment, ranging from 0 (none) to 1 (max); **\"confusion\"** - same idea. \n",
    "\n",
    "### **\"primary_emotion\"** is whichever of \"happiness\" or \"confusion\" is present to a greater degree in the face. Yes, multiple emotions can be expressed and detected in faces to varying degrees at the same time <img src=\"./images/smile_emoji.jpg\" width=\"50\" align=\"Center\" border = \"2px solid #555\"> <img src=\"./images/neutral_emoji.png\" width=\"50\" align=\"Center\" border = \"2px solid #555\"> <img src=\"./images/frown_emoji.png\" width=\"50\" align=\"Center\" border = \"2px solid #555\">\n",
    "### **\"task\"** is which of the three aforementioned tasks the participant was doing at the time of capture.\n",
    "### **\"during_self_report\"** indicates whether the participant's hand and mouse were literally on their way to hitting the Submit Emobutton during that particular frame (rare).\n",
    "### "
   ]
  },
  {
   "cell_type": "markdown",
   "metadata": {},
   "source": [
    "# <font color='#32925E'> **How many participants are there?** </font>"
   ]
  },
  {
   "cell_type": "code",
   "execution_count": 15,
   "metadata": {},
   "outputs": [
    {
     "data": {
      "text/plain": [
       "22"
      ]
     },
     "execution_count": 15,
     "metadata": {},
     "output_type": "execute_result"
    }
   ],
   "source": [
    "df['participant_id'].nunique()"
   ]
  },
  {
   "cell_type": "markdown",
   "metadata": {},
   "source": [
    "### `df['some_column_name']` is how you can refer to and isolate one data column in the dataframe.\n",
    "### `df['some_column_name'].nunique()` is how you can count the number of unique values."
   ]
  },
  {
   "cell_type": "markdown",
   "metadata": {},
   "source": [
    "### <font color='#9E54C0'> **Exercise: Print the full list of participant IDs.**  </font>"
   ]
  },
  {
   "cell_type": "code",
   "execution_count": null,
   "metadata": {},
   "outputs": [],
   "source": [
    "# Hint: use \"unique\" instead of \"nunique\"\n",
    "\n",
    "print(____.____)"
   ]
  },
  {
   "cell_type": "markdown",
   "metadata": {},
   "source": [
    "### "
   ]
  },
  {
   "cell_type": "markdown",
   "metadata": {},
   "source": [
    "## As we continue to explore our dataset, we notice that some columns have a bunch of the same values, specifically \"**NaN**\""
   ]
  },
  {
   "cell_type": "code",
   "execution_count": 37,
   "metadata": {},
   "outputs": [
    {
     "data": {
      "text/html": [
       "<div>\n",
       "<style scoped>\n",
       "    .dataframe tbody tr th:only-of-type {\n",
       "        vertical-align: middle;\n",
       "    }\n",
       "\n",
       "    .dataframe tbody tr th {\n",
       "        vertical-align: top;\n",
       "    }\n",
       "\n",
       "    .dataframe thead th {\n",
       "        text-align: right;\n",
       "    }\n",
       "</style>\n",
       "<table border=\"1\" class=\"dataframe\">\n",
       "  <thead>\n",
       "    <tr style=\"text-align: right;\">\n",
       "      <th></th>\n",
       "      <th>participant_id</th>\n",
       "      <th>capture_time_secs</th>\n",
       "      <th>happiness</th>\n",
       "      <th>confusion</th>\n",
       "      <th>primary_emotion</th>\n",
       "      <th>task</th>\n",
       "      <th>during_self_report</th>\n",
       "    </tr>\n",
       "  </thead>\n",
       "  <tbody>\n",
       "    <tr>\n",
       "      <th>0</th>\n",
       "      <td>1</td>\n",
       "      <td>0.0</td>\n",
       "      <td>0.013309</td>\n",
       "      <td>NaN</td>\n",
       "      <td>happiness</td>\n",
       "      <td>no task</td>\n",
       "      <td>False</td>\n",
       "    </tr>\n",
       "    <tr>\n",
       "      <th>1</th>\n",
       "      <td>1</td>\n",
       "      <td>0.1</td>\n",
       "      <td>0.013633</td>\n",
       "      <td>NaN</td>\n",
       "      <td>happiness</td>\n",
       "      <td>no task</td>\n",
       "      <td>False</td>\n",
       "    </tr>\n",
       "    <tr>\n",
       "      <th>2</th>\n",
       "      <td>1</td>\n",
       "      <td>0.2</td>\n",
       "      <td>0.015672</td>\n",
       "      <td>NaN</td>\n",
       "      <td>happiness</td>\n",
       "      <td>no task</td>\n",
       "      <td>False</td>\n",
       "    </tr>\n",
       "    <tr>\n",
       "      <th>3</th>\n",
       "      <td>1</td>\n",
       "      <td>0.3</td>\n",
       "      <td>0.019451</td>\n",
       "      <td>NaN</td>\n",
       "      <td>happiness</td>\n",
       "      <td>no task</td>\n",
       "      <td>False</td>\n",
       "    </tr>\n",
       "    <tr>\n",
       "      <th>4</th>\n",
       "      <td>1</td>\n",
       "      <td>0.4</td>\n",
       "      <td>NaN</td>\n",
       "      <td>NaN</td>\n",
       "      <td>NaN</td>\n",
       "      <td>no task</td>\n",
       "      <td>False</td>\n",
       "    </tr>\n",
       "  </tbody>\n",
       "</table>\n",
       "</div>"
      ],
      "text/plain": [
       "   participant_id  capture_time_secs  happiness  confusion primary_emotion  \\\n",
       "0               1                0.0   0.013309        NaN       happiness   \n",
       "1               1                0.1   0.013633        NaN       happiness   \n",
       "2               1                0.2   0.015672        NaN       happiness   \n",
       "3               1                0.3   0.019451        NaN       happiness   \n",
       "4               1                0.4        NaN        NaN             NaN   \n",
       "\n",
       "      task  during_self_report  \n",
       "0  no task               False  \n",
       "1  no task               False  \n",
       "2  no task               False  \n",
       "3  no task               False  \n",
       "4  no task               False  "
      ]
     },
     "execution_count": 37,
     "metadata": {},
     "output_type": "execute_result"
    }
   ],
   "source": [
    "df.head()"
   ]
  },
  {
   "cell_type": "markdown",
   "metadata": {},
   "source": [
    "#  <font color='#32925E'> What are all those **NaN**s? </font>\n",
    "### **np.NaN** (as input) or **nan** or **NaN** (as output) are all the same thing: a special value indicating...the lack of a real value \"**N**ot **A** **N**umber\".\n",
    "### CSV or Excel files that have \"nothing\" in the cell get automatically imported into Pandas as NaN, and you often want to keep it that way."
   ]
  },
  {
   "cell_type": "code",
   "execution_count": 16,
   "metadata": {},
   "outputs": [
    {
     "data": {
      "text/plain": [
       "nan"
      ]
     },
     "execution_count": 16,
     "metadata": {},
     "output_type": "execute_result"
    }
   ],
   "source": [
    "np.NaN"
   ]
  },
  {
   "cell_type": "markdown",
   "metadata": {},
   "source": [
    "#  <font color='#32925E'> What is the shape of the data for Happiness? </font>\n",
    "## Pandas also has built in features for describing some basic stats about numerical columns"
   ]
  },
  {
   "cell_type": "code",
   "execution_count": 138,
   "metadata": {},
   "outputs": [
    {
     "data": {
      "text/plain": [
       "count    297050.000\n",
       "mean          0.065\n",
       "std           0.151\n",
       "min           0.000\n",
       "25%           0.001\n",
       "50%           0.007\n",
       "75%           0.047\n",
       "max           0.985\n",
       "Name: happiness, dtype: float64"
      ]
     },
     "execution_count": 138,
     "metadata": {},
     "output_type": "execute_result"
    }
   ],
   "source": [
    "df['happiness'].describe().round(3)"
   ]
  },
  {
   "cell_type": "markdown",
   "metadata": {},
   "source": [
    "# \n",
    "## You can even describe multiple numerical columns at once. \n",
    "\n",
    "### The general pandas syntax for selecting multiple columns is `df[[column1, column2, etc.]]`"
   ]
  },
  {
   "cell_type": "code",
   "execution_count": 18,
   "metadata": {},
   "outputs": [
    {
     "data": {
      "text/html": [
       "<div>\n",
       "<style scoped>\n",
       "    .dataframe tbody tr th:only-of-type {\n",
       "        vertical-align: middle;\n",
       "    }\n",
       "\n",
       "    .dataframe tbody tr th {\n",
       "        vertical-align: top;\n",
       "    }\n",
       "\n",
       "    .dataframe thead th {\n",
       "        text-align: right;\n",
       "    }\n",
       "</style>\n",
       "<table border=\"1\" class=\"dataframe\">\n",
       "  <thead>\n",
       "    <tr style=\"text-align: right;\">\n",
       "      <th></th>\n",
       "      <th>happiness</th>\n",
       "      <th>confusion</th>\n",
       "    </tr>\n",
       "  </thead>\n",
       "  <tbody>\n",
       "    <tr>\n",
       "      <th>count</th>\n",
       "      <td>297050.000</td>\n",
       "      <td>276702.000</td>\n",
       "    </tr>\n",
       "    <tr>\n",
       "      <th>mean</th>\n",
       "      <td>0.065</td>\n",
       "      <td>0.023</td>\n",
       "    </tr>\n",
       "    <tr>\n",
       "      <th>std</th>\n",
       "      <td>0.151</td>\n",
       "      <td>0.036</td>\n",
       "    </tr>\n",
       "    <tr>\n",
       "      <th>min</th>\n",
       "      <td>0.000</td>\n",
       "      <td>0.000</td>\n",
       "    </tr>\n",
       "    <tr>\n",
       "      <th>25%</th>\n",
       "      <td>0.001</td>\n",
       "      <td>0.000</td>\n",
       "    </tr>\n",
       "    <tr>\n",
       "      <th>50%</th>\n",
       "      <td>0.007</td>\n",
       "      <td>0.006</td>\n",
       "    </tr>\n",
       "    <tr>\n",
       "      <th>75%</th>\n",
       "      <td>0.047</td>\n",
       "      <td>0.030</td>\n",
       "    </tr>\n",
       "    <tr>\n",
       "      <th>max</th>\n",
       "      <td>0.985</td>\n",
       "      <td>0.293</td>\n",
       "    </tr>\n",
       "  </tbody>\n",
       "</table>\n",
       "</div>"
      ],
      "text/plain": [
       "        happiness   confusion\n",
       "count  297050.000  276702.000\n",
       "mean        0.065       0.023\n",
       "std         0.151       0.036\n",
       "min         0.000       0.000\n",
       "25%         0.001       0.000\n",
       "50%         0.007       0.006\n",
       "75%         0.047       0.030\n",
       "max         0.985       0.293"
      ]
     },
     "execution_count": 18,
     "metadata": {},
     "output_type": "execute_result"
    }
   ],
   "source": [
    "df[['happiness', 'confusion']].describe().round(3)"
   ]
  },
  {
   "cell_type": "markdown",
   "metadata": {},
   "source": [
    "# \n",
    "# Often, you want to transform the values in a column to make the data easier to understand, improve visualizations, or format for specific analyses.\n",
    "# <font color='#32925E'> **You want to turn seconds into minutes. Is there a simple way to do that?** </font>"
   ]
  },
  {
   "cell_type": "markdown",
   "metadata": {},
   "source": [
    "### Pandas makes it very easy to apply a simple operation to an entire column of data:"
   ]
  },
  {
   "cell_type": "code",
   "execution_count": 19,
   "metadata": {},
   "outputs": [
    {
     "data": {
      "text/plain": [
       "0            0.0\n",
       "1            0.1\n",
       "2            0.2\n",
       "3            0.3\n",
       "4            0.4\n",
       "           ...  \n",
       "403927    1781.7\n",
       "403928    1781.8\n",
       "403929    1781.9\n",
       "403930    1782.0\n",
       "403931    1782.1\n",
       "Name: capture_time_secs, Length: 403932, dtype: float64"
      ]
     },
     "execution_count": 19,
     "metadata": {},
     "output_type": "execute_result"
    }
   ],
   "source": [
    "df['capture_time_secs']"
   ]
  },
  {
   "cell_type": "code",
   "execution_count": 20,
   "metadata": {},
   "outputs": [
    {
     "data": {
      "text/plain": [
       "0          0.000000\n",
       "1          0.001667\n",
       "2          0.003333\n",
       "3          0.005000\n",
       "4          0.006667\n",
       "            ...    \n",
       "403927    29.695000\n",
       "403928    29.696667\n",
       "403929    29.698333\n",
       "403930    29.700000\n",
       "403931    29.701667\n",
       "Name: capture_time_secs, Length: 403932, dtype: float64"
      ]
     },
     "execution_count": 20,
     "metadata": {},
     "output_type": "execute_result"
    }
   ],
   "source": [
    "df['capture_time_secs'] / 60"
   ]
  },
  {
   "cell_type": "markdown",
   "metadata": {},
   "source": [
    "### **Two things to note:** \n",
    "### 1. Unlike in Excel, we were able to divide all 400 thousand rows with one line of code\n",
    "### 2. Even with 400,000+ rows, python was able to perform this operation within milliseconds"
   ]
  },
  {
   "cell_type": "markdown",
   "metadata": {},
   "source": [
    "### \n",
    "#  <font color='#32925E'> How do we add this as a new column in the data? </font> \n",
    "## Simply set a new column name equal to what we just created!"
   ]
  },
  {
   "cell_type": "code",
   "execution_count": 139,
   "metadata": {},
   "outputs": [],
   "source": [
    "df['capture_time_mins'] = df['capture_time_secs'] / 60"
   ]
  },
  {
   "cell_type": "code",
   "execution_count": 55,
   "metadata": {},
   "outputs": [
    {
     "data": {
      "text/html": [
       "<div>\n",
       "<style scoped>\n",
       "    .dataframe tbody tr th:only-of-type {\n",
       "        vertical-align: middle;\n",
       "    }\n",
       "\n",
       "    .dataframe tbody tr th {\n",
       "        vertical-align: top;\n",
       "    }\n",
       "\n",
       "    .dataframe thead th {\n",
       "        text-align: right;\n",
       "    }\n",
       "</style>\n",
       "<table border=\"1\" class=\"dataframe\">\n",
       "  <thead>\n",
       "    <tr style=\"text-align: right;\">\n",
       "      <th></th>\n",
       "      <th>participant_id</th>\n",
       "      <th>capture_time_secs</th>\n",
       "      <th>happiness</th>\n",
       "      <th>confusion</th>\n",
       "      <th>primary_emotion</th>\n",
       "      <th>task</th>\n",
       "      <th>during_self_report</th>\n",
       "      <th>capture_time_mins</th>\n",
       "    </tr>\n",
       "  </thead>\n",
       "  <tbody>\n",
       "    <tr>\n",
       "      <th>0</th>\n",
       "      <td>1</td>\n",
       "      <td>0.0</td>\n",
       "      <td>0.013309</td>\n",
       "      <td>NaN</td>\n",
       "      <td>happiness</td>\n",
       "      <td>no task</td>\n",
       "      <td>False</td>\n",
       "      <td>0.000000</td>\n",
       "    </tr>\n",
       "    <tr>\n",
       "      <th>1</th>\n",
       "      <td>1</td>\n",
       "      <td>0.1</td>\n",
       "      <td>0.013633</td>\n",
       "      <td>NaN</td>\n",
       "      <td>happiness</td>\n",
       "      <td>no task</td>\n",
       "      <td>False</td>\n",
       "      <td>0.001667</td>\n",
       "    </tr>\n",
       "    <tr>\n",
       "      <th>2</th>\n",
       "      <td>1</td>\n",
       "      <td>0.2</td>\n",
       "      <td>0.015672</td>\n",
       "      <td>NaN</td>\n",
       "      <td>happiness</td>\n",
       "      <td>no task</td>\n",
       "      <td>False</td>\n",
       "      <td>0.003333</td>\n",
       "    </tr>\n",
       "    <tr>\n",
       "      <th>3</th>\n",
       "      <td>1</td>\n",
       "      <td>0.3</td>\n",
       "      <td>0.019451</td>\n",
       "      <td>NaN</td>\n",
       "      <td>happiness</td>\n",
       "      <td>no task</td>\n",
       "      <td>False</td>\n",
       "      <td>0.005000</td>\n",
       "    </tr>\n",
       "    <tr>\n",
       "      <th>4</th>\n",
       "      <td>1</td>\n",
       "      <td>0.4</td>\n",
       "      <td>NaN</td>\n",
       "      <td>NaN</td>\n",
       "      <td>NaN</td>\n",
       "      <td>no task</td>\n",
       "      <td>False</td>\n",
       "      <td>0.006667</td>\n",
       "    </tr>\n",
       "  </tbody>\n",
       "</table>\n",
       "</div>"
      ],
      "text/plain": [
       "   participant_id  capture_time_secs  happiness  confusion primary_emotion  \\\n",
       "0               1                0.0   0.013309        NaN       happiness   \n",
       "1               1                0.1   0.013633        NaN       happiness   \n",
       "2               1                0.2   0.015672        NaN       happiness   \n",
       "3               1                0.3   0.019451        NaN       happiness   \n",
       "4               1                0.4        NaN        NaN             NaN   \n",
       "\n",
       "      task  during_self_report  capture_time_mins  \n",
       "0  no task               False           0.000000  \n",
       "1  no task               False           0.001667  \n",
       "2  no task               False           0.003333  \n",
       "3  no task               False           0.005000  \n",
       "4  no task               False           0.006667  "
      ]
     },
     "execution_count": 55,
     "metadata": {},
     "output_type": "execute_result"
    }
   ],
   "source": [
    "df.head()"
   ]
  },
  {
   "cell_type": "markdown",
   "metadata": {},
   "source": [
    "### <font color='#9E54C0'> **Exercise: Add a column \"participant_id_zero\" where, in the Pythonic spirit, participant numbering starts at 0 instead of 1.** </font>"
   ]
  },
  {
   "cell_type": "code",
   "execution_count": 140,
   "metadata": {},
   "outputs": [],
   "source": [
    "df['participant_id_zero'] = df['participant_id'] - 1"
   ]
  },
  {
   "cell_type": "code",
   "execution_count": null,
   "metadata": {},
   "outputs": [],
   "source": [
    "# ____[____] = df[____] - 1"
   ]
  },
  {
   "cell_type": "code",
   "execution_count": 58,
   "metadata": {},
   "outputs": [
    {
     "data": {
      "text/html": [
       "<div>\n",
       "<style scoped>\n",
       "    .dataframe tbody tr th:only-of-type {\n",
       "        vertical-align: middle;\n",
       "    }\n",
       "\n",
       "    .dataframe tbody tr th {\n",
       "        vertical-align: top;\n",
       "    }\n",
       "\n",
       "    .dataframe thead th {\n",
       "        text-align: right;\n",
       "    }\n",
       "</style>\n",
       "<table border=\"1\" class=\"dataframe\">\n",
       "  <thead>\n",
       "    <tr style=\"text-align: right;\">\n",
       "      <th></th>\n",
       "      <th>participant_id</th>\n",
       "      <th>capture_time_secs</th>\n",
       "      <th>happiness</th>\n",
       "      <th>confusion</th>\n",
       "      <th>primary_emotion</th>\n",
       "      <th>task</th>\n",
       "      <th>during_self_report</th>\n",
       "      <th>capture_time_mins</th>\n",
       "      <th>participant_id_zero</th>\n",
       "    </tr>\n",
       "  </thead>\n",
       "  <tbody>\n",
       "    <tr>\n",
       "      <th>0</th>\n",
       "      <td>1</td>\n",
       "      <td>0.0</td>\n",
       "      <td>0.013309</td>\n",
       "      <td>NaN</td>\n",
       "      <td>happiness</td>\n",
       "      <td>no task</td>\n",
       "      <td>False</td>\n",
       "      <td>0.000000</td>\n",
       "      <td>0</td>\n",
       "    </tr>\n",
       "    <tr>\n",
       "      <th>1</th>\n",
       "      <td>1</td>\n",
       "      <td>0.1</td>\n",
       "      <td>0.013633</td>\n",
       "      <td>NaN</td>\n",
       "      <td>happiness</td>\n",
       "      <td>no task</td>\n",
       "      <td>False</td>\n",
       "      <td>0.001667</td>\n",
       "      <td>0</td>\n",
       "    </tr>\n",
       "    <tr>\n",
       "      <th>2</th>\n",
       "      <td>1</td>\n",
       "      <td>0.2</td>\n",
       "      <td>0.015672</td>\n",
       "      <td>NaN</td>\n",
       "      <td>happiness</td>\n",
       "      <td>no task</td>\n",
       "      <td>False</td>\n",
       "      <td>0.003333</td>\n",
       "      <td>0</td>\n",
       "    </tr>\n",
       "    <tr>\n",
       "      <th>3</th>\n",
       "      <td>1</td>\n",
       "      <td>0.3</td>\n",
       "      <td>0.019451</td>\n",
       "      <td>NaN</td>\n",
       "      <td>happiness</td>\n",
       "      <td>no task</td>\n",
       "      <td>False</td>\n",
       "      <td>0.005000</td>\n",
       "      <td>0</td>\n",
       "    </tr>\n",
       "    <tr>\n",
       "      <th>4</th>\n",
       "      <td>1</td>\n",
       "      <td>0.4</td>\n",
       "      <td>NaN</td>\n",
       "      <td>NaN</td>\n",
       "      <td>NaN</td>\n",
       "      <td>no task</td>\n",
       "      <td>False</td>\n",
       "      <td>0.006667</td>\n",
       "      <td>0</td>\n",
       "    </tr>\n",
       "  </tbody>\n",
       "</table>\n",
       "</div>"
      ],
      "text/plain": [
       "   participant_id  capture_time_secs  happiness  confusion primary_emotion  \\\n",
       "0               1                0.0   0.013309        NaN       happiness   \n",
       "1               1                0.1   0.013633        NaN       happiness   \n",
       "2               1                0.2   0.015672        NaN       happiness   \n",
       "3               1                0.3   0.019451        NaN       happiness   \n",
       "4               1                0.4        NaN        NaN             NaN   \n",
       "\n",
       "      task  during_self_report  capture_time_mins  participant_id_zero  \n",
       "0  no task               False           0.000000                    0  \n",
       "1  no task               False           0.001667                    0  \n",
       "2  no task               False           0.003333                    0  \n",
       "3  no task               False           0.005000                    0  \n",
       "4  no task               False           0.006667                    0  "
      ]
     },
     "execution_count": 58,
     "metadata": {},
     "output_type": "execute_result"
    }
   ],
   "source": [
    "df.head()"
   ]
  },
  {
   "cell_type": "markdown",
   "metadata": {},
   "source": [
    "## Since we've added in the zero-indexed participant id column, we no longer need to keep our original participant_id column.\n",
    "## Often, researchers will drop columns that they no longer need for their analyses. The more columns a dataframe has, generally, the longer it takes to do anything with it. \n",
    "### The way to drop columns from your dataframe is `df.drop(columns = [insert column names to drop here], inplace = True)`"
   ]
  },
  {
   "cell_type": "markdown",
   "metadata": {},
   "source": [
    "### <font color='#9E54C0'> **Exercise: Drop the \"participant_id\" column from df.** </font>"
   ]
  },
  {
   "cell_type": "code",
   "execution_count": null,
   "metadata": {},
   "outputs": [],
   "source": [
    "df.____(columns = [____], inplace = True)"
   ]
  },
  {
   "cell_type": "markdown",
   "metadata": {},
   "source": [
    "### \n",
    "# <font color='#32925E'> **We have participant-level data in the small separate Excel file we called \"dfp\". How do we add those data into the large dataset, so all the data are in one place?** </font>"
   ]
  },
  {
   "cell_type": "code",
   "execution_count": 141,
   "metadata": {},
   "outputs": [],
   "source": [
    "dfp.loc[4, 'self_reported_attitude'] = 'negative'"
   ]
  },
  {
   "cell_type": "code",
   "execution_count": 142,
   "metadata": {},
   "outputs": [],
   "source": [
    "dfp.loc[8, 'self_reported_attitude'] = 'neutral'"
   ]
  },
  {
   "cell_type": "code",
   "execution_count": 143,
   "metadata": {},
   "outputs": [],
   "source": [
    "dfp.loc[10, 'self_reported_attitude'] = 'positive'"
   ]
  },
  {
   "cell_type": "code",
   "execution_count": 144,
   "metadata": {},
   "outputs": [
    {
     "data": {
      "text/plain": [
       "gender  self_reported_attitude\n",
       "female  positive                  6\n",
       "        neutral                   4\n",
       "male    negative                  6\n",
       "        neutral                   4\n",
       "        positive                  2\n",
       "Name: self_reported_attitude, dtype: int64"
      ]
     },
     "execution_count": 144,
     "metadata": {},
     "output_type": "execute_result"
    }
   ],
   "source": [
    "dfp.groupby('gender')['self_reported_attitude'].value_counts(dropna = False)"
   ]
  },
  {
   "cell_type": "code",
   "execution_count": 145,
   "metadata": {},
   "outputs": [
    {
     "data": {
      "text/html": [
       "<div>\n",
       "<style scoped>\n",
       "    .dataframe tbody tr th:only-of-type {\n",
       "        vertical-align: middle;\n",
       "    }\n",
       "\n",
       "    .dataframe tbody tr th {\n",
       "        vertical-align: top;\n",
       "    }\n",
       "\n",
       "    .dataframe thead th {\n",
       "        text-align: right;\n",
       "    }\n",
       "</style>\n",
       "<table border=\"1\" class=\"dataframe\">\n",
       "  <thead>\n",
       "    <tr style=\"text-align: right;\">\n",
       "      <th></th>\n",
       "      <th>participant_id_zero</th>\n",
       "      <th>self_reported_attitude</th>\n",
       "      <th>gender</th>\n",
       "    </tr>\n",
       "  </thead>\n",
       "  <tbody>\n",
       "    <tr>\n",
       "      <th>0</th>\n",
       "      <td>0</td>\n",
       "      <td>neutral</td>\n",
       "      <td>male</td>\n",
       "    </tr>\n",
       "    <tr>\n",
       "      <th>1</th>\n",
       "      <td>1</td>\n",
       "      <td>negative</td>\n",
       "      <td>male</td>\n",
       "    </tr>\n",
       "    <tr>\n",
       "      <th>2</th>\n",
       "      <td>2</td>\n",
       "      <td>neutral</td>\n",
       "      <td>male</td>\n",
       "    </tr>\n",
       "    <tr>\n",
       "      <th>3</th>\n",
       "      <td>3</td>\n",
       "      <td>positive</td>\n",
       "      <td>male</td>\n",
       "    </tr>\n",
       "    <tr>\n",
       "      <th>4</th>\n",
       "      <td>4</td>\n",
       "      <td>negative</td>\n",
       "      <td>male</td>\n",
       "    </tr>\n",
       "    <tr>\n",
       "      <th>5</th>\n",
       "      <td>5</td>\n",
       "      <td>neutral</td>\n",
       "      <td>female</td>\n",
       "    </tr>\n",
       "    <tr>\n",
       "      <th>6</th>\n",
       "      <td>6</td>\n",
       "      <td>positive</td>\n",
       "      <td>female</td>\n",
       "    </tr>\n",
       "    <tr>\n",
       "      <th>7</th>\n",
       "      <td>7</td>\n",
       "      <td>positive</td>\n",
       "      <td>female</td>\n",
       "    </tr>\n",
       "    <tr>\n",
       "      <th>8</th>\n",
       "      <td>8</td>\n",
       "      <td>neutral</td>\n",
       "      <td>female</td>\n",
       "    </tr>\n",
       "    <tr>\n",
       "      <th>9</th>\n",
       "      <td>9</td>\n",
       "      <td>positive</td>\n",
       "      <td>female</td>\n",
       "    </tr>\n",
       "    <tr>\n",
       "      <th>10</th>\n",
       "      <td>10</td>\n",
       "      <td>positive</td>\n",
       "      <td>female</td>\n",
       "    </tr>\n",
       "    <tr>\n",
       "      <th>11</th>\n",
       "      <td>11</td>\n",
       "      <td>positive</td>\n",
       "      <td>male</td>\n",
       "    </tr>\n",
       "    <tr>\n",
       "      <th>12</th>\n",
       "      <td>12</td>\n",
       "      <td>positive</td>\n",
       "      <td>female</td>\n",
       "    </tr>\n",
       "    <tr>\n",
       "      <th>13</th>\n",
       "      <td>13</td>\n",
       "      <td>neutral</td>\n",
       "      <td>female</td>\n",
       "    </tr>\n",
       "    <tr>\n",
       "      <th>14</th>\n",
       "      <td>14</td>\n",
       "      <td>neutral</td>\n",
       "      <td>male</td>\n",
       "    </tr>\n",
       "    <tr>\n",
       "      <th>15</th>\n",
       "      <td>15</td>\n",
       "      <td>positive</td>\n",
       "      <td>female</td>\n",
       "    </tr>\n",
       "    <tr>\n",
       "      <th>16</th>\n",
       "      <td>16</td>\n",
       "      <td>neutral</td>\n",
       "      <td>female</td>\n",
       "    </tr>\n",
       "    <tr>\n",
       "      <th>17</th>\n",
       "      <td>17</td>\n",
       "      <td>neutral</td>\n",
       "      <td>male</td>\n",
       "    </tr>\n",
       "    <tr>\n",
       "      <th>18</th>\n",
       "      <td>18</td>\n",
       "      <td>negative</td>\n",
       "      <td>male</td>\n",
       "    </tr>\n",
       "    <tr>\n",
       "      <th>19</th>\n",
       "      <td>19</td>\n",
       "      <td>negative</td>\n",
       "      <td>male</td>\n",
       "    </tr>\n",
       "    <tr>\n",
       "      <th>20</th>\n",
       "      <td>20</td>\n",
       "      <td>negative</td>\n",
       "      <td>male</td>\n",
       "    </tr>\n",
       "    <tr>\n",
       "      <th>21</th>\n",
       "      <td>21</td>\n",
       "      <td>negative</td>\n",
       "      <td>male</td>\n",
       "    </tr>\n",
       "  </tbody>\n",
       "</table>\n",
       "</div>"
      ],
      "text/plain": [
       "    participant_id_zero self_reported_attitude  gender\n",
       "0                     0                neutral    male\n",
       "1                     1               negative    male\n",
       "2                     2                neutral    male\n",
       "3                     3               positive    male\n",
       "4                     4               negative    male\n",
       "5                     5                neutral  female\n",
       "6                     6               positive  female\n",
       "7                     7               positive  female\n",
       "8                     8                neutral  female\n",
       "9                     9               positive  female\n",
       "10                   10               positive  female\n",
       "11                   11               positive    male\n",
       "12                   12               positive  female\n",
       "13                   13                neutral  female\n",
       "14                   14                neutral    male\n",
       "15                   15               positive  female\n",
       "16                   16                neutral  female\n",
       "17                   17                neutral    male\n",
       "18                   18               negative    male\n",
       "19                   19               negative    male\n",
       "20                   20               negative    male\n",
       "21                   21               negative    male"
      ]
     },
     "execution_count": 145,
     "metadata": {},
     "output_type": "execute_result"
    }
   ],
   "source": [
    "dfp"
   ]
  },
  {
   "cell_type": "markdown",
   "metadata": {},
   "source": [
    "# \n",
    "<img src = './images/emo_2.png' width = 200 align = \"center\">"
   ]
  },
  {
   "cell_type": "markdown",
   "metadata": {},
   "source": [
    "### **self_reported_attitude** corresponds to which part of the Submit EmoButton that participant clicked."
   ]
  },
  {
   "cell_type": "markdown",
   "metadata": {},
   "source": [
    "# <font color='#32925E'> So, how do we merge the information from the small dataset into the larger one? </font>\n",
    "### Let's start with a simpler example."
   ]
  },
  {
   "cell_type": "markdown",
   "metadata": {},
   "source": [
    "### In this example we have 2 dataframes (**_df_a_**, and **_df_b_**). \n",
    "### df_a contains two columns: one for names of researchers and another that describes eye color."
   ]
  },
  {
   "cell_type": "code",
   "execution_count": 65,
   "metadata": {},
   "outputs": [],
   "source": [
    "df_a = pd.DataFrame.from_dict({'Researcher':['Mike', 'Andrew', 'Ben', 'Bob', 'Alejandro'], 'Eye_Color':['Brown', 'Brown', 'Brown', 'Blue', 'Brown']})"
   ]
  },
  {
   "cell_type": "code",
   "execution_count": 66,
   "metadata": {},
   "outputs": [
    {
     "data": {
      "text/html": [
       "<div>\n",
       "<style scoped>\n",
       "    .dataframe tbody tr th:only-of-type {\n",
       "        vertical-align: middle;\n",
       "    }\n",
       "\n",
       "    .dataframe tbody tr th {\n",
       "        vertical-align: top;\n",
       "    }\n",
       "\n",
       "    .dataframe thead th {\n",
       "        text-align: right;\n",
       "    }\n",
       "</style>\n",
       "<table border=\"1\" class=\"dataframe\">\n",
       "  <thead>\n",
       "    <tr style=\"text-align: right;\">\n",
       "      <th></th>\n",
       "      <th>Researcher</th>\n",
       "      <th>Eye_Color</th>\n",
       "    </tr>\n",
       "  </thead>\n",
       "  <tbody>\n",
       "    <tr>\n",
       "      <th>0</th>\n",
       "      <td>Mike</td>\n",
       "      <td>Brown</td>\n",
       "    </tr>\n",
       "    <tr>\n",
       "      <th>1</th>\n",
       "      <td>Andrew</td>\n",
       "      <td>Brown</td>\n",
       "    </tr>\n",
       "    <tr>\n",
       "      <th>2</th>\n",
       "      <td>Ben</td>\n",
       "      <td>Brown</td>\n",
       "    </tr>\n",
       "    <tr>\n",
       "      <th>3</th>\n",
       "      <td>Bob</td>\n",
       "      <td>Blue</td>\n",
       "    </tr>\n",
       "    <tr>\n",
       "      <th>4</th>\n",
       "      <td>Alejandro</td>\n",
       "      <td>Brown</td>\n",
       "    </tr>\n",
       "  </tbody>\n",
       "</table>\n",
       "</div>"
      ],
      "text/plain": [
       "  Researcher Eye_Color\n",
       "0       Mike     Brown\n",
       "1     Andrew     Brown\n",
       "2        Ben     Brown\n",
       "3        Bob      Blue\n",
       "4  Alejandro     Brown"
      ]
     },
     "execution_count": 66,
     "metadata": {},
     "output_type": "execute_result"
    }
   ],
   "source": [
    "df_a"
   ]
  },
  {
   "cell_type": "markdown",
   "metadata": {},
   "source": [
    "## df_b contains two columns: one for names of researchers and another indicates whether that researcher owns cats."
   ]
  },
  {
   "cell_type": "code",
   "execution_count": 67,
   "metadata": {},
   "outputs": [],
   "source": [
    "df_b = pd.DataFrame.from_dict({'Researcher':['Mike', 'Andrew', 'Ben', 'Jia', 'John'], 'Owns_Cats':['No', 'Yes', 'Yes', 'No', 'Yes']})"
   ]
  },
  {
   "cell_type": "code",
   "execution_count": 68,
   "metadata": {},
   "outputs": [
    {
     "data": {
      "text/html": [
       "<div>\n",
       "<style scoped>\n",
       "    .dataframe tbody tr th:only-of-type {\n",
       "        vertical-align: middle;\n",
       "    }\n",
       "\n",
       "    .dataframe tbody tr th {\n",
       "        vertical-align: top;\n",
       "    }\n",
       "\n",
       "    .dataframe thead th {\n",
       "        text-align: right;\n",
       "    }\n",
       "</style>\n",
       "<table border=\"1\" class=\"dataframe\">\n",
       "  <thead>\n",
       "    <tr style=\"text-align: right;\">\n",
       "      <th></th>\n",
       "      <th>Researcher</th>\n",
       "      <th>Owns_Cats</th>\n",
       "    </tr>\n",
       "  </thead>\n",
       "  <tbody>\n",
       "    <tr>\n",
       "      <th>0</th>\n",
       "      <td>Mike</td>\n",
       "      <td>No</td>\n",
       "    </tr>\n",
       "    <tr>\n",
       "      <th>1</th>\n",
       "      <td>Andrew</td>\n",
       "      <td>Yes</td>\n",
       "    </tr>\n",
       "    <tr>\n",
       "      <th>2</th>\n",
       "      <td>Ben</td>\n",
       "      <td>Yes</td>\n",
       "    </tr>\n",
       "    <tr>\n",
       "      <th>3</th>\n",
       "      <td>Jia</td>\n",
       "      <td>No</td>\n",
       "    </tr>\n",
       "    <tr>\n",
       "      <th>4</th>\n",
       "      <td>John</td>\n",
       "      <td>Yes</td>\n",
       "    </tr>\n",
       "  </tbody>\n",
       "</table>\n",
       "</div>"
      ],
      "text/plain": [
       "  Researcher Owns_Cats\n",
       "0       Mike        No\n",
       "1     Andrew       Yes\n",
       "2        Ben       Yes\n",
       "3        Jia        No\n",
       "4       John       Yes"
      ]
     },
     "execution_count": 68,
     "metadata": {},
     "output_type": "execute_result"
    }
   ],
   "source": [
    "df_b"
   ]
  },
  {
   "cell_type": "markdown",
   "metadata": {},
   "source": [
    "# General syntax for merging is \n",
    "\n",
    "#### `pd.merge(left_dataframe, right_dataframe, on = column name to match tables, how = \"left\")`"
   ]
  },
  {
   "cell_type": "markdown",
   "metadata": {},
   "source": [
    "<img src = './images/merge_options.png' width = 600 align = 'center'/>"
   ]
  },
  {
   "cell_type": "markdown",
   "metadata": {},
   "source": [
    "## We use **inner** join when we only want what's common between the two dataframes."
   ]
  },
  {
   "cell_type": "code",
   "execution_count": 69,
   "metadata": {},
   "outputs": [
    {
     "data": {
      "text/html": [
       "<div>\n",
       "<style scoped>\n",
       "    .dataframe tbody tr th:only-of-type {\n",
       "        vertical-align: middle;\n",
       "    }\n",
       "\n",
       "    .dataframe tbody tr th {\n",
       "        vertical-align: top;\n",
       "    }\n",
       "\n",
       "    .dataframe thead th {\n",
       "        text-align: right;\n",
       "    }\n",
       "</style>\n",
       "<table border=\"1\" class=\"dataframe\">\n",
       "  <thead>\n",
       "    <tr style=\"text-align: right;\">\n",
       "      <th></th>\n",
       "      <th>Researcher</th>\n",
       "      <th>Eye_Color</th>\n",
       "      <th>Owns_Cats</th>\n",
       "    </tr>\n",
       "  </thead>\n",
       "  <tbody>\n",
       "    <tr>\n",
       "      <th>0</th>\n",
       "      <td>Mike</td>\n",
       "      <td>Brown</td>\n",
       "      <td>No</td>\n",
       "    </tr>\n",
       "    <tr>\n",
       "      <th>1</th>\n",
       "      <td>Andrew</td>\n",
       "      <td>Brown</td>\n",
       "      <td>Yes</td>\n",
       "    </tr>\n",
       "    <tr>\n",
       "      <th>2</th>\n",
       "      <td>Ben</td>\n",
       "      <td>Brown</td>\n",
       "      <td>Yes</td>\n",
       "    </tr>\n",
       "  </tbody>\n",
       "</table>\n",
       "</div>"
      ],
      "text/plain": [
       "  Researcher Eye_Color Owns_Cats\n",
       "0       Mike     Brown        No\n",
       "1     Andrew     Brown       Yes\n",
       "2        Ben     Brown       Yes"
      ]
     },
     "execution_count": 69,
     "metadata": {},
     "output_type": "execute_result"
    }
   ],
   "source": [
    "pd.merge(df_a, df_b, on = 'Researcher', how = 'inner')"
   ]
  },
  {
   "cell_type": "markdown",
   "metadata": {},
   "source": [
    "## We use **left** join when we want to keep all of the rows from the **left** dataframe. \n",
    "## **Note** This will return **NaN** if there are values in the left dataframe that are **_not_** in the right dataframe."
   ]
  },
  {
   "cell_type": "code",
   "execution_count": 70,
   "metadata": {},
   "outputs": [
    {
     "data": {
      "text/html": [
       "<div>\n",
       "<style scoped>\n",
       "    .dataframe tbody tr th:only-of-type {\n",
       "        vertical-align: middle;\n",
       "    }\n",
       "\n",
       "    .dataframe tbody tr th {\n",
       "        vertical-align: top;\n",
       "    }\n",
       "\n",
       "    .dataframe thead th {\n",
       "        text-align: right;\n",
       "    }\n",
       "</style>\n",
       "<table border=\"1\" class=\"dataframe\">\n",
       "  <thead>\n",
       "    <tr style=\"text-align: right;\">\n",
       "      <th></th>\n",
       "      <th>Researcher</th>\n",
       "      <th>Eye_Color</th>\n",
       "      <th>Owns_Cats</th>\n",
       "    </tr>\n",
       "  </thead>\n",
       "  <tbody>\n",
       "    <tr>\n",
       "      <th>0</th>\n",
       "      <td>Mike</td>\n",
       "      <td>Brown</td>\n",
       "      <td>No</td>\n",
       "    </tr>\n",
       "    <tr>\n",
       "      <th>1</th>\n",
       "      <td>Andrew</td>\n",
       "      <td>Brown</td>\n",
       "      <td>Yes</td>\n",
       "    </tr>\n",
       "    <tr>\n",
       "      <th>2</th>\n",
       "      <td>Ben</td>\n",
       "      <td>Brown</td>\n",
       "      <td>Yes</td>\n",
       "    </tr>\n",
       "    <tr>\n",
       "      <th>3</th>\n",
       "      <td>Bob</td>\n",
       "      <td>Blue</td>\n",
       "      <td>NaN</td>\n",
       "    </tr>\n",
       "    <tr>\n",
       "      <th>4</th>\n",
       "      <td>Alejandro</td>\n",
       "      <td>Brown</td>\n",
       "      <td>NaN</td>\n",
       "    </tr>\n",
       "  </tbody>\n",
       "</table>\n",
       "</div>"
      ],
      "text/plain": [
       "  Researcher Eye_Color Owns_Cats\n",
       "0       Mike     Brown        No\n",
       "1     Andrew     Brown       Yes\n",
       "2        Ben     Brown       Yes\n",
       "3        Bob      Blue       NaN\n",
       "4  Alejandro     Brown       NaN"
      ]
     },
     "execution_count": 70,
     "metadata": {},
     "output_type": "execute_result"
    }
   ],
   "source": [
    "pd.merge(df_a, df_b, on = 'Researcher', how = 'left')"
   ]
  },
  {
   "cell_type": "markdown",
   "metadata": {},
   "source": [
    "### <font color='#9E54C0'> **Exercise: how would you merge df_a and df_b making sure to include all of the rows from df_b?**   </font>"
   ]
  },
  {
   "cell_type": "code",
   "execution_count": 8,
   "metadata": {},
   "outputs": [
    {
     "data": {
      "text/html": [
       "<div>\n",
       "<style scoped>\n",
       "    .dataframe tbody tr th:only-of-type {\n",
       "        vertical-align: middle;\n",
       "    }\n",
       "\n",
       "    .dataframe tbody tr th {\n",
       "        vertical-align: top;\n",
       "    }\n",
       "\n",
       "    .dataframe thead th {\n",
       "        text-align: right;\n",
       "    }\n",
       "</style>\n",
       "<table border=\"1\" class=\"dataframe\">\n",
       "  <thead>\n",
       "    <tr style=\"text-align: right;\">\n",
       "      <th></th>\n",
       "      <th>Researcher</th>\n",
       "      <th>Eye_Color</th>\n",
       "      <th>Owns_Cats</th>\n",
       "    </tr>\n",
       "  </thead>\n",
       "  <tbody>\n",
       "    <tr>\n",
       "      <th>0</th>\n",
       "      <td>Mike</td>\n",
       "      <td>Brown</td>\n",
       "      <td>No</td>\n",
       "    </tr>\n",
       "    <tr>\n",
       "      <th>1</th>\n",
       "      <td>Andrew</td>\n",
       "      <td>Brown</td>\n",
       "      <td>Yes</td>\n",
       "    </tr>\n",
       "    <tr>\n",
       "      <th>2</th>\n",
       "      <td>Ben</td>\n",
       "      <td>Brown</td>\n",
       "      <td>Yes</td>\n",
       "    </tr>\n",
       "    <tr>\n",
       "      <th>3</th>\n",
       "      <td>Jia</td>\n",
       "      <td>NaN</td>\n",
       "      <td>No</td>\n",
       "    </tr>\n",
       "  </tbody>\n",
       "</table>\n",
       "</div>"
      ],
      "text/plain": [
       "  Researcher Eye_Color Owns_Cats\n",
       "0       Mike     Brown        No\n",
       "1     Andrew     Brown       Yes\n",
       "2        Ben     Brown       Yes\n",
       "3        Jia       NaN        No"
      ]
     },
     "execution_count": 8,
     "metadata": {},
     "output_type": "execute_result"
    }
   ],
   "source": [
    "pd.merge(df_a, ____, on = 'Researcher', how = ____)\n",
    "\n",
    "# pd.merge(df_a, df_b, on = 'Researcher', how = 'right')"
   ]
  },
  {
   "cell_type": "markdown",
   "metadata": {},
   "source": [
    "### <font color='#9E54C0'> **Exercise: how would you merge df_a and df_b making sure to include all of the rows from both dataframes?**   </font>"
   ]
  },
  {
   "cell_type": "code",
   "execution_count": 10,
   "metadata": {},
   "outputs": [
    {
     "data": {
      "text/html": [
       "<div>\n",
       "<style scoped>\n",
       "    .dataframe tbody tr th:only-of-type {\n",
       "        vertical-align: middle;\n",
       "    }\n",
       "\n",
       "    .dataframe tbody tr th {\n",
       "        vertical-align: top;\n",
       "    }\n",
       "\n",
       "    .dataframe thead th {\n",
       "        text-align: right;\n",
       "    }\n",
       "</style>\n",
       "<table border=\"1\" class=\"dataframe\">\n",
       "  <thead>\n",
       "    <tr style=\"text-align: right;\">\n",
       "      <th></th>\n",
       "      <th>Researcher</th>\n",
       "      <th>Eye_Color</th>\n",
       "      <th>Owns_Cats</th>\n",
       "    </tr>\n",
       "  </thead>\n",
       "  <tbody>\n",
       "    <tr>\n",
       "      <th>0</th>\n",
       "      <td>Mike</td>\n",
       "      <td>Brown</td>\n",
       "      <td>No</td>\n",
       "    </tr>\n",
       "    <tr>\n",
       "      <th>1</th>\n",
       "      <td>Andrew</td>\n",
       "      <td>Brown</td>\n",
       "      <td>Yes</td>\n",
       "    </tr>\n",
       "    <tr>\n",
       "      <th>2</th>\n",
       "      <td>Ben</td>\n",
       "      <td>Brown</td>\n",
       "      <td>Yes</td>\n",
       "    </tr>\n",
       "    <tr>\n",
       "      <th>3</th>\n",
       "      <td>Bob</td>\n",
       "      <td>Blue</td>\n",
       "      <td>NaN</td>\n",
       "    </tr>\n",
       "    <tr>\n",
       "      <th>4</th>\n",
       "      <td>Jia</td>\n",
       "      <td>NaN</td>\n",
       "      <td>No</td>\n",
       "    </tr>\n",
       "  </tbody>\n",
       "</table>\n",
       "</div>"
      ],
      "text/plain": [
       "  Researcher Eye_Color Owns_Cats\n",
       "0       Mike     Brown        No\n",
       "1     Andrew     Brown       Yes\n",
       "2        Ben     Brown       Yes\n",
       "3        Bob      Blue       NaN\n",
       "4        Jia       NaN        No"
      ]
     },
     "execution_count": 10,
     "metadata": {},
     "output_type": "execute_result"
    }
   ],
   "source": [
    "pd.merge(df_a, df_b, on = ____, how = ____)\n",
    "# pd.merge(df_a, df_b, on = 'Researcher', how = 'outer')"
   ]
  },
  {
   "cell_type": "markdown",
   "metadata": {},
   "source": [
    "### <font color='red'> Warning: do not try this at home (with Excel).</font> But do try it at home with Python/pandas.\n",
    "### Back to our actual datasets."
   ]
  },
  {
   "cell_type": "code",
   "execution_count": 44,
   "metadata": {},
   "outputs": [
    {
     "data": {
      "text/plain": [
       "(403932, 8)"
      ]
     },
     "execution_count": 44,
     "metadata": {},
     "output_type": "execute_result"
    }
   ],
   "source": [
    "df.shape"
   ]
  },
  {
   "cell_type": "markdown",
   "metadata": {},
   "source": [
    "### <font color='#9E54C0'> **Exercise: Merge the participant-level data into the face capture dataset.** </font>"
   ]
  },
  {
   "cell_type": "code",
   "execution_count": null,
   "metadata": {},
   "outputs": [],
   "source": [
    "df = pd.merge(____, ____, on = ____, how = ____)"
   ]
  },
  {
   "cell_type": "code",
   "execution_count": 146,
   "metadata": {},
   "outputs": [],
   "source": [
    "df = pd.merge(df, dfp, on = 'participant_id_zero', how = 'left')"
   ]
  },
  {
   "cell_type": "code",
   "execution_count": 72,
   "metadata": {},
   "outputs": [
    {
     "data": {
      "text/plain": [
       "(403932, 11)"
      ]
     },
     "execution_count": 72,
     "metadata": {},
     "output_type": "execute_result"
    }
   ],
   "source": [
    "# As expected, two columns got added, and no rows got added.\n",
    "\n",
    "df.shape"
   ]
  },
  {
   "cell_type": "markdown",
   "metadata": {},
   "source": [
    "# <font color='#32925E'> **How do we adjust the column order?** </font>\n",
    "\n",
    "# show this example live"
   ]
  },
  {
   "cell_type": "code",
   "execution_count": 76,
   "metadata": {},
   "outputs": [],
   "source": [
    "# df.columns"
   ]
  },
  {
   "cell_type": "code",
   "execution_count": 147,
   "metadata": {},
   "outputs": [
    {
     "data": {
      "text/html": [
       "<div>\n",
       "<style scoped>\n",
       "    .dataframe tbody tr th:only-of-type {\n",
       "        vertical-align: middle;\n",
       "    }\n",
       "\n",
       "    .dataframe tbody tr th {\n",
       "        vertical-align: top;\n",
       "    }\n",
       "\n",
       "    .dataframe thead th {\n",
       "        text-align: right;\n",
       "    }\n",
       "</style>\n",
       "<table border=\"1\" class=\"dataframe\">\n",
       "  <thead>\n",
       "    <tr style=\"text-align: right;\">\n",
       "      <th></th>\n",
       "      <th>participant_id</th>\n",
       "      <th>capture_time_secs</th>\n",
       "      <th>happiness</th>\n",
       "      <th>confusion</th>\n",
       "      <th>primary_emotion</th>\n",
       "      <th>task</th>\n",
       "      <th>during_self_report</th>\n",
       "      <th>capture_time_mins</th>\n",
       "      <th>participant_id_zero</th>\n",
       "      <th>self_reported_attitude</th>\n",
       "      <th>gender</th>\n",
       "    </tr>\n",
       "  </thead>\n",
       "  <tbody>\n",
       "    <tr>\n",
       "      <th>0</th>\n",
       "      <td>1</td>\n",
       "      <td>0.0</td>\n",
       "      <td>0.013309</td>\n",
       "      <td>NaN</td>\n",
       "      <td>happiness</td>\n",
       "      <td>no task</td>\n",
       "      <td>False</td>\n",
       "      <td>0.000000</td>\n",
       "      <td>0</td>\n",
       "      <td>neutral</td>\n",
       "      <td>male</td>\n",
       "    </tr>\n",
       "    <tr>\n",
       "      <th>1</th>\n",
       "      <td>1</td>\n",
       "      <td>0.1</td>\n",
       "      <td>0.013633</td>\n",
       "      <td>NaN</td>\n",
       "      <td>happiness</td>\n",
       "      <td>no task</td>\n",
       "      <td>False</td>\n",
       "      <td>0.001667</td>\n",
       "      <td>0</td>\n",
       "      <td>neutral</td>\n",
       "      <td>male</td>\n",
       "    </tr>\n",
       "    <tr>\n",
       "      <th>2</th>\n",
       "      <td>1</td>\n",
       "      <td>0.2</td>\n",
       "      <td>0.015672</td>\n",
       "      <td>NaN</td>\n",
       "      <td>happiness</td>\n",
       "      <td>no task</td>\n",
       "      <td>False</td>\n",
       "      <td>0.003333</td>\n",
       "      <td>0</td>\n",
       "      <td>neutral</td>\n",
       "      <td>male</td>\n",
       "    </tr>\n",
       "    <tr>\n",
       "      <th>3</th>\n",
       "      <td>1</td>\n",
       "      <td>0.3</td>\n",
       "      <td>0.019451</td>\n",
       "      <td>NaN</td>\n",
       "      <td>happiness</td>\n",
       "      <td>no task</td>\n",
       "      <td>False</td>\n",
       "      <td>0.005000</td>\n",
       "      <td>0</td>\n",
       "      <td>neutral</td>\n",
       "      <td>male</td>\n",
       "    </tr>\n",
       "    <tr>\n",
       "      <th>4</th>\n",
       "      <td>1</td>\n",
       "      <td>0.4</td>\n",
       "      <td>NaN</td>\n",
       "      <td>NaN</td>\n",
       "      <td>NaN</td>\n",
       "      <td>no task</td>\n",
       "      <td>False</td>\n",
       "      <td>0.006667</td>\n",
       "      <td>0</td>\n",
       "      <td>neutral</td>\n",
       "      <td>male</td>\n",
       "    </tr>\n",
       "  </tbody>\n",
       "</table>\n",
       "</div>"
      ],
      "text/plain": [
       "   participant_id  capture_time_secs  happiness  confusion primary_emotion  \\\n",
       "0               1                0.0   0.013309        NaN       happiness   \n",
       "1               1                0.1   0.013633        NaN       happiness   \n",
       "2               1                0.2   0.015672        NaN       happiness   \n",
       "3               1                0.3   0.019451        NaN       happiness   \n",
       "4               1                0.4        NaN        NaN             NaN   \n",
       "\n",
       "      task  during_self_report  capture_time_mins  participant_id_zero  \\\n",
       "0  no task               False           0.000000                    0   \n",
       "1  no task               False           0.001667                    0   \n",
       "2  no task               False           0.003333                    0   \n",
       "3  no task               False           0.005000                    0   \n",
       "4  no task               False           0.006667                    0   \n",
       "\n",
       "  self_reported_attitude gender  \n",
       "0                neutral   male  \n",
       "1                neutral   male  \n",
       "2                neutral   male  \n",
       "3                neutral   male  \n",
       "4                neutral   male  "
      ]
     },
     "execution_count": 147,
     "metadata": {},
     "output_type": "execute_result"
    }
   ],
   "source": [
    "df.head()"
   ]
  },
  {
   "cell_type": "markdown",
   "metadata": {},
   "source": [
    "### \n",
    "### In the context of this dataset, the emotion-analysis software isn't perfect, and for many frames it simply cannot tell if an emotion is present, or simply cannot detect the boundaries of a face. The question is, did this happen often?"
   ]
  },
  {
   "cell_type": "markdown",
   "metadata": {},
   "source": [
    "# <font color='#32925E'> **How much \"happiness\" data is missing?** </font>"
   ]
  },
  {
   "cell_type": "code",
   "execution_count": 78,
   "metadata": {},
   "outputs": [
    {
     "data": {
      "text/plain": [
       "0         False\n",
       "1         False\n",
       "2         False\n",
       "3         False\n",
       "4          True\n",
       "          ...  \n",
       "403927    False\n",
       "403928    False\n",
       "403929    False\n",
       "403930    False\n",
       "403931    False\n",
       "Name: happiness, Length: 403932, dtype: bool"
      ]
     },
     "execution_count": 78,
     "metadata": {},
     "output_type": "execute_result"
    }
   ],
   "source": [
    "df['happiness'].isnull() # tests whether each cell has a NaN in it or not. If it does, then True. If it doesn't, then False."
   ]
  },
  {
   "cell_type": "markdown",
   "metadata": {},
   "source": [
    "### Remember how `True==1` and `False==0`? How can we use that to answer the question?"
   ]
  },
  {
   "cell_type": "code",
   "execution_count": 79,
   "metadata": {},
   "outputs": [
    {
     "name": "stdout",
     "output_type": "stream",
     "text": [
      "106882\n"
     ]
    }
   ],
   "source": [
    "n_missing = df['happiness'].isnull().sum()\n",
    "print(n_missing)"
   ]
  },
  {
   "cell_type": "markdown",
   "metadata": {},
   "source": [
    "### The sum of \"True\"s is the same thing as how many times \"True\" appears in the column, which is what we want!"
   ]
  },
  {
   "cell_type": "markdown",
   "metadata": {},
   "source": [
    "### <font color='#9E54C0'> **Exercise: How much \"happiness\" data is NOT missing?** </font>"
   ]
  },
  {
   "cell_type": "code",
   "execution_count": null,
   "metadata": {},
   "outputs": [],
   "source": [
    "# Hint: use \"notnull\" instead of \"isnull\"\n",
    "\n",
    "n_not_missing = df____.____.____\n",
    "print(n_not_missing)"
   ]
  },
  {
   "cell_type": "markdown",
   "metadata": {},
   "source": [
    "### <font color='#9E54C0'> **Exercise: The sum of # missing and # not missing should add up to how many total rows are in the data. Does it?** </font>"
   ]
  },
  {
   "cell_type": "code",
   "execution_count": null,
   "metadata": {},
   "outputs": [],
   "source": [
    "# Let's double check!\n",
    "\n",
    "print(\"Missing and non-missing happiness rows add up to\", ____ + ____)\n",
    "print(\"There are\", df.____[____], \"rows in the data.\")"
   ]
  },
  {
   "cell_type": "markdown",
   "metadata": {},
   "source": [
    "# \n",
    "# <font color='#32925E'> **Which emotion (Happiness or Confusion) was the \"primary emotion\" more often?** </font>"
   ]
  },
  {
   "cell_type": "code",
   "execution_count": 60,
   "metadata": {},
   "outputs": [
    {
     "data": {
      "text/html": [
       "<div>\n",
       "<style scoped>\n",
       "    .dataframe tbody tr th:only-of-type {\n",
       "        vertical-align: middle;\n",
       "    }\n",
       "\n",
       "    .dataframe tbody tr th {\n",
       "        vertical-align: top;\n",
       "    }\n",
       "\n",
       "    .dataframe thead th {\n",
       "        text-align: right;\n",
       "    }\n",
       "</style>\n",
       "<table border=\"1\" class=\"dataframe\">\n",
       "  <thead>\n",
       "    <tr style=\"text-align: right;\">\n",
       "      <th></th>\n",
       "      <th>participant_id</th>\n",
       "      <th>capture_time_secs</th>\n",
       "      <th>happiness</th>\n",
       "      <th>confusion</th>\n",
       "      <th>primary_emotion</th>\n",
       "      <th>task</th>\n",
       "      <th>during_self_report</th>\n",
       "      <th>capture_time_mins</th>\n",
       "      <th>participant_id_start_at_zero</th>\n",
       "      <th>self_reported_attitude</th>\n",
       "      <th>gender</th>\n",
       "    </tr>\n",
       "  </thead>\n",
       "  <tbody>\n",
       "    <tr>\n",
       "      <th>0</th>\n",
       "      <td>1</td>\n",
       "      <td>0.0</td>\n",
       "      <td>0.013309</td>\n",
       "      <td>NaN</td>\n",
       "      <td>happiness</td>\n",
       "      <td>no task</td>\n",
       "      <td>False</td>\n",
       "      <td>0.000000</td>\n",
       "      <td>0</td>\n",
       "      <td>neutral</td>\n",
       "      <td>male</td>\n",
       "    </tr>\n",
       "    <tr>\n",
       "      <th>1</th>\n",
       "      <td>1</td>\n",
       "      <td>0.1</td>\n",
       "      <td>0.013633</td>\n",
       "      <td>NaN</td>\n",
       "      <td>happiness</td>\n",
       "      <td>no task</td>\n",
       "      <td>False</td>\n",
       "      <td>0.001667</td>\n",
       "      <td>0</td>\n",
       "      <td>neutral</td>\n",
       "      <td>male</td>\n",
       "    </tr>\n",
       "    <tr>\n",
       "      <th>2</th>\n",
       "      <td>1</td>\n",
       "      <td>0.2</td>\n",
       "      <td>0.015672</td>\n",
       "      <td>NaN</td>\n",
       "      <td>happiness</td>\n",
       "      <td>no task</td>\n",
       "      <td>False</td>\n",
       "      <td>0.003333</td>\n",
       "      <td>0</td>\n",
       "      <td>neutral</td>\n",
       "      <td>male</td>\n",
       "    </tr>\n",
       "    <tr>\n",
       "      <th>3</th>\n",
       "      <td>1</td>\n",
       "      <td>0.3</td>\n",
       "      <td>0.019451</td>\n",
       "      <td>NaN</td>\n",
       "      <td>happiness</td>\n",
       "      <td>no task</td>\n",
       "      <td>False</td>\n",
       "      <td>0.005000</td>\n",
       "      <td>0</td>\n",
       "      <td>neutral</td>\n",
       "      <td>male</td>\n",
       "    </tr>\n",
       "    <tr>\n",
       "      <th>4</th>\n",
       "      <td>1</td>\n",
       "      <td>0.4</td>\n",
       "      <td>NaN</td>\n",
       "      <td>NaN</td>\n",
       "      <td>NaN</td>\n",
       "      <td>no task</td>\n",
       "      <td>False</td>\n",
       "      <td>0.006667</td>\n",
       "      <td>0</td>\n",
       "      <td>neutral</td>\n",
       "      <td>male</td>\n",
       "    </tr>\n",
       "  </tbody>\n",
       "</table>\n",
       "</div>"
      ],
      "text/plain": [
       "   participant_id  capture_time_secs  happiness  confusion primary_emotion  \\\n",
       "0               1                0.0   0.013309        NaN       happiness   \n",
       "1               1                0.1   0.013633        NaN       happiness   \n",
       "2               1                0.2   0.015672        NaN       happiness   \n",
       "3               1                0.3   0.019451        NaN       happiness   \n",
       "4               1                0.4        NaN        NaN             NaN   \n",
       "\n",
       "      task  during_self_report  capture_time_mins  \\\n",
       "0  no task               False           0.000000   \n",
       "1  no task               False           0.001667   \n",
       "2  no task               False           0.003333   \n",
       "3  no task               False           0.005000   \n",
       "4  no task               False           0.006667   \n",
       "\n",
       "   participant_id_start_at_zero self_reported_attitude gender  \n",
       "0                             0                neutral   male  \n",
       "1                             0                neutral   male  \n",
       "2                             0                neutral   male  \n",
       "3                             0                neutral   male  \n",
       "4                             0                neutral   male  "
      ]
     },
     "execution_count": 60,
     "metadata": {},
     "output_type": "execute_result"
    }
   ],
   "source": [
    "df.head()"
   ]
  },
  {
   "cell_type": "markdown",
   "metadata": {},
   "source": [
    "### <font color='#9E54C0'> **Exercise: Display only the \"primary_emotion\" column of the dataset.** </font>"
   ]
  },
  {
   "cell_type": "code",
   "execution_count": null,
   "metadata": {},
   "outputs": [],
   "source": [
    "____[____]"
   ]
  },
  {
   "cell_type": "markdown",
   "metadata": {},
   "source": [
    "### Again, pandas makes it very easy to apply a simple operation to an entire column of data - in this case, checking in one line of code if every single cell in the column is equal to 'happiness' or not:"
   ]
  },
  {
   "cell_type": "code",
   "execution_count": 80,
   "metadata": {},
   "outputs": [
    {
     "data": {
      "text/plain": [
       "0          True\n",
       "1          True\n",
       "2          True\n",
       "3          True\n",
       "4         False\n",
       "          ...  \n",
       "403927    False\n",
       "403928    False\n",
       "403929    False\n",
       "403930     True\n",
       "403931    False\n",
       "Name: primary_emotion, Length: 403932, dtype: bool"
      ]
     },
     "execution_count": 80,
     "metadata": {},
     "output_type": "execute_result"
    }
   ],
   "source": [
    "df['primary_emotion'] == 'happiness' # Note that missing values of primary_emotion also return False; after all, they are not equal to 'happiness'."
   ]
  },
  {
   "cell_type": "code",
   "execution_count": 81,
   "metadata": {},
   "outputs": [
    {
     "data": {
      "text/plain": [
       "174838"
      ]
     },
     "execution_count": 81,
     "metadata": {},
     "output_type": "execute_result"
    }
   ],
   "source": [
    "(df['primary_emotion'] == 'happiness').sum()"
   ]
  },
  {
   "cell_type": "markdown",
   "metadata": {},
   "source": [
    "### <font color='#9E54C0'> **Exercise: How often was Confusion the \"primary emotion\"?** </font>"
   ]
  },
  {
   "cell_type": "code",
   "execution_count": null,
   "metadata": {},
   "outputs": [],
   "source": [
    "(df[____] == ____).____"
   ]
  },
  {
   "cell_type": "markdown",
   "metadata": {},
   "source": [
    "### Participants looked happy far more frequently than they looked confused.\n",
    "### How could we get this answer in one step?"
   ]
  },
  {
   "cell_type": "code",
   "execution_count": 148,
   "metadata": {},
   "outputs": [
    {
     "data": {
      "text/plain": [
       "happiness    174838\n",
       "confusion    122212\n",
       "Name: primary_emotion, dtype: int64"
      ]
     },
     "execution_count": 148,
     "metadata": {},
     "output_type": "execute_result"
    }
   ],
   "source": [
    "df.primary_emotion.value_counts()"
   ]
  },
  {
   "cell_type": "markdown",
   "metadata": {},
   "source": [
    "### What if we want proportions instead of raw counts?"
   ]
  },
  {
   "cell_type": "code",
   "execution_count": 149,
   "metadata": {},
   "outputs": [
    {
     "data": {
      "text/plain": [
       "happiness    0.43\n",
       "confusion    0.30\n",
       "NaN          0.26\n",
       "Name: primary_emotion, dtype: float64"
      ]
     },
     "execution_count": 149,
     "metadata": {},
     "output_type": "execute_result"
    }
   ],
   "source": [
    "df['primary_emotion'].value_counts(normalize=True, dropna = False).round(2)"
   ]
  },
  {
   "cell_type": "markdown",
   "metadata": {},
   "source": [
    "### <font color='#9E54C0'> **EXERCISE: What proportion of the rows did participants spend in Tasks 1 vs. 2 vs. 3?** </font>"
   ]
  },
  {
   "cell_type": "code",
   "execution_count": null,
   "metadata": {},
   "outputs": [],
   "source": [
    "# Find how often the \"task\" column took on each of its values\n",
    "\n",
    "df[____].____(____).round(2)"
   ]
  },
  {
   "cell_type": "code",
   "execution_count": null,
   "metadata": {},
   "outputs": [],
   "source": [
    "df.head()"
   ]
  },
  {
   "cell_type": "markdown",
   "metadata": {},
   "source": [
    "### \n",
    "# <font color='#32925E'> **Did the \"primary emotion\" differ by gender?** </font>"
   ]
  },
  {
   "cell_type": "markdown",
   "metadata": {},
   "source": [
    "### **Filtering**: Let's first filter the dataset to only the female participants."
   ]
  },
  {
   "cell_type": "code",
   "execution_count": 86,
   "metadata": {},
   "outputs": [
    {
     "data": {
      "text/plain": [
       "0         False\n",
       "1         False\n",
       "2         False\n",
       "3         False\n",
       "4         False\n",
       "          ...  \n",
       "403927    False\n",
       "403928    False\n",
       "403929    False\n",
       "403930    False\n",
       "403931    False\n",
       "Name: gender, Length: 403932, dtype: bool"
      ]
     },
     "execution_count": 86,
     "metadata": {},
     "output_type": "execute_result"
    }
   ],
   "source": [
    "# This is what the filter looks like\n",
    "\n",
    "df['gender'] == 'female'"
   ]
  },
  {
   "cell_type": "code",
   "execution_count": 150,
   "metadata": {},
   "outputs": [
    {
     "data": {
      "text/html": [
       "<div>\n",
       "<style scoped>\n",
       "    .dataframe tbody tr th:only-of-type {\n",
       "        vertical-align: middle;\n",
       "    }\n",
       "\n",
       "    .dataframe tbody tr th {\n",
       "        vertical-align: top;\n",
       "    }\n",
       "\n",
       "    .dataframe thead th {\n",
       "        text-align: right;\n",
       "    }\n",
       "</style>\n",
       "<table border=\"1\" class=\"dataframe\">\n",
       "  <thead>\n",
       "    <tr style=\"text-align: right;\">\n",
       "      <th></th>\n",
       "      <th>participant_id</th>\n",
       "      <th>capture_time_secs</th>\n",
       "      <th>happiness</th>\n",
       "      <th>confusion</th>\n",
       "      <th>primary_emotion</th>\n",
       "      <th>task</th>\n",
       "      <th>during_self_report</th>\n",
       "      <th>capture_time_mins</th>\n",
       "      <th>participant_id_zero</th>\n",
       "      <th>self_reported_attitude</th>\n",
       "      <th>gender</th>\n",
       "    </tr>\n",
       "  </thead>\n",
       "  <tbody>\n",
       "    <tr>\n",
       "      <th>90021</th>\n",
       "      <td>6</td>\n",
       "      <td>0.0</td>\n",
       "      <td>NaN</td>\n",
       "      <td>NaN</td>\n",
       "      <td>NaN</td>\n",
       "      <td>no task</td>\n",
       "      <td>False</td>\n",
       "      <td>0.000000</td>\n",
       "      <td>5</td>\n",
       "      <td>neutral</td>\n",
       "      <td>female</td>\n",
       "    </tr>\n",
       "    <tr>\n",
       "      <th>90022</th>\n",
       "      <td>6</td>\n",
       "      <td>0.1</td>\n",
       "      <td>NaN</td>\n",
       "      <td>NaN</td>\n",
       "      <td>NaN</td>\n",
       "      <td>no task</td>\n",
       "      <td>False</td>\n",
       "      <td>0.001667</td>\n",
       "      <td>5</td>\n",
       "      <td>neutral</td>\n",
       "      <td>female</td>\n",
       "    </tr>\n",
       "    <tr>\n",
       "      <th>90023</th>\n",
       "      <td>6</td>\n",
       "      <td>0.2</td>\n",
       "      <td>NaN</td>\n",
       "      <td>NaN</td>\n",
       "      <td>NaN</td>\n",
       "      <td>no task</td>\n",
       "      <td>False</td>\n",
       "      <td>0.003333</td>\n",
       "      <td>5</td>\n",
       "      <td>neutral</td>\n",
       "      <td>female</td>\n",
       "    </tr>\n",
       "    <tr>\n",
       "      <th>90024</th>\n",
       "      <td>6</td>\n",
       "      <td>0.3</td>\n",
       "      <td>NaN</td>\n",
       "      <td>NaN</td>\n",
       "      <td>NaN</td>\n",
       "      <td>no task</td>\n",
       "      <td>False</td>\n",
       "      <td>0.005000</td>\n",
       "      <td>5</td>\n",
       "      <td>neutral</td>\n",
       "      <td>female</td>\n",
       "    </tr>\n",
       "    <tr>\n",
       "      <th>90025</th>\n",
       "      <td>6</td>\n",
       "      <td>0.4</td>\n",
       "      <td>NaN</td>\n",
       "      <td>NaN</td>\n",
       "      <td>NaN</td>\n",
       "      <td>no task</td>\n",
       "      <td>False</td>\n",
       "      <td>0.006667</td>\n",
       "      <td>5</td>\n",
       "      <td>neutral</td>\n",
       "      <td>female</td>\n",
       "    </tr>\n",
       "    <tr>\n",
       "      <th>...</th>\n",
       "      <td>...</td>\n",
       "      <td>...</td>\n",
       "      <td>...</td>\n",
       "      <td>...</td>\n",
       "      <td>...</td>\n",
       "      <td>...</td>\n",
       "      <td>...</td>\n",
       "      <td>...</td>\n",
       "      <td>...</td>\n",
       "      <td>...</td>\n",
       "      <td>...</td>\n",
       "    </tr>\n",
       "    <tr>\n",
       "      <th>314637</th>\n",
       "      <td>17</td>\n",
       "      <td>1706.8</td>\n",
       "      <td>NaN</td>\n",
       "      <td>NaN</td>\n",
       "      <td>NaN</td>\n",
       "      <td>no task</td>\n",
       "      <td>False</td>\n",
       "      <td>28.446667</td>\n",
       "      <td>16</td>\n",
       "      <td>neutral</td>\n",
       "      <td>female</td>\n",
       "    </tr>\n",
       "    <tr>\n",
       "      <th>314638</th>\n",
       "      <td>17</td>\n",
       "      <td>1706.9</td>\n",
       "      <td>NaN</td>\n",
       "      <td>NaN</td>\n",
       "      <td>NaN</td>\n",
       "      <td>no task</td>\n",
       "      <td>False</td>\n",
       "      <td>28.448333</td>\n",
       "      <td>16</td>\n",
       "      <td>neutral</td>\n",
       "      <td>female</td>\n",
       "    </tr>\n",
       "    <tr>\n",
       "      <th>314639</th>\n",
       "      <td>17</td>\n",
       "      <td>1707.0</td>\n",
       "      <td>NaN</td>\n",
       "      <td>NaN</td>\n",
       "      <td>NaN</td>\n",
       "      <td>no task</td>\n",
       "      <td>False</td>\n",
       "      <td>28.450000</td>\n",
       "      <td>16</td>\n",
       "      <td>neutral</td>\n",
       "      <td>female</td>\n",
       "    </tr>\n",
       "    <tr>\n",
       "      <th>314640</th>\n",
       "      <td>17</td>\n",
       "      <td>1707.1</td>\n",
       "      <td>NaN</td>\n",
       "      <td>NaN</td>\n",
       "      <td>NaN</td>\n",
       "      <td>no task</td>\n",
       "      <td>False</td>\n",
       "      <td>28.451667</td>\n",
       "      <td>16</td>\n",
       "      <td>neutral</td>\n",
       "      <td>female</td>\n",
       "    </tr>\n",
       "    <tr>\n",
       "      <th>314641</th>\n",
       "      <td>17</td>\n",
       "      <td>1707.2</td>\n",
       "      <td>NaN</td>\n",
       "      <td>NaN</td>\n",
       "      <td>NaN</td>\n",
       "      <td>no task</td>\n",
       "      <td>False</td>\n",
       "      <td>28.453333</td>\n",
       "      <td>16</td>\n",
       "      <td>neutral</td>\n",
       "      <td>female</td>\n",
       "    </tr>\n",
       "  </tbody>\n",
       "</table>\n",
       "<p>183038 rows × 11 columns</p>\n",
       "</div>"
      ],
      "text/plain": [
       "        participant_id  capture_time_secs  happiness  confusion  \\\n",
       "90021                6                0.0        NaN        NaN   \n",
       "90022                6                0.1        NaN        NaN   \n",
       "90023                6                0.2        NaN        NaN   \n",
       "90024                6                0.3        NaN        NaN   \n",
       "90025                6                0.4        NaN        NaN   \n",
       "...                ...                ...        ...        ...   \n",
       "314637              17             1706.8        NaN        NaN   \n",
       "314638              17             1706.9        NaN        NaN   \n",
       "314639              17             1707.0        NaN        NaN   \n",
       "314640              17             1707.1        NaN        NaN   \n",
       "314641              17             1707.2        NaN        NaN   \n",
       "\n",
       "       primary_emotion     task  during_self_report  capture_time_mins  \\\n",
       "90021              NaN  no task               False           0.000000   \n",
       "90022              NaN  no task               False           0.001667   \n",
       "90023              NaN  no task               False           0.003333   \n",
       "90024              NaN  no task               False           0.005000   \n",
       "90025              NaN  no task               False           0.006667   \n",
       "...                ...      ...                 ...                ...   \n",
       "314637             NaN  no task               False          28.446667   \n",
       "314638             NaN  no task               False          28.448333   \n",
       "314639             NaN  no task               False          28.450000   \n",
       "314640             NaN  no task               False          28.451667   \n",
       "314641             NaN  no task               False          28.453333   \n",
       "\n",
       "        participant_id_zero self_reported_attitude  gender  \n",
       "90021                     5                neutral  female  \n",
       "90022                     5                neutral  female  \n",
       "90023                     5                neutral  female  \n",
       "90024                     5                neutral  female  \n",
       "90025                     5                neutral  female  \n",
       "...                     ...                    ...     ...  \n",
       "314637                   16                neutral  female  \n",
       "314638                   16                neutral  female  \n",
       "314639                   16                neutral  female  \n",
       "314640                   16                neutral  female  \n",
       "314641                   16                neutral  female  \n",
       "\n",
       "[183038 rows x 11 columns]"
      ]
     },
     "execution_count": 150,
     "metadata": {},
     "output_type": "execute_result"
    }
   ],
   "source": [
    "# This is how you use the filter\n",
    "\n",
    "df_female = df[df['gender'] == 'female']\n",
    "df_female"
   ]
  },
  {
   "cell_type": "markdown",
   "metadata": {},
   "source": [
    "### **Two things to note:**\n",
    "### 1. df_female is a subset of df\n",
    "### 2. This subset dataframe still keeps track of the original row numbers (i.e., indices)"
   ]
  },
  {
   "cell_type": "markdown",
   "metadata": {},
   "source": [
    "### \n",
    "### <font color='#9E54C0'> **EXERCISE: What were the frequencies for the primary emotion for the female participants?** </font>"
   ]
  },
  {
   "cell_type": "code",
   "execution_count": null,
   "metadata": {},
   "outputs": [],
   "source": [
    "____[____].____(normalize=True).round(2)"
   ]
  },
  {
   "cell_type": "markdown",
   "metadata": {},
   "source": [
    "### What about for the male participants?"
   ]
  },
  {
   "cell_type": "code",
   "execution_count": 151,
   "metadata": {},
   "outputs": [
    {
     "data": {
      "text/plain": [
       "confusion    0.52\n",
       "happiness    0.48\n",
       "Name: primary_emotion, dtype: float64"
      ]
     },
     "execution_count": 151,
     "metadata": {},
     "output_type": "execute_result"
    }
   ],
   "source": [
    "df_male = df[df['gender'] == 'male']\n",
    "\n",
    "df_male['primary_emotion'].value_counts(normalize=True).round(2)"
   ]
  },
  {
   "cell_type": "markdown",
   "metadata": {},
   "source": [
    "### Looks like the men in this study were slightly more confused than happy, and substantially more confused and less happy than the women.\n",
    "# \n",
    "# <font color='#32925E'> How could we get these answers in one step, and without creating extra smaller datasets? </font>\n",
    "## Introducing **grouping**:"
   ]
  },
  {
   "cell_type": "markdown",
   "metadata": {},
   "source": [
    "### Grouping in pandas works using the following syntax: \n",
    "### `df.groupby(column name to groupby)[column name to aggregate].some_function()`\n",
    "### Common functions to use while grouping are \"value_counts\", \"mean\", \"median\" \"mode\", \"max\", \"min\""
   ]
  },
  {
   "cell_type": "code",
   "execution_count": 152,
   "metadata": {},
   "outputs": [
    {
     "data": {
      "text/plain": [
       "gender  primary_emotion\n",
       "female  happiness          0.72\n",
       "        confusion          0.28\n",
       "male    confusion          0.52\n",
       "        happiness          0.48\n",
       "Name: primary_emotion, dtype: float64"
      ]
     },
     "execution_count": 152,
     "metadata": {},
     "output_type": "execute_result"
    }
   ],
   "source": [
    "df.groupby('gender')['primary_emotion'].value_counts(normalize=True).round(2)"
   ]
  },
  {
   "cell_type": "markdown",
   "metadata": {},
   "source": [
    "### <font color='#9E54C0'> **Exercise: Did the participants' face reflect their emobutton choice?** </font>"
   ]
  },
  {
   "cell_type": "code",
   "execution_count": 153,
   "metadata": {},
   "outputs": [
    {
     "data": {
      "text/plain": [
       "self_reported_attitude  primary_emotion\n",
       "positive                happiness          0.71\n",
       "                        confusion          0.29\n",
       "neutral                 happiness          0.65\n",
       "                        confusion          0.35\n",
       "negative                happiness          0.36\n",
       "                        confusion          0.64\n",
       "Name: primary_emotion, dtype: float64"
      ]
     },
     "execution_count": 153,
     "metadata": {},
     "output_type": "execute_result"
    }
   ],
   "source": [
    "df.groupby('self_reported_attitude')[____].____(normalize=True).round(2).sort_index(ascending=False)\n",
    "# df.groupby('self_reported_attitude')['primary_emotion'].value_counts(normalize=True).round(2).sort_index(ascending=False)"
   ]
  },
  {
   "cell_type": "markdown",
   "metadata": {},
   "source": [
    "### The faces of the participants who hit the \"unhappy\" part of the Submit EmoButton looked substantially different than for the other two groups of participants."
   ]
  },
  {
   "cell_type": "markdown",
   "metadata": {},
   "source": [
    "### \n",
    "# <font color='#32925E'> **Were people who gave negative feedback more confused? Or less happy? Or both?** </font>"
   ]
  },
  {
   "cell_type": "markdown",
   "metadata": {},
   "source": [
    "### Seaborn is a powerful and easy-to-learn package that can create beautiful visualizations - both quick/dirty and polished.\n",
    "\n",
    "<img src = './images/seaborn_logo.png' width = 400 align = \"center\" border = \"5px solid #555\"> "
   ]
  },
  {
   "cell_type": "code",
   "execution_count": 155,
   "metadata": {},
   "outputs": [],
   "source": [
    "import seaborn as sns"
   ]
  },
  {
   "cell_type": "code",
   "execution_count": 156,
   "metadata": {},
   "outputs": [
    {
     "data": {
      "text/html": [
       "<div>\n",
       "<style scoped>\n",
       "    .dataframe tbody tr th:only-of-type {\n",
       "        vertical-align: middle;\n",
       "    }\n",
       "\n",
       "    .dataframe tbody tr th {\n",
       "        vertical-align: top;\n",
       "    }\n",
       "\n",
       "    .dataframe thead th {\n",
       "        text-align: right;\n",
       "    }\n",
       "</style>\n",
       "<table border=\"1\" class=\"dataframe\">\n",
       "  <thead>\n",
       "    <tr style=\"text-align: right;\">\n",
       "      <th></th>\n",
       "      <th>self_reported_attitude</th>\n",
       "      <th>primary_emotion</th>\n",
       "      <th>proportion</th>\n",
       "    </tr>\n",
       "  </thead>\n",
       "  <tbody>\n",
       "    <tr>\n",
       "      <th>0</th>\n",
       "      <td>positive</td>\n",
       "      <td>happiness</td>\n",
       "      <td>0.71</td>\n",
       "    </tr>\n",
       "    <tr>\n",
       "      <th>1</th>\n",
       "      <td>positive</td>\n",
       "      <td>confusion</td>\n",
       "      <td>0.29</td>\n",
       "    </tr>\n",
       "    <tr>\n",
       "      <th>2</th>\n",
       "      <td>neutral</td>\n",
       "      <td>happiness</td>\n",
       "      <td>0.65</td>\n",
       "    </tr>\n",
       "    <tr>\n",
       "      <th>3</th>\n",
       "      <td>neutral</td>\n",
       "      <td>confusion</td>\n",
       "      <td>0.35</td>\n",
       "    </tr>\n",
       "    <tr>\n",
       "      <th>4</th>\n",
       "      <td>negative</td>\n",
       "      <td>happiness</td>\n",
       "      <td>0.36</td>\n",
       "    </tr>\n",
       "    <tr>\n",
       "      <th>5</th>\n",
       "      <td>negative</td>\n",
       "      <td>confusion</td>\n",
       "      <td>0.64</td>\n",
       "    </tr>\n",
       "  </tbody>\n",
       "</table>\n",
       "</div>"
      ],
      "text/plain": [
       "  self_reported_attitude primary_emotion  proportion\n",
       "0               positive       happiness        0.71\n",
       "1               positive       confusion        0.29\n",
       "2                neutral       happiness        0.65\n",
       "3                neutral       confusion        0.35\n",
       "4               negative       happiness        0.36\n",
       "5               negative       confusion        0.64"
      ]
     },
     "execution_count": 156,
     "metadata": {},
     "output_type": "execute_result"
    }
   ],
   "source": [
    "cat_df = df.groupby('self_reported_attitude')['primary_emotion'].value_counts(normalize=True).round(2).sort_index(ascending=False)\n",
    "\n",
    "cat_df = pd.DataFrame(cat_df).rename(columns = {'primary_emotion':'proportion'}).reset_index()\n",
    "\n",
    "cat_df"
   ]
  },
  {
   "cell_type": "code",
   "execution_count": 161,
   "metadata": {},
   "outputs": [
    {
     "data": {
      "text/plain": [
       "<seaborn.axisgrid.FacetGrid at 0x1a2cef4860>"
      ]
     },
     "execution_count": 161,
     "metadata": {},
     "output_type": "execute_result"
    },
    {
     "data": {
      "image/png": "[encoded data removed]",
      "text/plain": [
       "<Figure size 452.875x360 with 1 Axes>"
      ]
     },
     "metadata": {
      "needs_background": "light"
     },
     "output_type": "display_data"
    }
   ],
   "source": [
    "sns.catplot(data = cat_df, kind = 'bar', x = 'self_reported_attitude', y = 'proportion', hue = 'primary_emotion') "
   ]
  },
  {
   "cell_type": "markdown",
   "metadata": {},
   "source": [
    "### Participants who self-reported a negative attitude had less facial happiness."
   ]
  },
  {
   "cell_type": "markdown",
   "metadata": {},
   "source": [
    "# \n",
    "# Using Python, there are numerous types of visualizations you have at your disposal to examine the shape of your data.\n",
    "### The remainder of this workshop will go over different visualizations you can produce to generate meaningful insights from this dataset.\n",
    "# "
   ]
  },
  {
   "cell_type": "markdown",
   "metadata": {},
   "source": [
    "# <font color='#32925E'> What were the session lengths? </font>\n",
    "\n",
    "### <font color='#9E54C0'> **Exercise: find the length of the test session (in minutes) for each participant.** </font>"
   ]
  },
  {
   "cell_type": "code",
   "execution_count": null,
   "metadata": {},
   "outputs": [],
   "source": [
    "# Hint: .max() finds the maximum of a column of numbers.\n",
    "\n",
    "df.groupby(____)[____].max()\n",
    "# df.groupby('participant_id_start_at_zero')['capture_time_mins'].max()"
   ]
  },
  {
   "cell_type": "markdown",
   "metadata": {},
   "source": [
    "### For an even better idea of how long most sessions were, we can create a quick and dirty histogram with just one more function wrapped around the same code."
   ]
  },
  {
   "cell_type": "code",
   "execution_count": 254,
   "metadata": {},
   "outputs": [
    {
     "data": {
      "text/plain": [
       "<AxesSubplot:xlabel='capture_time_mins', ylabel='Probability'>"
      ]
     },
     "execution_count": 254,
     "metadata": {},
     "output_type": "execute_result"
    },
    {
     "data": {
      "image/png": "[encoded data removed]",
      "text/plain": [
       "<Figure size 432x288 with 1 Axes>"
      ]
     },
     "metadata": {
      "needs_background": "light"
     },
     "output_type": "display_data"
    }
   ],
   "source": [
    "session_lengths = df.groupby('participant_id_zero')['capture_time_mins'].max() # same exact code as in the exercise above\n",
    "\n",
    "sns.histplot(session_lengths, kde = True, stat = 'probability')"
   ]
  },
  {
   "cell_type": "markdown",
   "metadata": {},
   "source": [
    "# <font color='#32925E'> What about the average time per task for participants? </font>"
   ]
  },
  {
   "cell_type": "markdown",
   "metadata": {},
   "source": [
    "### <font color='#9E54C0'> **Exercise: Identify which task took the longest on average.** </font>"
   ]
  },
  {
   "cell_type": "code",
   "execution_count": null,
   "metadata": {},
   "outputs": [],
   "source": [
    "avg_task_time = df.groupby(['task', '____'])['capture_time_mins'].____().reset_index()"
   ]
  },
  {
   "cell_type": "code",
   "execution_count": 263,
   "metadata": {},
   "outputs": [],
   "source": [
    "# avg_task_time = df.groupby(['task', 'participant_id_zero'])['capture_time_mins'].mean().reset_index()"
   ]
  },
  {
   "cell_type": "code",
   "execution_count": 264,
   "metadata": {},
   "outputs": [
    {
     "data": {
      "text/html": [
       "<div>\n",
       "<style scoped>\n",
       "    .dataframe tbody tr th:only-of-type {\n",
       "        vertical-align: middle;\n",
       "    }\n",
       "\n",
       "    .dataframe tbody tr th {\n",
       "        vertical-align: top;\n",
       "    }\n",
       "\n",
       "    .dataframe thead th {\n",
       "        text-align: right;\n",
       "    }\n",
       "</style>\n",
       "<table border=\"1\" class=\"dataframe\">\n",
       "  <thead>\n",
       "    <tr style=\"text-align: right;\">\n",
       "      <th></th>\n",
       "      <th>task</th>\n",
       "      <th>participant_id_zero</th>\n",
       "      <th>capture_time_mins</th>\n",
       "    </tr>\n",
       "  </thead>\n",
       "  <tbody>\n",
       "    <tr>\n",
       "      <th>0</th>\n",
       "      <td>no task</td>\n",
       "      <td>0</td>\n",
       "      <td>22.031218</td>\n",
       "    </tr>\n",
       "    <tr>\n",
       "      <th>1</th>\n",
       "      <td>no task</td>\n",
       "      <td>1</td>\n",
       "      <td>21.713943</td>\n",
       "    </tr>\n",
       "    <tr>\n",
       "      <th>2</th>\n",
       "      <td>no task</td>\n",
       "      <td>2</td>\n",
       "      <td>15.304818</td>\n",
       "    </tr>\n",
       "    <tr>\n",
       "      <th>3</th>\n",
       "      <td>no task</td>\n",
       "      <td>3</td>\n",
       "      <td>16.214189</td>\n",
       "    </tr>\n",
       "    <tr>\n",
       "      <th>4</th>\n",
       "      <td>no task</td>\n",
       "      <td>4</td>\n",
       "      <td>12.294583</td>\n",
       "    </tr>\n",
       "    <tr>\n",
       "      <th>...</th>\n",
       "      <td>...</td>\n",
       "      <td>...</td>\n",
       "      <td>...</td>\n",
       "    </tr>\n",
       "    <tr>\n",
       "      <th>82</th>\n",
       "      <td>task3</td>\n",
       "      <td>17</td>\n",
       "      <td>12.116667</td>\n",
       "    </tr>\n",
       "    <tr>\n",
       "      <th>83</th>\n",
       "      <td>task3</td>\n",
       "      <td>18</td>\n",
       "      <td>25.058333</td>\n",
       "    </tr>\n",
       "    <tr>\n",
       "      <th>84</th>\n",
       "      <td>task3</td>\n",
       "      <td>19</td>\n",
       "      <td>28.385833</td>\n",
       "    </tr>\n",
       "    <tr>\n",
       "      <th>85</th>\n",
       "      <td>task3</td>\n",
       "      <td>20</td>\n",
       "      <td>23.569167</td>\n",
       "    </tr>\n",
       "    <tr>\n",
       "      <th>86</th>\n",
       "      <td>task3</td>\n",
       "      <td>21</td>\n",
       "      <td>23.450000</td>\n",
       "    </tr>\n",
       "  </tbody>\n",
       "</table>\n",
       "<p>87 rows × 3 columns</p>\n",
       "</div>"
      ],
      "text/plain": [
       "       task  participant_id_zero  capture_time_mins\n",
       "0   no task                    0          22.031218\n",
       "1   no task                    1          21.713943\n",
       "2   no task                    2          15.304818\n",
       "3   no task                    3          16.214189\n",
       "4   no task                    4          12.294583\n",
       "..      ...                  ...                ...\n",
       "82    task3                   17          12.116667\n",
       "83    task3                   18          25.058333\n",
       "84    task3                   19          28.385833\n",
       "85    task3                   20          23.569167\n",
       "86    task3                   21          23.450000\n",
       "\n",
       "[87 rows x 3 columns]"
      ]
     },
     "execution_count": 264,
     "metadata": {},
     "output_type": "execute_result"
    }
   ],
   "source": [
    "avg_task_time"
   ]
  },
  {
   "cell_type": "code",
   "execution_count": 266,
   "metadata": {},
   "outputs": [
    {
     "data": {
      "text/plain": [
       "<AxesSubplot:xlabel='task', ylabel='capture_time_mins'>"
      ]
     },
     "execution_count": 266,
     "metadata": {},
     "output_type": "execute_result"
    },
    {
     "data": {
      "image/png": "[encoded data removed]",
      "text/plain": [
       "<Figure size 432x288 with 1 Axes>"
      ]
     },
     "metadata": {
      "needs_background": "light"
     },
     "output_type": "display_data"
    }
   ],
   "source": [
    "sns.boxplot(data = avg_task_time, x = 'task', y = 'capture_time_mins')"
   ]
  },
  {
   "cell_type": "markdown",
   "metadata": {},
   "source": [
    "# \n",
    "# <font color='#32925E'> **Are happiness and confusion negatively correlated?** </font>"
   ]
  },
  {
   "cell_type": "markdown",
   "metadata": {},
   "source": [
    "### It seems obvious that they should be, but let's confirm!"
   ]
  },
  {
   "cell_type": "code",
   "execution_count": 195,
   "metadata": {},
   "outputs": [
    {
     "data": {
      "text/plain": [
       "<AxesSubplot:xlabel='happiness', ylabel='confusion'>"
      ]
     },
     "execution_count": 195,
     "metadata": {},
     "output_type": "execute_result"
    },
    {
     "data": {
      "image/png": "[encoded data removed]",
      "text/plain": [
       "<Figure size 432x288 with 1 Axes>"
      ]
     },
     "metadata": {
      "needs_background": "light"
     },
     "output_type": "display_data"
    }
   ],
   "source": [
    "# Each data point is a participant\n",
    "\n",
    "happiness_by_participant = df.groupby('participant_id_zero')['happiness'].mean()\n",
    "confusion_by_participant = df.groupby('participant_id_zero')['confusion'].mean()\n",
    "\n",
    "sns.regplot(x = happiness_by_participant, y = confusion_by_participant, ci=0)"
   ]
  },
  {
   "cell_type": "markdown",
   "metadata": {},
   "source": [
    "### Looks like a negative correlation - but let's double-check that directly"
   ]
  },
  {
   "cell_type": "code",
   "execution_count": 127,
   "metadata": {},
   "outputs": [
    {
     "data": {
      "text/html": [
       "<div>\n",
       "<style scoped>\n",
       "    .dataframe tbody tr th:only-of-type {\n",
       "        vertical-align: middle;\n",
       "    }\n",
       "\n",
       "    .dataframe tbody tr th {\n",
       "        vertical-align: top;\n",
       "    }\n",
       "\n",
       "    .dataframe thead th {\n",
       "        text-align: right;\n",
       "    }\n",
       "</style>\n",
       "<table border=\"1\" class=\"dataframe\">\n",
       "  <thead>\n",
       "    <tr style=\"text-align: right;\">\n",
       "      <th></th>\n",
       "      <th>happiness</th>\n",
       "      <th>confusion</th>\n",
       "    </tr>\n",
       "  </thead>\n",
       "  <tbody>\n",
       "    <tr>\n",
       "      <th>happiness</th>\n",
       "      <td>1.0000</td>\n",
       "      <td>-0.1652</td>\n",
       "    </tr>\n",
       "    <tr>\n",
       "      <th>confusion</th>\n",
       "      <td>-0.1652</td>\n",
       "      <td>1.0000</td>\n",
       "    </tr>\n",
       "  </tbody>\n",
       "</table>\n",
       "</div>"
      ],
      "text/plain": [
       "           happiness  confusion\n",
       "happiness     1.0000    -0.1652\n",
       "confusion    -0.1652     1.0000"
      ]
     },
     "execution_count": 127,
     "metadata": {},
     "output_type": "execute_result"
    }
   ],
   "source": [
    "df[['happiness', 'confusion']].corr()"
   ]
  },
  {
   "cell_type": "markdown",
   "metadata": {},
   "source": [
    "### As expected, there's a small but significant negative correlation between facial happiness and facial confusion."
   ]
  },
  {
   "cell_type": "markdown",
   "metadata": {},
   "source": [
    "### \n",
    "# <font color='#32925E'> **Finding delight: Identifying when participants are \"extremely happy\"** </font>"
   ]
  },
  {
   "cell_type": "markdown",
   "metadata": {},
   "source": [
    "# \n",
    "# <font color='#32925E'> Do people get more happy or more confused over time? </font>"
   ]
  },
  {
   "cell_type": "markdown",
   "metadata": {},
   "source": [
    "# <font color='red'>Z-score is probably not a good example to use for anything here. Find a different function to use, while trying to keep the above topic. Also create a fake Happiness that's normally distributed, AND in a way that keeps all our earlier findings intact."
   ]
  },
  {
   "cell_type": "markdown",
   "metadata": {},
   "source": [
    "### In UX, this facial emotion-analysis tool gives us the unique opportunity to go back and see what made participants happiest during a task, even if they didn't self-report it. But first we need to define the cutoff for \"extremely happy\".\n",
    "### An accepted way to \"standardize\" continuous variables (i.e., put them all on a comparable scale) is to create their **Z-score**: from every value, subtract the mean and divide by the standard deviation. The resulting variable always has Mean==0 and Standard Deviation ==1. A Z-score >3 or <-3 is commonly considered extreme.\n",
    "### "
   ]
  },
  {
   "cell_type": "markdown",
   "metadata": {},
   "source": [
    "### Let's write a reusable function that will take any one Happiness value and make a Happiness Z-score out of it"
   ]
  },
  {
   "cell_type": "code",
   "execution_count": 314,
   "metadata": {},
   "outputs": [],
   "source": [
    "def z_score(happiness_series):\n",
    "    \n",
    "    happiness_z = (happiness_series - happiness_series.mean()) / happiness_series.std()\n",
    "    \n",
    "    return happiness_z"
   ]
  },
  {
   "cell_type": "code",
   "execution_count": 320,
   "metadata": {},
   "outputs": [
    {
     "data": {
      "text/plain": [
       "participant_id_zero\n",
       "8     0.427642\n",
       "9     0.238750\n",
       "13    0.160335\n",
       "3     0.130243\n",
       "4     0.099717\n",
       "0     0.090158\n",
       "15    0.085091\n",
       "6     0.064903\n",
       "12    0.064156\n",
       "16    0.061081\n",
       "10    0.060539\n",
       "5     0.048625\n",
       "17    0.038034\n",
       "14    0.034856\n",
       "11    0.022364\n",
       "2     0.021542\n",
       "21    0.015247\n",
       "18    0.014945\n",
       "1     0.014870\n",
       "20    0.014719\n",
       "19    0.014512\n",
       "7     0.005951\n",
       "Name: happiness, dtype: float64"
      ]
     },
     "execution_count": 320,
     "metadata": {},
     "output_type": "execute_result"
    }
   ],
   "source": [
    "df.groupby('participant_id_zero')['happiness'].mean().sort_values(ascending = False)"
   ]
  },
  {
   "cell_type": "code",
   "execution_count": 315,
   "metadata": {},
   "outputs": [
    {
     "data": {
      "text/plain": [
       "0        -0.775512\n",
       "1        -0.772246\n",
       "2        -0.751672\n",
       "3        -0.713535\n",
       "4              NaN\n",
       "            ...   \n",
       "403927   -0.303052\n",
       "403928   -0.295599\n",
       "403929   -0.297302\n",
       "403930   -0.302663\n",
       "403931    0.058793\n",
       "Name: happiness, Length: 403932, dtype: float64"
      ]
     },
     "execution_count": 315,
     "metadata": {},
     "output_type": "execute_result"
    }
   ],
   "source": [
    "df['norm_happiness'] = df.groupby('participant_id_zero')['happiness'].apply(z_score)"
   ]
  },
  {
   "cell_type": "markdown",
   "metadata": {},
   "source": [
    "### What would be the Z-score of a Happiness value of 0.55? (remember, the Happiness scale ranges from 0 to 1, so 0.55 might not seem that high)"
   ]
  },
  {
   "cell_type": "code",
   "execution_count": 95,
   "metadata": {},
   "outputs": [
    {
     "data": {
      "text/plain": [
       "3.212126704684626"
      ]
     },
     "execution_count": 95,
     "metadata": {},
     "output_type": "execute_result"
    }
   ],
   "source": [
    "z_score(0.55)"
   ]
  },
  {
   "cell_type": "markdown",
   "metadata": {},
   "source": [
    "### 0.55 on the Happiness scale is actually an extreme outlier with Z-score > 3."
   ]
  },
  {
   "cell_type": "markdown",
   "metadata": {},
   "source": [
    "### Now let's apply our Z-score function to the first real Happiness value in our actual data."
   ]
  },
  {
   "cell_type": "code",
   "execution_count": 310,
   "metadata": {},
   "outputs": [
    {
     "data": {
      "text/html": [
       "<div>\n",
       "<style scoped>\n",
       "    .dataframe tbody tr th:only-of-type {\n",
       "        vertical-align: middle;\n",
       "    }\n",
       "\n",
       "    .dataframe tbody tr th {\n",
       "        vertical-align: top;\n",
       "    }\n",
       "\n",
       "    .dataframe thead th {\n",
       "        text-align: right;\n",
       "    }\n",
       "</style>\n",
       "<table border=\"1\" class=\"dataframe\">\n",
       "  <thead>\n",
       "    <tr style=\"text-align: right;\">\n",
       "      <th></th>\n",
       "      <th>participant_id</th>\n",
       "      <th>capture_time_secs</th>\n",
       "      <th>happiness</th>\n",
       "      <th>confusion</th>\n",
       "      <th>primary_emotion</th>\n",
       "      <th>task</th>\n",
       "      <th>during_self_report</th>\n",
       "      <th>capture_time_mins</th>\n",
       "      <th>participant_id_zero</th>\n",
       "      <th>self_reported_attitude</th>\n",
       "      <th>gender</th>\n",
       "    </tr>\n",
       "  </thead>\n",
       "  <tbody>\n",
       "    <tr>\n",
       "      <th>0</th>\n",
       "      <td>1</td>\n",
       "      <td>0.0</td>\n",
       "      <td>0.013309</td>\n",
       "      <td>NaN</td>\n",
       "      <td>happiness</td>\n",
       "      <td>no task</td>\n",
       "      <td>False</td>\n",
       "      <td>0.000000</td>\n",
       "      <td>0</td>\n",
       "      <td>neutral</td>\n",
       "      <td>male</td>\n",
       "    </tr>\n",
       "    <tr>\n",
       "      <th>1</th>\n",
       "      <td>1</td>\n",
       "      <td>0.1</td>\n",
       "      <td>0.013633</td>\n",
       "      <td>NaN</td>\n",
       "      <td>happiness</td>\n",
       "      <td>no task</td>\n",
       "      <td>False</td>\n",
       "      <td>0.001667</td>\n",
       "      <td>0</td>\n",
       "      <td>neutral</td>\n",
       "      <td>male</td>\n",
       "    </tr>\n",
       "    <tr>\n",
       "      <th>2</th>\n",
       "      <td>1</td>\n",
       "      <td>0.2</td>\n",
       "      <td>0.015672</td>\n",
       "      <td>NaN</td>\n",
       "      <td>happiness</td>\n",
       "      <td>no task</td>\n",
       "      <td>False</td>\n",
       "      <td>0.003333</td>\n",
       "      <td>0</td>\n",
       "      <td>neutral</td>\n",
       "      <td>male</td>\n",
       "    </tr>\n",
       "    <tr>\n",
       "      <th>3</th>\n",
       "      <td>1</td>\n",
       "      <td>0.3</td>\n",
       "      <td>0.019451</td>\n",
       "      <td>NaN</td>\n",
       "      <td>happiness</td>\n",
       "      <td>no task</td>\n",
       "      <td>False</td>\n",
       "      <td>0.005000</td>\n",
       "      <td>0</td>\n",
       "      <td>neutral</td>\n",
       "      <td>male</td>\n",
       "    </tr>\n",
       "    <tr>\n",
       "      <th>4</th>\n",
       "      <td>1</td>\n",
       "      <td>0.4</td>\n",
       "      <td>NaN</td>\n",
       "      <td>NaN</td>\n",
       "      <td>NaN</td>\n",
       "      <td>no task</td>\n",
       "      <td>False</td>\n",
       "      <td>0.006667</td>\n",
       "      <td>0</td>\n",
       "      <td>neutral</td>\n",
       "      <td>male</td>\n",
       "    </tr>\n",
       "  </tbody>\n",
       "</table>\n",
       "</div>"
      ],
      "text/plain": [
       "   participant_id  capture_time_secs  happiness  confusion primary_emotion  \\\n",
       "0               1                0.0   0.013309        NaN       happiness   \n",
       "1               1                0.1   0.013633        NaN       happiness   \n",
       "2               1                0.2   0.015672        NaN       happiness   \n",
       "3               1                0.3   0.019451        NaN       happiness   \n",
       "4               1                0.4        NaN        NaN             NaN   \n",
       "\n",
       "      task  during_self_report  capture_time_mins  participant_id_zero  \\\n",
       "0  no task               False           0.000000                    0   \n",
       "1  no task               False           0.001667                    0   \n",
       "2  no task               False           0.003333                    0   \n",
       "3  no task               False           0.005000                    0   \n",
       "4  no task               False           0.006667                    0   \n",
       "\n",
       "  self_reported_attitude gender  \n",
       "0                neutral   male  \n",
       "1                neutral   male  \n",
       "2                neutral   male  \n",
       "3                neutral   male  \n",
       "4                neutral   male  "
      ]
     },
     "execution_count": 310,
     "metadata": {},
     "output_type": "execute_result"
    }
   ],
   "source": [
    "df.head()"
   ]
  },
  {
   "cell_type": "markdown",
   "metadata": {},
   "source": [
    "### But instead of copying \"0.013309\", let's refer to its location in the dataframe: row 0, column \"happiness\""
   ]
  },
  {
   "cell_type": "code",
   "execution_count": 97,
   "metadata": {},
   "outputs": [
    {
     "data": {
      "text/plain": [
       "0.01330945"
      ]
     },
     "execution_count": 97,
     "metadata": {},
     "output_type": "execute_result"
    }
   ],
   "source": [
    "df.loc[0, 'happiness']"
   ]
  },
  {
   "cell_type": "markdown",
   "metadata": {},
   "source": [
    "### <font color='#9E54C0'> **Exercise: Find the Confusion value in the 100,000th row of the dataset.** </font>"
   ]
  },
  {
   "cell_type": "code",
   "execution_count": null,
   "metadata": {},
   "outputs": [],
   "source": [
    "df.____[____, ____]"
   ]
  },
  {
   "cell_type": "markdown",
   "metadata": {},
   "source": [
    "### Now let's literally \"apply\" our Z-score function to _every single row_ of the Happiness column in one short line of code!"
   ]
  },
  {
   "cell_type": "code",
   "execution_count": 98,
   "metadata": {},
   "outputs": [
    {
     "data": {
      "text/plain": [
       "0        -0.345641\n",
       "1        -0.343496\n",
       "2        -0.329980\n",
       "3        -0.304928\n",
       "4              NaN\n",
       "            ...   \n",
       "403927   -0.433666\n",
       "403928   -0.431185\n",
       "403929   -0.431752\n",
       "403930   -0.433537\n",
       "403931   -0.313225\n",
       "Name: happiness_z_score, Length: 403932, dtype: float64"
      ]
     },
     "execution_count": 98,
     "metadata": {},
     "output_type": "execute_result"
    }
   ],
   "source": [
    "df['happiness_z_score'] = df['happiness'].apply(z_score)\n",
    "df['happiness_z_score']"
   ]
  },
  {
   "cell_type": "markdown",
   "metadata": {},
   "source": [
    "### <font color='#9E54C0'> **Exercise: Confirm that the mean of the Happiness Z-score is indeed 0 and the standard deviation is indeed 1.** </font>"
   ]
  },
  {
   "cell_type": "code",
   "execution_count": null,
   "metadata": {},
   "outputs": [],
   "source": [
    "df['happiness'].apply(z_score).____.round(3)"
   ]
  },
  {
   "cell_type": "markdown",
   "metadata": {},
   "source": [
    "# \n",
    "# <font color='red'> **DON'T TRY THIS AT HOME (WITH EXCEL)**\n",
    "# <font color='red'> (example of something complicated to do in Excel that takes one line of Python)"
   ]
  },
  {
   "cell_type": "code",
   "execution_count": null,
   "metadata": {},
   "outputs": [],
   "source": []
  },
  {
   "cell_type": "markdown",
   "metadata": {},
   "source": [
    "# \n",
    "# **POST-WORKSHOP: TEACHING YOURSELF**\n",
    "# "
   ]
  },
  {
   "cell_type": "markdown",
   "metadata": {},
   "source": [
    "### Google \"python create repeating list\""
   ]
  },
  {
   "cell_type": "code",
   "execution_count": 294,
   "metadata": {},
   "outputs": [
    {
     "name": "stdout",
     "output_type": "stream",
     "text": [
      "['A', 'A', 'A', 'A', 'A', 'A', 'A', 'A', 'A', 'A', 'A', 'A', 'A', 'A', 'A', 'A', 'A', 'A', 'A', 'A', 'A', 'A', 'A', 'A', 'A', 'A', 'A', 'A', 'A', 'A', 'A', 'A', 'A', 'A', 'A', 'A', 'A', 'A', 'A', 'A', 'A', 'A', 'A', 'A', 'A', 'A', 'A', 'A', 'A', 'A', 'A', 'A', 'A', 'A', 'A', 'A', 'A', 'A', 'A', 'A', 'A', 'A', 'A', 'A', 'A', 'A', 'A', 'A', 'A', 'A', 'A', 'A', 'A', 'A', 'A', 'A', 'A', 'A', 'A', 'A', 'A', 'A', 'A', 'A', 'A', 'A', 'A', 'A', 'A', 'A', 'A', 'A', 'A', 'A', 'A', 'A', 'A', 'A', 'A', 'A']\n"
     ]
    }
   ],
   "source": [
    "# From: https://stackoverflow.com/questions/3459098/create-list-of-single-item-repeated-n-times\n",
    "\n",
    "e = 'A'\n",
    "n = 100\n",
    "\n",
    "print([e] * n)"
   ]
  },
  {
   "cell_type": "markdown",
   "metadata": {},
   "source": [
    "# \n",
    "# <font color='red'> **ADD: HOW TO SAVE CSVs AND FIGURES** </font>"
   ]
  },
  {
   "cell_type": "markdown",
   "metadata": {},
   "source": [
    "### \n",
    "# <font color='#32925E'> **You want to read only the first 50 rows of a CSV. You've never done this before.** </font>"
   ]
  },
  {
   "cell_type": "markdown",
   "metadata": {},
   "source": [
    "### Google \"pandas read csv\""
   ]
  },
  {
   "cell_type": "code",
   "execution_count": null,
   "metadata": {},
   "outputs": [],
   "source": [
    "df = pd.read_csv('face_data.csv', ____=50)\n",
    "\n",
    "df"
   ]
  },
  {
   "cell_type": "markdown",
   "metadata": {},
   "source": [
    "# \n",
    "# **EXTRA CONTENT**\n",
    "# "
   ]
  },
  {
   "cell_type": "markdown",
   "metadata": {},
   "source": [
    "# ADDITIONAL VISUALIZATION IDEAS"
   ]
  },
  {
   "cell_type": "code",
   "execution_count": 100,
   "metadata": {},
   "outputs": [
    {
     "data": {
      "text/html": [
       "<div>\n",
       "<style scoped>\n",
       "    .dataframe tbody tr th:only-of-type {\n",
       "        vertical-align: middle;\n",
       "    }\n",
       "\n",
       "    .dataframe tbody tr th {\n",
       "        vertical-align: top;\n",
       "    }\n",
       "\n",
       "    .dataframe thead th {\n",
       "        text-align: right;\n",
       "    }\n",
       "</style>\n",
       "<table border=\"1\" class=\"dataframe\">\n",
       "  <thead>\n",
       "    <tr style=\"text-align: right;\">\n",
       "      <th></th>\n",
       "      <th>task</th>\n",
       "      <th>participant_id</th>\n",
       "      <th>session_length_mins</th>\n",
       "    </tr>\n",
       "  </thead>\n",
       "  <tbody>\n",
       "    <tr>\n",
       "      <th>0</th>\n",
       "      <td>no task</td>\n",
       "      <td>1</td>\n",
       "      <td>26.100000</td>\n",
       "    </tr>\n",
       "    <tr>\n",
       "      <th>1</th>\n",
       "      <td>no task</td>\n",
       "      <td>2</td>\n",
       "      <td>26.448333</td>\n",
       "    </tr>\n",
       "    <tr>\n",
       "      <th>2</th>\n",
       "      <td>no task</td>\n",
       "      <td>3</td>\n",
       "      <td>20.898333</td>\n",
       "    </tr>\n",
       "    <tr>\n",
       "      <th>3</th>\n",
       "      <td>no task</td>\n",
       "      <td>4</td>\n",
       "      <td>18.490000</td>\n",
       "    </tr>\n",
       "    <tr>\n",
       "      <th>4</th>\n",
       "      <td>no task</td>\n",
       "      <td>5</td>\n",
       "      <td>18.506667</td>\n",
       "    </tr>\n",
       "    <tr>\n",
       "      <th>...</th>\n",
       "      <td>...</td>\n",
       "      <td>...</td>\n",
       "      <td>...</td>\n",
       "    </tr>\n",
       "    <tr>\n",
       "      <th>82</th>\n",
       "      <td>task3</td>\n",
       "      <td>18</td>\n",
       "      <td>0.601667</td>\n",
       "    </tr>\n",
       "    <tr>\n",
       "      <th>83</th>\n",
       "      <td>task3</td>\n",
       "      <td>19</td>\n",
       "      <td>1.211667</td>\n",
       "    </tr>\n",
       "    <tr>\n",
       "      <th>84</th>\n",
       "      <td>task3</td>\n",
       "      <td>20</td>\n",
       "      <td>1.393333</td>\n",
       "    </tr>\n",
       "    <tr>\n",
       "      <th>85</th>\n",
       "      <td>task3</td>\n",
       "      <td>21</td>\n",
       "      <td>1.110000</td>\n",
       "    </tr>\n",
       "    <tr>\n",
       "      <th>86</th>\n",
       "      <td>task3</td>\n",
       "      <td>22</td>\n",
       "      <td>1.105000</td>\n",
       "    </tr>\n",
       "  </tbody>\n",
       "</table>\n",
       "<p>87 rows × 3 columns</p>\n",
       "</div>"
      ],
      "text/plain": [
       "       task  participant_id  session_length_mins\n",
       "0   no task               1            26.100000\n",
       "1   no task               2            26.448333\n",
       "2   no task               3            20.898333\n",
       "3   no task               4            18.490000\n",
       "4   no task               5            18.506667\n",
       "..      ...             ...                  ...\n",
       "82    task3              18             0.601667\n",
       "83    task3              19             1.211667\n",
       "84    task3              20             1.393333\n",
       "85    task3              21             1.110000\n",
       "86    task3              22             1.105000\n",
       "\n",
       "[87 rows x 3 columns]"
      ]
     },
     "execution_count": 100,
     "metadata": {},
     "output_type": "execute_result"
    }
   ],
   "source": [
    "test = df.groupby(['task', 'participant_id']).apply(len).reset_index()\n",
    "test.columns = ['task', 'participant_id', 'session_length_mins']\n",
    "test['session_length_mins'] = test['session_length_mins'] / 600\n",
    "test"
   ]
  },
  {
   "cell_type": "code",
   "execution_count": 101,
   "metadata": {},
   "outputs": [
    {
     "data": {
      "text/plain": [
       "<AxesSubplot:xlabel='session_length_mins', ylabel='task'>"
      ]
     },
     "execution_count": 101,
     "metadata": {},
     "output_type": "execute_result"
    },
    {
     "data": {
      "image/png": "[encoded data removed]",
      "text/plain": [
       "<Figure size 432x288 with 1 Axes>"
      ]
     },
     "metadata": {
      "needs_background": "light"
     },
     "output_type": "display_data"
    }
   ],
   "source": [
    "# How long each task took. Issue: creating dataset for it is complex / out of scope.\n",
    "\n",
    "sns.boxplot(test.session_length_mins, test.task)"
   ]
  },
  {
   "cell_type": "code",
   "execution_count": 102,
   "metadata": {},
   "outputs": [
    {
     "data": {
      "text/html": [
       "<div>\n",
       "<style scoped>\n",
       "    .dataframe tbody tr th:only-of-type {\n",
       "        vertical-align: middle;\n",
       "    }\n",
       "\n",
       "    .dataframe tbody tr th {\n",
       "        vertical-align: top;\n",
       "    }\n",
       "\n",
       "    .dataframe thead th {\n",
       "        text-align: right;\n",
       "    }\n",
       "</style>\n",
       "<table border=\"1\" class=\"dataframe\">\n",
       "  <thead>\n",
       "    <tr style=\"text-align: right;\">\n",
       "      <th></th>\n",
       "      <th>self_reported_attitude</th>\n",
       "      <th>participant_id</th>\n",
       "      <th>session_length_mins</th>\n",
       "    </tr>\n",
       "  </thead>\n",
       "  <tbody>\n",
       "    <tr>\n",
       "      <th>0</th>\n",
       "      <td>negative</td>\n",
       "      <td>2</td>\n",
       "      <td>0.043500</td>\n",
       "    </tr>\n",
       "    <tr>\n",
       "      <th>1</th>\n",
       "      <td>negative</td>\n",
       "      <td>19</td>\n",
       "      <td>0.044081</td>\n",
       "    </tr>\n",
       "    <tr>\n",
       "      <th>2</th>\n",
       "      <td>negative</td>\n",
       "      <td>20</td>\n",
       "      <td>0.034831</td>\n",
       "    </tr>\n",
       "    <tr>\n",
       "      <th>3</th>\n",
       "      <td>negative</td>\n",
       "      <td>21</td>\n",
       "      <td>0.030817</td>\n",
       "    </tr>\n",
       "    <tr>\n",
       "      <th>4</th>\n",
       "      <td>negative</td>\n",
       "      <td>22</td>\n",
       "      <td>0.030844</td>\n",
       "    </tr>\n",
       "    <tr>\n",
       "      <th>5</th>\n",
       "      <td>neutral</td>\n",
       "      <td>1</td>\n",
       "      <td>0.041378</td>\n",
       "    </tr>\n",
       "    <tr>\n",
       "      <th>6</th>\n",
       "      <td>neutral</td>\n",
       "      <td>3</td>\n",
       "      <td>0.025494</td>\n",
       "    </tr>\n",
       "    <tr>\n",
       "      <th>7</th>\n",
       "      <td>neutral</td>\n",
       "      <td>6</td>\n",
       "      <td>0.042439</td>\n",
       "    </tr>\n",
       "    <tr>\n",
       "      <th>8</th>\n",
       "      <td>neutral</td>\n",
       "      <td>14</td>\n",
       "      <td>0.030633</td>\n",
       "    </tr>\n",
       "    <tr>\n",
       "      <th>9</th>\n",
       "      <td>neutral</td>\n",
       "      <td>15</td>\n",
       "      <td>0.035764</td>\n",
       "    </tr>\n",
       "    <tr>\n",
       "      <th>10</th>\n",
       "      <td>neutral</td>\n",
       "      <td>17</td>\n",
       "      <td>0.031217</td>\n",
       "    </tr>\n",
       "    <tr>\n",
       "      <th>11</th>\n",
       "      <td>neutral</td>\n",
       "      <td>18</td>\n",
       "      <td>0.046261</td>\n",
       "    </tr>\n",
       "    <tr>\n",
       "      <th>12</th>\n",
       "      <td>positive</td>\n",
       "      <td>4</td>\n",
       "      <td>0.047572</td>\n",
       "    </tr>\n",
       "    <tr>\n",
       "      <th>13</th>\n",
       "      <td>positive</td>\n",
       "      <td>7</td>\n",
       "      <td>0.060403</td>\n",
       "    </tr>\n",
       "    <tr>\n",
       "      <th>14</th>\n",
       "      <td>positive</td>\n",
       "      <td>8</td>\n",
       "      <td>0.039397</td>\n",
       "    </tr>\n",
       "    <tr>\n",
       "      <th>15</th>\n",
       "      <td>positive</td>\n",
       "      <td>10</td>\n",
       "      <td>0.048264</td>\n",
       "    </tr>\n",
       "    <tr>\n",
       "      <th>16</th>\n",
       "      <td>positive</td>\n",
       "      <td>12</td>\n",
       "      <td>0.035139</td>\n",
       "    </tr>\n",
       "    <tr>\n",
       "      <th>17</th>\n",
       "      <td>positive</td>\n",
       "      <td>13</td>\n",
       "      <td>0.025906</td>\n",
       "    </tr>\n",
       "    <tr>\n",
       "      <th>18</th>\n",
       "      <td>positive</td>\n",
       "      <td>16</td>\n",
       "      <td>0.040306</td>\n",
       "    </tr>\n",
       "  </tbody>\n",
       "</table>\n",
       "</div>"
      ],
      "text/plain": [
       "   self_reported_attitude  participant_id  session_length_mins\n",
       "0                negative               2             0.043500\n",
       "1                negative              19             0.044081\n",
       "2                negative              20             0.034831\n",
       "3                negative              21             0.030817\n",
       "4                negative              22             0.030844\n",
       "5                 neutral               1             0.041378\n",
       "6                 neutral               3             0.025494\n",
       "7                 neutral               6             0.042439\n",
       "8                 neutral              14             0.030633\n",
       "9                 neutral              15             0.035764\n",
       "10                neutral              17             0.031217\n",
       "11                neutral              18             0.046261\n",
       "12               positive               4             0.047572\n",
       "13               positive               7             0.060403\n",
       "14               positive               8             0.039397\n",
       "15               positive              10             0.048264\n",
       "16               positive              12             0.035139\n",
       "17               positive              13             0.025906\n",
       "18               positive              16             0.040306"
      ]
     },
     "execution_count": 102,
     "metadata": {},
     "output_type": "execute_result"
    }
   ],
   "source": [
    "# How long did self-reportedly unhappy vs. neutral vs. happy participants take to get thru the session?\n",
    "\n",
    "test2 = df.groupby(['self_reported_attitude', 'participant_id']).apply(len).reset_index()\n",
    "test2.columns = ['self_reported_attitude', 'participant_id', 'session_length_mins']\n",
    "test2['session_length_mins'] = test['session_length_mins'] / 600\n",
    "test2"
   ]
  },
  {
   "cell_type": "code",
   "execution_count": 103,
   "metadata": {},
   "outputs": [
    {
     "data": {
      "text/plain": [
       "<AxesSubplot:xlabel='session_length_mins', ylabel='self_reported_attitude'>"
      ]
     },
     "execution_count": 103,
     "metadata": {},
     "output_type": "execute_result"
    },
    {
     "data": {
      "image/png": "[encoded data removed]",
      "text/plain": [
       "<Figure size 432x288 with 1 Axes>"
      ]
     },
     "metadata": {
      "needs_background": "light"
     },
     "output_type": "display_data"
    }
   ],
   "source": [
    "# How long each type of participant took. Issue: creating dataset for it is complex / out of scope.\n",
    "\n",
    "sns.boxplot(test2.session_length_mins, test2.self_reported_attitude)"
   ]
  },
  {
   "cell_type": "code",
   "execution_count": null,
   "metadata": {},
   "outputs": [],
   "source": []
  }
 ],
 "metadata": {
  "kernelspec": {
   "display_name": "Python 3",
   "language": "python",
   "name": "python3"
  },
  "language_info": {
   "codemirror_mode": {
    "name": "ipython",
    "version": 3
   },
   "file_extension": ".py",
   "mimetype": "text/x-python",
   "name": "python",
   "nbconvert_exporter": "python",
   "pygments_lexer": "ipython3",
   "version": "3.6.10"
  }
 },
 "nbformat": 4,
 "nbformat_minor": 4
}
