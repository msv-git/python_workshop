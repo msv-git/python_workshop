{
 "cells": [
  {
   "cell_type": "markdown",
   "metadata": {},
   "source": [
    "<img src=\"./images/title_slide.png\" width=\"1020\" align=\"center\" border = \"5px solid #555\">"
   ]
  },
  {
   "cell_type": "markdown",
   "metadata": {},
   "source": [
    "<img src=\"./images/presenters.png\" width=\"1020\" align=\"center\" border = \"5px solid #555\">"
   ]
  },
  {
   "cell_type": "markdown",
   "metadata": {},
   "source": [
    "<img src=\"./images/why_python.png\" width=\"1020\" align=\"center\" border = \"5px solid #555\">"
   ]
  },
  {
   "cell_type": "markdown",
   "metadata": {},
   "source": [
    "<img src=\"./images/python_better_than_excel.png\" width=\"1020\" align=\"center\" border = \"5px solid #555\">"
   ]
  },
  {
   "cell_type": "markdown",
   "metadata": {},
   "source": [
    "# The goal is to eventually be like this guy:"
   ]
  },
  {
   "cell_type": "markdown",
   "metadata": {},
   "source": [
    "<img src=\"https://www.abc.net.au/cm/rimage/12082194-3x2-xlarge.jpg\" width=\"750\" border = \"5px solid #555\" align=\"center\" >"
   ]
  },
  {
   "cell_type": "markdown",
   "metadata": {},
   "source": [
    "# But we'll start here:"
   ]
  },
  {
   "cell_type": "markdown",
   "metadata": {},
   "source": [
    "<img src=\"./images/snake-charmer-simple-icon-vector-6819909.jpg\" width=\"200\" align=\"center\" border = \"5px solid #555\">"
   ]
  },
  {
   "cell_type": "markdown",
   "metadata": {},
   "source": [
    "# This is a \"Jupyter notebook\": a beginner-friendly environment to start learning and playing with Python in a web browser.\n",
    "# A notebook consists of _cells_ (see what the arrow is pointing to below). Each cell can contain:\n",
    "## 1. Python code\n",
    "## 2. Markdown (i.e., a _fancy_ way to present **text**)\n",
    "## 3. `Raw text`"
   ]
  },
  {
   "cell_type": "markdown",
   "metadata": {},
   "source": [
    " <img src=\"./images/down_arrow.gif\" width=\"100\" align=\"left\">"
   ]
  },
  {
   "cell_type": "code",
   "execution_count": null,
   "metadata": {},
   "outputs": [],
   "source": [
    "# This is a python code cell\n",
    "\n"
   ]
  },
  {
   "cell_type": "markdown",
   "metadata": {},
   "source": [
    "# \n",
    "# Each cell below contains Python code. You can run the code in the cell by clicking into the cell, then pressing <font color='#9E54C0'>**CTRL-ENTER**</font>, or by clicking the Play icon on the upper left. The output of the code (if any) shows up right below that cell.\n",
    "<!-- # <img src=\"./images/notebook_options_light.png\"> -->\n",
    "\n",
    "# <img src = \"./images/binder_header.png\">"
   ]
  },
  {
   "cell_type": "markdown",
   "metadata": {},
   "source": [
    "### Click anywhere inside this next cell and run it by pressing CTRL-ENTER"
   ]
  },
  {
   "cell_type": "code",
   "execution_count": null,
   "metadata": {},
   "outputs": [],
   "source": [
    "print(\"Hello, world!\")"
   ]
  },
  {
   "cell_type": "markdown",
   "metadata": {},
   "source": [
    "# \n",
    "# For the remainder of this notebook, pay attention to the text color _above_ cells:\n",
    "### 1. Most of the text is in black font, which is informative only. \n",
    "### 2. The word <span style=\"color:#9E54C0\"> **\"Exercise\"** </span> indicates when you should try out what you've learned.\n",
    "# "
   ]
  },
  {
   "cell_type": "markdown",
   "metadata": {},
   "source": [
    "# Table of Contents\n",
    "\n",
    "### 1. Python Basics\n",
    "### 2. Intro to Pandas (Essential Data Analysis Package)\n",
    "### 3. Read in existing data\n",
    "### 4. Basic shape of the data (size, mean, sd, median, etc)\n",
    "### 5. Transform data\n",
    "### 6. Examine missing data\n",
    "### 7. Categorical variables: frequencies\n",
    "### 8. Filter data\n",
    "### 9. Compare groups on a measure\n",
    "### 10. Quickly visualize your data\n",
    "### 11. How to teach yourself"
   ]
  },
  {
   "cell_type": "markdown",
   "metadata": {},
   "source": [
    "# \n",
    "# **PYTHON BASICS**"
   ]
  },
  {
   "cell_type": "markdown",
   "metadata": {},
   "source": [
    "# Let's start with some basic information that you'll need to know in order to work through the exercises today.\n",
    "\n",
    "## \n",
    "\n"
   ]
  },
  {
   "cell_type": "markdown",
   "metadata": {},
   "source": [
    "### In this section, we'll be going over _**variables**_.\n",
    "### In math we learned about variables (e.g., x = 4), and in Python variables generally work in the same way. \n",
    "### A **variable** is a stand-in value that represents one or more values. \n",
    "# \n",
    "### In Python, you may use any name you want for a variable **so long as**:\n",
    "### &nbsp;&nbsp;&nbsp;&nbsp;&nbsp;&nbsp; 1. The variable name does **not** start with a number \n",
    "### &nbsp;&nbsp;&nbsp;&nbsp;&nbsp;&nbsp; 2. There are **no spaces** between characters in the variable name"
   ]
  },
  {
   "cell_type": "markdown",
   "metadata": {},
   "source": [
    "### Some variables contain just one value. Those can be one of **four types**:\n",
    "### &nbsp;&nbsp;&nbsp;&nbsp;&nbsp;&nbsp; 1. an **integer** (e.g., 5)\n",
    "### &nbsp;&nbsp;&nbsp;&nbsp;&nbsp;&nbsp; 2. a **float** (e.g., 5.0)\n",
    "### &nbsp;&nbsp;&nbsp;&nbsp;&nbsp;&nbsp; 3. a **string** (e.g., 'abc' or '5')\n",
    "### &nbsp;&nbsp;&nbsp;&nbsp;&nbsp;&nbsp; 4. a **boolean** (True or False)"
   ]
  },
  {
   "cell_type": "code",
   "execution_count": null,
   "metadata": {},
   "outputs": [],
   "source": [
    "# Remember, use CTRL-ENTER to run a cell\n",
    "\n",
    "a = 5\n",
    "\n",
    "b = 5.0\n",
    "\n",
    "c = 'abc'\n",
    "\n",
    "d = False\n",
    "\n",
    "print(a)\n",
    "print(b)\n",
    "print(c)\n",
    "print(d)"
   ]
  },
  {
   "cell_type": "markdown",
   "metadata": {},
   "source": [
    "### True is equivalent to 1, False is equivalent to 0"
   ]
  },
  {
   "cell_type": "code",
   "execution_count": null,
   "metadata": {},
   "outputs": [],
   "source": [
    "print(True + True)\n",
    "print(False * 10)"
   ]
  },
  {
   "cell_type": "markdown",
   "metadata": {},
   "source": [
    "### The \"==\" symbol checks if two things are equal"
   ]
  },
  {
   "cell_type": "code",
   "execution_count": null,
   "metadata": {},
   "outputs": [],
   "source": [
    "print(3 == 5)\n",
    "print(5 == 5)\n",
    "print(a == 5)\n",
    "print(False == 0)"
   ]
  },
  {
   "cell_type": "markdown",
   "metadata": {},
   "source": [
    "## Python Lists"
   ]
  },
  {
   "cell_type": "markdown",
   "metadata": {},
   "source": [
    "### A variable can also contain many values at once. The most common example of this kind of variable in Python is a **list**. \n",
    "### You know it's a list because it has brackets [ ] with one or more values inside.\n",
    "### A list can hold any number of any kind of values, and therefore is incredibly flexible and useful for python coders."
   ]
  },
  {
   "cell_type": "code",
   "execution_count": null,
   "metadata": {},
   "outputs": [],
   "source": [
    "my_list = ['a', 5, True, 'DESIGN', 0.9]\n",
    "\n",
    "print(my_list)\n",
    "print(type(my_list))\n",
    "print(len(my_list))"
   ]
  },
  {
   "cell_type": "markdown",
   "metadata": {},
   "source": [
    "### Generally, we create lists because we want to access the items inside.\n",
    "\n",
    "### If you want a particular value in the list, use brackets to extract it. The number inside the brackets indicates the position inside the list."
   ]
  },
  {
   "cell_type": "code",
   "execution_count": null,
   "metadata": {},
   "outputs": [],
   "source": [
    "print(my_list[0])"
   ]
  },
  {
   "cell_type": "markdown",
   "metadata": {},
   "source": [
    "### Why 0? Python is what's called a \"zero-indexing\" language, where the first thing in any data structure is actually the \"zeroth\" thing."
   ]
  },
  {
   "cell_type": "markdown",
   "metadata": {},
   "source": [
    "### <font color='#9E54C0'> **EXERCISE: Print the last (5th item) in _my_list_.**  </font>"
   ]
  },
  {
   "cell_type": "code",
   "execution_count": 11,
   "metadata": {},
   "outputs": [],
   "source": [
    "print(____)"
   ]
  },
  {
   "cell_type": "markdown",
   "metadata": {},
   "source": [
    "### \n",
    "## Errors in Python\n",
    "### If you try something crazy, Python will print an **error**. \n",
    "### At first, errors may be incomprehensible and frustrating. \n",
    "### With a little experience, it'll start becoming obvious what you need to fix as soon as you see an error. You'll say \"duh!\" a lot and it'll feel good."
   ]
  },
  {
   "cell_type": "markdown",
   "metadata": {},
   "source": [
    "### \n",
    "### <font color='#9E54C0'> **EXERCISE: Try running each cell below.**  </font>"
   ]
  },
  {
   "cell_type": "code",
   "execution_count": null,
   "metadata": {},
   "outputs": [],
   "source": [
    "print(3"
   ]
  },
  {
   "cell_type": "code",
   "execution_count": null,
   "metadata": {},
   "outputs": [],
   "source": [
    "5 = a"
   ]
  },
  {
   "cell_type": "markdown",
   "metadata": {},
   "source": [
    "# \n",
    "# Comments\n",
    "### Comments are incredibly useful in any coding language. \n",
    "### Code is read way more often than it is written, so comments allow others (including future versions of yourself) ways to understand what your code is doing.\n",
    "\n",
    "### Comments are also a useful way to keep code in a particular cell without having to run it."
   ]
  },
  {
   "cell_type": "code",
   "execution_count": null,
   "metadata": {},
   "outputs": [],
   "source": [
    "# This is a comment about the line of code below so I can remember what it does.\n",
    "a = 5\n",
    "\n",
    "# I want to skip the line of code below for now, without deleting it, so I commented it out.\n",
    "# print(a)"
   ]
  },
  {
   "cell_type": "markdown",
   "metadata": {},
   "source": [
    "### \n",
    "# That's it for Python basics! The rest of this workshop is dedicated entirely to the essential data-analysis and visualization packages.\n",
    "# **If you'd like to learn more about Python, please see the links in our reference section below.**\n",
    "### "
   ]
  },
  {
   "cell_type": "markdown",
   "metadata": {},
   "source": [
    "# \n",
    "# **ESSENTIAL DATA SCIENCE PACKAGES**\n",
    "### <img src=\"./images/pandas_logo.png\" width=\"400\" align=\"center\">\n",
    "\n",
    "## The vast majority of what you do in Python will involve working within numpy and pandas (mostly pandas), rather than base Python.\n",
    "### "
   ]
  },
  {
   "cell_type": "markdown",
   "metadata": {},
   "source": [
    "# Importing packages to use in your notebook\n",
    "### **Packages** are collections of useful functions that allow you to do something with your data."
   ]
  },
  {
   "cell_type": "markdown",
   "metadata": {},
   "source": [
    "### Luckily for you, we've already installed these packages in your workspace.\n",
    "### Even though packages may already be installed, you still need to **import** them into your notebook.\n",
    "### Generally, python programmers use abbreviations for packages when they import them so that they don't have to type more letters when referencing the package in the notebook."
   ]
  },
  {
   "cell_type": "code",
   "execution_count": 2,
   "metadata": {},
   "outputs": [],
   "source": [
    "import pandas as pd"
   ]
  },
  {
   "cell_type": "markdown",
   "metadata": {},
   "source": [
    "### From this point on in the notebook, \"pd. ...\" means it comes from pandas."
   ]
  },
  {
   "cell_type": "markdown",
   "metadata": {},
   "source": [
    "### \n",
    "# **BACKGROUND: FACIAL MICROEXPRESSIONS DATASET**\n",
    "### "
   ]
  },
  {
   "cell_type": "markdown",
   "metadata": {},
   "source": [
    "### In 2018, our Design Research group ran a standard, ~30-minute, 1:1 in-person formative test of an enterprise software prototype with Oracle employee participants.\n",
    "### The test contained 3 realistic tasks for each participant to complete, while talking out loud. Each task ended with a special **Submit \"emo\"button** that allowed the participant to indicate their experience on the page (negative, neutral, or positive) at the exact same time as Submitting their data entry on the page. \n",
    "# \n",
    "# \n",
    "# \n",
    "# "
   ]
  },
  {
   "cell_type": "markdown",
   "metadata": {},
   "source": [
    "<img src=\"./images/emo_button.gif\" width=\"400\" align=\"center\">"
   ]
  },
  {
   "cell_type": "markdown",
   "metadata": {},
   "source": [
    "# \n",
    "## Testing this \"emobutton\" was the main goal of the research project: \n",
    "- <font size = 5 > Would participants notice it? \n",
    "- <font size = 5 > Would it seem like a valid measure of happiness or frustration?"
   ]
  },
  {
   "cell_type": "markdown",
   "metadata": {},
   "source": [
    "### Another special part of the study was that we recorded participants' faces the whole time. Then we ran the recordings through an emotional expression-detecting software called Noldus Facereader. This gave us a measure of how happy, confused, etc., each participant's face looked every 10th of a second for the entire duration. \n",
    "# \n",
    " <img src=\"./images/facereader example Hillel.png\" width=\"750\" align=\"center\">\n",
    "\n",
    "# \n",
    "# \n",
    "# <font color='#32925E'> **Our focus for the remainder of the workshop will be to explore some basic, fundamental questions about the data from this project - the <font size = 6 > \"shape of the data\".**</font> </font>\n",
    "# \n",
    "# "
   ]
  },
  {
   "cell_type": "markdown",
   "metadata": {},
   "source": [
    "# **PANDAS**"
   ]
  },
  {
   "cell_type": "markdown",
   "metadata": {},
   "source": [
    "<img src = \"./images/distracted_researcher_meme.jpg\" width = \"900\" align = \"center\" border = \"5px solid #555\" >"
   ]
  },
  {
   "cell_type": "markdown",
   "metadata": {},
   "source": [
    "\n",
    "### is a package that allows you to efficiently view, edit, transform, and extract insights from 2-dimensional tables of data (called \"dataframes\").\n",
    "### It's sort of like Excel, but can perform a lot of things faster and easier.\n",
    "\n",
    "### Dataframes are organized in a Rows x Columns format, just like an Excel spreadsheet.\n",
    "\n",
    "<img src = './images/dataframe_pic.png' width = 400 align = \"center\" > "
   ]
  },
  {
   "cell_type": "markdown",
   "metadata": {},
   "source": [
    "### After importing useful packages, the next thing researchers need do is read in data. \n",
    "### Most of the time, the data we need will be either a \".csv\" or \".xlsx\" file format.\n",
    "# \n",
    "### Read in an **existing** CSV or Excel file and call it \"df\" (a common abbreviation that stands for \"dataframe\")\n",
    "\n",
    "### (this is how you'll start off most of the time in real life)"
   ]
  },
  {
   "cell_type": "code",
   "execution_count": 11,
   "metadata": {},
   "outputs": [],
   "source": [
    "df = pd.read_csv('face_data_all.csv.gz')"
   ]
  },
  {
   "cell_type": "markdown",
   "metadata": {},
   "source": [
    "# \n",
    "### Beyond the data captured by Noldus Facereader, we also put together some data about participants. \n",
    "### We'll need to rely on information from both of those files for our work today."
   ]
  },
  {
   "cell_type": "markdown",
   "metadata": {},
   "source": [
    "### <font color='#9E54C0'> **EXERCISE: Read an Excel file named 'participant_data.xlsx' by using the command _pd.read_excel_. Call this dataframe \"dfp\".**  </font>"
   ]
  },
  {
   "cell_type": "code",
   "execution_count": 7,
   "metadata": {},
   "outputs": [],
   "source": [
    "dfp = ____('participant_data.xlsx')"
   ]
  },
  {
   "cell_type": "markdown",
   "metadata": {},
   "source": [
    "# <font color='#32925E'> **Literally, what is the shape of the data?** </font>"
   ]
  },
  {
   "cell_type": "code",
   "execution_count": null,
   "metadata": {},
   "outputs": [],
   "source": [
    "df.shape"
   ]
  },
  {
   "cell_type": "markdown",
   "metadata": {},
   "source": [
    "### The 1st number in this output represents the number of rows in the df dataframe; the 2nd number is columns. \n",
    "### Given how large this file is, this is not something you'd want to open in Excel!\n",
    "# "
   ]
  },
  {
   "cell_type": "markdown",
   "metadata": {},
   "source": [
    "# <font color='#32925E'> **What are the column names?** </font>"
   ]
  },
  {
   "cell_type": "code",
   "execution_count": null,
   "metadata": {},
   "outputs": [],
   "source": [
    "df.columns"
   ]
  },
  {
   "cell_type": "markdown",
   "metadata": {},
   "source": [
    "# <font color='#32925E'> **That's fine, but what does the dataset actually _look like_?** </font>"
   ]
  },
  {
   "cell_type": "code",
   "execution_count": null,
   "metadata": {},
   "outputs": [],
   "source": [
    "df"
   ]
  },
  {
   "cell_type": "markdown",
   "metadata": {},
   "source": [
    "### Pandas displays information in a neat and visible way. \n",
    "### When the dataframe has a large number of rows, Pandas puts \"...\" in the middle to show you the first five and the last five rows of the dataframe.\n",
    "\n"
   ]
  },
  {
   "cell_type": "markdown",
   "metadata": {},
   "source": [
    "# <font color='#32925E'> **What if I want to see just the first few rows?** </font>"
   ]
  },
  {
   "cell_type": "code",
   "execution_count": null,
   "metadata": {},
   "outputs": [],
   "source": [
    "df.head(5)"
   ]
  },
  {
   "cell_type": "markdown",
   "metadata": {},
   "source": [
    "### \n",
    "### You may have noticed the following pattern above: `df.some_attribute` or `df.some_function()`\n",
    "### This makes Python syntax more user-friendly than some other languages, like Excel syntax. Instead of this:\n",
    "### `function3(function2(function1(df)))` , you usually write and see this:\n",
    "### `df.function1().function2().function3()` . Much better, right?\n",
    "### "
   ]
  },
  {
   "cell_type": "markdown",
   "metadata": {},
   "source": [
    "### \n",
    "# **DIVING INTO THE FACIAL MICROEXPRESSIONS DATASET: DETAILS**"
   ]
  },
  {
   "cell_type": "markdown",
   "metadata": {},
   "source": [
    "### **\"participant_id\"** is self-explanatory.\n",
    "### Every row in the dataset is one frame (0.1 seconds) of one participant's video. Hence, **\"capture_time_secs\"** is the cumulative time at frame capture; every participant starts at 0.0.\n",
    "### **\"happiness\"** is the degree of happiness in the participant's facial expression at that moment, ranging from 0 (none) to 1 (max); **\"confusion\"** - same idea. \n",
    "\n",
    "### **\"primary_emotion\"** is whichever of \"happiness\" or \"confusion\" is present to a greater degree in the face. Yes, multiple emotions can be expressed and detected in faces to varying degrees at the same time. <img src=\"./images/smile_emoji.jpg\" width=\"50\" align=\"Center\" border = \"2px solid #555\"> <img src=\"./images/neutral_emoji.png\" width=\"50\" align=\"Center\" border = \"2px solid #555\"> <img src=\"./images/frown_emoji.png\" width=\"50\" align=\"Center\" border = \"2px solid #555\">\n",
    "### **\"task\"** is which of the three aforementioned tasks the participant was doing at the time of capture.\n",
    "### **\"self_reported_attitude\"** corresponds to which part of the Submit EmoButton that participant clicked.\n",
    "### **\"gender\"** corresponds to the gender of the participant."
   ]
  },
  {
   "cell_type": "code",
   "execution_count": 13,
   "metadata": {},
   "outputs": [
    {
     "data": {
      "text/html": [
       "<div>\n",
       "<style scoped>\n",
       "    .dataframe tbody tr th:only-of-type {\n",
       "        vertical-align: middle;\n",
       "    }\n",
       "\n",
       "    .dataframe tbody tr th {\n",
       "        vertical-align: top;\n",
       "    }\n",
       "\n",
       "    .dataframe thead th {\n",
       "        text-align: right;\n",
       "    }\n",
       "</style>\n",
       "<table border=\"1\" class=\"dataframe\">\n",
       "  <thead>\n",
       "    <tr style=\"text-align: right;\">\n",
       "      <th></th>\n",
       "      <th>participant_id</th>\n",
       "      <th>capture_time_secs</th>\n",
       "      <th>happiness</th>\n",
       "      <th>confusion</th>\n",
       "      <th>primary_emotion</th>\n",
       "      <th>task</th>\n",
       "      <th>self_reported_attitude</th>\n",
       "      <th>gender</th>\n",
       "    </tr>\n",
       "  </thead>\n",
       "  <tbody>\n",
       "    <tr>\n",
       "      <th>0</th>\n",
       "      <td>1</td>\n",
       "      <td>0.0</td>\n",
       "      <td>0.013309</td>\n",
       "      <td>NaN</td>\n",
       "      <td>happiness</td>\n",
       "      <td>no task</td>\n",
       "      <td>neutral</td>\n",
       "      <td>male</td>\n",
       "    </tr>\n",
       "    <tr>\n",
       "      <th>1</th>\n",
       "      <td>1</td>\n",
       "      <td>0.1</td>\n",
       "      <td>0.013633</td>\n",
       "      <td>NaN</td>\n",
       "      <td>happiness</td>\n",
       "      <td>no task</td>\n",
       "      <td>neutral</td>\n",
       "      <td>male</td>\n",
       "    </tr>\n",
       "    <tr>\n",
       "      <th>2</th>\n",
       "      <td>1</td>\n",
       "      <td>0.2</td>\n",
       "      <td>0.015672</td>\n",
       "      <td>NaN</td>\n",
       "      <td>happiness</td>\n",
       "      <td>no task</td>\n",
       "      <td>neutral</td>\n",
       "      <td>male</td>\n",
       "    </tr>\n",
       "    <tr>\n",
       "      <th>3</th>\n",
       "      <td>1</td>\n",
       "      <td>0.3</td>\n",
       "      <td>0.019451</td>\n",
       "      <td>NaN</td>\n",
       "      <td>happiness</td>\n",
       "      <td>no task</td>\n",
       "      <td>neutral</td>\n",
       "      <td>male</td>\n",
       "    </tr>\n",
       "    <tr>\n",
       "      <th>4</th>\n",
       "      <td>1</td>\n",
       "      <td>0.4</td>\n",
       "      <td>NaN</td>\n",
       "      <td>NaN</td>\n",
       "      <td>NaN</td>\n",
       "      <td>no task</td>\n",
       "      <td>neutral</td>\n",
       "      <td>male</td>\n",
       "    </tr>\n",
       "    <tr>\n",
       "      <th>...</th>\n",
       "      <td>...</td>\n",
       "      <td>...</td>\n",
       "      <td>...</td>\n",
       "      <td>...</td>\n",
       "      <td>...</td>\n",
       "      <td>...</td>\n",
       "      <td>...</td>\n",
       "      <td>...</td>\n",
       "    </tr>\n",
       "    <tr>\n",
       "      <th>403927</th>\n",
       "      <td>22</td>\n",
       "      <td>1781.7</td>\n",
       "      <td>0.000031</td>\n",
       "      <td>0.044686</td>\n",
       "      <td>confusion</td>\n",
       "      <td>no task</td>\n",
       "      <td>negative</td>\n",
       "      <td>male</td>\n",
       "    </tr>\n",
       "    <tr>\n",
       "      <th>403928</th>\n",
       "      <td>22</td>\n",
       "      <td>1781.8</td>\n",
       "      <td>0.000405</td>\n",
       "      <td>0.071171</td>\n",
       "      <td>confusion</td>\n",
       "      <td>no task</td>\n",
       "      <td>negative</td>\n",
       "      <td>male</td>\n",
       "    </tr>\n",
       "    <tr>\n",
       "      <th>403929</th>\n",
       "      <td>22</td>\n",
       "      <td>1781.9</td>\n",
       "      <td>0.000320</td>\n",
       "      <td>0.017704</td>\n",
       "      <td>confusion</td>\n",
       "      <td>no task</td>\n",
       "      <td>negative</td>\n",
       "      <td>male</td>\n",
       "    </tr>\n",
       "    <tr>\n",
       "      <th>403930</th>\n",
       "      <td>22</td>\n",
       "      <td>1782.0</td>\n",
       "      <td>0.000050</td>\n",
       "      <td>0.000000</td>\n",
       "      <td>happiness</td>\n",
       "      <td>no task</td>\n",
       "      <td>negative</td>\n",
       "      <td>male</td>\n",
       "    </tr>\n",
       "    <tr>\n",
       "      <th>403931</th>\n",
       "      <td>22</td>\n",
       "      <td>1782.1</td>\n",
       "      <td>0.018199</td>\n",
       "      <td>0.020687</td>\n",
       "      <td>confusion</td>\n",
       "      <td>no task</td>\n",
       "      <td>negative</td>\n",
       "      <td>male</td>\n",
       "    </tr>\n",
       "  </tbody>\n",
       "</table>\n",
       "<p>403932 rows × 8 columns</p>\n",
       "</div>"
      ],
      "text/plain": [
       "        participant_id  capture_time_secs  happiness  confusion  \\\n",
       "0                    1                0.0   0.013309        NaN   \n",
       "1                    1                0.1   0.013633        NaN   \n",
       "2                    1                0.2   0.015672        NaN   \n",
       "3                    1                0.3   0.019451        NaN   \n",
       "4                    1                0.4        NaN        NaN   \n",
       "...                ...                ...        ...        ...   \n",
       "403927              22             1781.7   0.000031   0.044686   \n",
       "403928              22             1781.8   0.000405   0.071171   \n",
       "403929              22             1781.9   0.000320   0.017704   \n",
       "403930              22             1782.0   0.000050   0.000000   \n",
       "403931              22             1782.1   0.018199   0.020687   \n",
       "\n",
       "       primary_emotion     task self_reported_attitude gender  \n",
       "0            happiness  no task                neutral   male  \n",
       "1            happiness  no task                neutral   male  \n",
       "2            happiness  no task                neutral   male  \n",
       "3            happiness  no task                neutral   male  \n",
       "4                  NaN  no task                neutral   male  \n",
       "...                ...      ...                    ...    ...  \n",
       "403927       confusion  no task               negative   male  \n",
       "403928       confusion  no task               negative   male  \n",
       "403929       confusion  no task               negative   male  \n",
       "403930       happiness  no task               negative   male  \n",
       "403931       confusion  no task               negative   male  \n",
       "\n",
       "[403932 rows x 8 columns]"
      ]
     },
     "execution_count": 13,
     "metadata": {},
     "output_type": "execute_result"
    }
   ],
   "source": [
    "df"
   ]
  },
  {
   "cell_type": "markdown",
   "metadata": {},
   "source": [
    "#  <font color='#32925E'> **What are all those NaN**s? </font>\n",
    "### **np.NaN** (as input) or **nan** or **NaN** (as output) are all the same thing: a special value indicating...the lack of a real value \"**N**ot **A** **N**umber\".\n",
    "### CSV or Excel files that have \"nothing\" in the cell get automatically imported into Pandas as NaN, and you often want to keep it that way."
   ]
  },
  {
   "cell_type": "markdown",
   "metadata": {},
   "source": [
    "# \n",
    "# <font color='#32925E'> **How many participants are there?** </font>"
   ]
  },
  {
   "cell_type": "code",
   "execution_count": null,
   "metadata": {},
   "outputs": [],
   "source": [
    "df['participant_id'].nunique()"
   ]
  },
  {
   "cell_type": "markdown",
   "metadata": {},
   "source": [
    "### `df['some_column_name']` is how you can refer to and isolate one data column in the dataframe.\n",
    "### `df['some_column_name'].nunique()` is how you can count the number of unique values."
   ]
  },
  {
   "cell_type": "markdown",
   "metadata": {},
   "source": [
    "# \n",
    "#  <font color='#32925E'> **What is the shape of the data for Happiness?** </font>\n",
    "## Pandas also has built in features for describing some basic stats about numerical columns"
   ]
  },
  {
   "cell_type": "code",
   "execution_count": null,
   "metadata": {},
   "outputs": [],
   "source": [
    "df['happiness'].describe().round(3)"
   ]
  },
  {
   "cell_type": "markdown",
   "metadata": {},
   "source": [
    "# \n",
    "## You can even describe multiple numerical columns at once. \n",
    "\n",
    "### The general pandas syntax for selecting multiple columns is `df[[column1, column2, etc.]]`"
   ]
  },
  {
   "cell_type": "code",
   "execution_count": null,
   "metadata": {},
   "outputs": [],
   "source": [
    "df[['happiness', 'confusion']].describe().round(3)"
   ]
  },
  {
   "cell_type": "markdown",
   "metadata": {},
   "source": [
    "# \n",
    "# Often, you want to transform the values in a column to make the data easier to understand, improve visualizations, or format for specific analyses.\n",
    "# <font color='#32925E'> **You want to turn seconds into minutes. Is there a simple way to do that?** </font>"
   ]
  },
  {
   "cell_type": "markdown",
   "metadata": {},
   "source": [
    "### Pandas makes it very easy to apply a simple operation to an entire column of data:"
   ]
  },
  {
   "cell_type": "code",
   "execution_count": null,
   "metadata": {},
   "outputs": [],
   "source": [
    "df['capture_time_secs']"
   ]
  },
  {
   "cell_type": "code",
   "execution_count": null,
   "metadata": {},
   "outputs": [],
   "source": [
    "df['capture_time_secs'] / 60"
   ]
  },
  {
   "cell_type": "markdown",
   "metadata": {},
   "source": [
    "### **Two things to note:** \n",
    "### 1. Unlike in Excel, we were able to divide all 400 thousand rows with one line of code\n",
    "### 2. Even with 400,000+ rows, python was able to perform this operation within milliseconds"
   ]
  },
  {
   "cell_type": "markdown",
   "metadata": {},
   "source": [
    "### \n",
    "#  <font color='#32925E'> How do we add this as a new column in the data? </font> \n",
    "## Simply set a new column name equal to what we just created!"
   ]
  },
  {
   "cell_type": "code",
   "execution_count": 15,
   "metadata": {},
   "outputs": [],
   "source": [
    "df['capture_time_mins'] = df['capture_time_secs'] / 60"
   ]
  },
  {
   "cell_type": "code",
   "execution_count": null,
   "metadata": {},
   "outputs": [],
   "source": [
    "df.head()"
   ]
  },
  {
   "cell_type": "markdown",
   "metadata": {},
   "source": [
    "### \n",
    "# In the context of this dataset, the emotion-analysis software isn't perfect, and for many frames it simply cannot tell if an emotion is present, or simply cannot detect the boundaries of a face. The question is, did this happen often?"
   ]
  },
  {
   "cell_type": "markdown",
   "metadata": {},
   "source": [
    "# <font color='#32925E'> **How much \"happiness\" data is missing?** </font>"
   ]
  },
  {
   "cell_type": "code",
   "execution_count": null,
   "metadata": {},
   "outputs": [],
   "source": [
    "df['happiness'].isnull() # tests whether each cell has a NaN in it or not. If it does, then True. If it doesn't, then False."
   ]
  },
  {
   "cell_type": "markdown",
   "metadata": {},
   "source": [
    "### Remember how `True == 1` and `False == 0`? How can we use that to answer the question?"
   ]
  },
  {
   "cell_type": "code",
   "execution_count": null,
   "metadata": {},
   "outputs": [],
   "source": [
    "n_missing = df['happiness'].isnull().sum()\n",
    "print(n_missing)"
   ]
  },
  {
   "cell_type": "markdown",
   "metadata": {},
   "source": [
    "### The sum of \"True\"s is the same thing as how many times \"True\" appears in the column, which is what we want!"
   ]
  },
  {
   "cell_type": "markdown",
   "metadata": {},
   "source": [
    "### <font color='#9E54C0'> **OPTIONAL EXERCISE: How much \"happiness\" data is NOT missing?** </font>"
   ]
  },
  {
   "cell_type": "code",
   "execution_count": null,
   "metadata": {},
   "outputs": [],
   "source": [
    "# Hint: use \"notnull\" instead of \"isnull\"\n",
    "\n",
    "n_not_missing = df['happiness'].____.sum()\n",
    "print(n_not_missing)"
   ]
  },
  {
   "cell_type": "markdown",
   "metadata": {},
   "source": [
    "### <font color='#9E54C0'> **OPTIONAL EXERCISE: The sum of # missing and # not missing should add up to how many total rows are in the data. Does it?** </font>"
   ]
  },
  {
   "cell_type": "code",
   "execution_count": null,
   "metadata": {},
   "outputs": [],
   "source": [
    "# Let's double check!\n",
    "\n",
    "print(\"Missing and non-missing happiness rows add up to\", n_missing + ____)\n",
    "print(\"There are\", df.shape[0], \"rows in the data.\")"
   ]
  },
  {
   "cell_type": "markdown",
   "metadata": {},
   "source": [
    "# \n",
    "# <font color='#32925E'> **Which emotion (Happiness or Confusion) was the \"primary emotion\" more often?** </font>"
   ]
  },
  {
   "cell_type": "code",
   "execution_count": 17,
   "metadata": {},
   "outputs": [
    {
     "data": {
      "text/html": [
       "<div>\n",
       "<style scoped>\n",
       "    .dataframe tbody tr th:only-of-type {\n",
       "        vertical-align: middle;\n",
       "    }\n",
       "\n",
       "    .dataframe tbody tr th {\n",
       "        vertical-align: top;\n",
       "    }\n",
       "\n",
       "    .dataframe thead th {\n",
       "        text-align: right;\n",
       "    }\n",
       "</style>\n",
       "<table border=\"1\" class=\"dataframe\">\n",
       "  <thead>\n",
       "    <tr style=\"text-align: right;\">\n",
       "      <th></th>\n",
       "      <th>participant_id</th>\n",
       "      <th>capture_time_secs</th>\n",
       "      <th>happiness</th>\n",
       "      <th>confusion</th>\n",
       "      <th>primary_emotion</th>\n",
       "      <th>task</th>\n",
       "      <th>self_reported_attitude</th>\n",
       "      <th>gender</th>\n",
       "      <th>capture_time_mins</th>\n",
       "    </tr>\n",
       "  </thead>\n",
       "  <tbody>\n",
       "    <tr>\n",
       "      <th>0</th>\n",
       "      <td>1</td>\n",
       "      <td>0.0</td>\n",
       "      <td>0.013309</td>\n",
       "      <td>NaN</td>\n",
       "      <td>happiness</td>\n",
       "      <td>no task</td>\n",
       "      <td>neutral</td>\n",
       "      <td>male</td>\n",
       "      <td>0.000000</td>\n",
       "    </tr>\n",
       "    <tr>\n",
       "      <th>1</th>\n",
       "      <td>1</td>\n",
       "      <td>0.1</td>\n",
       "      <td>0.013633</td>\n",
       "      <td>NaN</td>\n",
       "      <td>happiness</td>\n",
       "      <td>no task</td>\n",
       "      <td>neutral</td>\n",
       "      <td>male</td>\n",
       "      <td>0.001667</td>\n",
       "    </tr>\n",
       "    <tr>\n",
       "      <th>2</th>\n",
       "      <td>1</td>\n",
       "      <td>0.2</td>\n",
       "      <td>0.015672</td>\n",
       "      <td>NaN</td>\n",
       "      <td>happiness</td>\n",
       "      <td>no task</td>\n",
       "      <td>neutral</td>\n",
       "      <td>male</td>\n",
       "      <td>0.003333</td>\n",
       "    </tr>\n",
       "    <tr>\n",
       "      <th>3</th>\n",
       "      <td>1</td>\n",
       "      <td>0.3</td>\n",
       "      <td>0.019451</td>\n",
       "      <td>NaN</td>\n",
       "      <td>happiness</td>\n",
       "      <td>no task</td>\n",
       "      <td>neutral</td>\n",
       "      <td>male</td>\n",
       "      <td>0.005000</td>\n",
       "    </tr>\n",
       "    <tr>\n",
       "      <th>4</th>\n",
       "      <td>1</td>\n",
       "      <td>0.4</td>\n",
       "      <td>NaN</td>\n",
       "      <td>NaN</td>\n",
       "      <td>NaN</td>\n",
       "      <td>no task</td>\n",
       "      <td>neutral</td>\n",
       "      <td>male</td>\n",
       "      <td>0.006667</td>\n",
       "    </tr>\n",
       "  </tbody>\n",
       "</table>\n",
       "</div>"
      ],
      "text/plain": [
       "   participant_id  capture_time_secs  happiness  confusion primary_emotion  \\\n",
       "0               1                0.0   0.013309        NaN       happiness   \n",
       "1               1                0.1   0.013633        NaN       happiness   \n",
       "2               1                0.2   0.015672        NaN       happiness   \n",
       "3               1                0.3   0.019451        NaN       happiness   \n",
       "4               1                0.4        NaN        NaN             NaN   \n",
       "\n",
       "      task self_reported_attitude gender  capture_time_mins  \n",
       "0  no task                neutral   male           0.000000  \n",
       "1  no task                neutral   male           0.001667  \n",
       "2  no task                neutral   male           0.003333  \n",
       "3  no task                neutral   male           0.005000  \n",
       "4  no task                neutral   male           0.006667  "
      ]
     },
     "execution_count": 17,
     "metadata": {},
     "output_type": "execute_result"
    }
   ],
   "source": [
    "df.head()"
   ]
  },
  {
   "cell_type": "markdown",
   "metadata": {},
   "source": [
    "###  Let's display only the \"primary_emotion\" column of the dataset."
   ]
  },
  {
   "cell_type": "code",
   "execution_count": null,
   "metadata": {},
   "outputs": [],
   "source": [
    "df['primary_emotion']"
   ]
  },
  {
   "cell_type": "markdown",
   "metadata": {},
   "source": [
    "### Again, pandas makes it very easy to apply a simple operation to an entire column of data.\n",
    "### What do you think the cell below does?"
   ]
  },
  {
   "cell_type": "code",
   "execution_count": null,
   "metadata": {},
   "outputs": [],
   "source": [
    "df['primary_emotion'] == 'happiness' # Note that missing values of primary_emotion also return False; after all, they are not equal to 'happiness'."
   ]
  },
  {
   "cell_type": "code",
   "execution_count": null,
   "metadata": {},
   "outputs": [],
   "source": [
    "(df['primary_emotion'] == 'happiness').sum()"
   ]
  },
  {
   "cell_type": "markdown",
   "metadata": {},
   "source": [
    "### <font color='#9E54C0'> **OPTIONAL EXERCISE: How often was Confusion the \"primary emotion\"?** </font>"
   ]
  },
  {
   "cell_type": "code",
   "execution_count": null,
   "metadata": {},
   "outputs": [],
   "source": [
    "(df['primary_emotion'] == 'confusion').____"
   ]
  },
  {
   "cell_type": "markdown",
   "metadata": {},
   "source": [
    "### Participants looked happy far more frequently than they looked confused.\n",
    "### How could we get this answer in one step?"
   ]
  },
  {
   "cell_type": "code",
   "execution_count": null,
   "metadata": {},
   "outputs": [],
   "source": [
    "df['primary_emotion'].value_counts()"
   ]
  },
  {
   "cell_type": "markdown",
   "metadata": {},
   "source": [
    "### What if we want proportions instead of raw counts?"
   ]
  },
  {
   "cell_type": "code",
   "execution_count": null,
   "metadata": {},
   "outputs": [],
   "source": [
    "df['primary_emotion'].value_counts(normalize = True, dropna = False).round(2)"
   ]
  },
  {
   "cell_type": "markdown",
   "metadata": {},
   "source": [
    "### <font color='#9E54C0'> **OPTIONAL EXERCISE: What proportion of the rows did participants spend in Tasks 1 vs. 2 vs. 3?** </font>"
   ]
  },
  {
   "cell_type": "code",
   "execution_count": null,
   "metadata": {},
   "outputs": [],
   "source": [
    "# Find how often the \"task\" column took on each of its values\n",
    "\n",
    "df['task'].____(normalize = True, dropna = False).round(2)"
   ]
  },
  {
   "cell_type": "code",
   "execution_count": 18,
   "metadata": {},
   "outputs": [
    {
     "data": {
      "text/html": [
       "<div>\n",
       "<style scoped>\n",
       "    .dataframe tbody tr th:only-of-type {\n",
       "        vertical-align: middle;\n",
       "    }\n",
       "\n",
       "    .dataframe tbody tr th {\n",
       "        vertical-align: top;\n",
       "    }\n",
       "\n",
       "    .dataframe thead th {\n",
       "        text-align: right;\n",
       "    }\n",
       "</style>\n",
       "<table border=\"1\" class=\"dataframe\">\n",
       "  <thead>\n",
       "    <tr style=\"text-align: right;\">\n",
       "      <th></th>\n",
       "      <th>participant_id</th>\n",
       "      <th>capture_time_secs</th>\n",
       "      <th>happiness</th>\n",
       "      <th>confusion</th>\n",
       "      <th>primary_emotion</th>\n",
       "      <th>task</th>\n",
       "      <th>self_reported_attitude</th>\n",
       "      <th>gender</th>\n",
       "      <th>capture_time_mins</th>\n",
       "    </tr>\n",
       "  </thead>\n",
       "  <tbody>\n",
       "    <tr>\n",
       "      <th>0</th>\n",
       "      <td>1</td>\n",
       "      <td>0.0</td>\n",
       "      <td>0.013309</td>\n",
       "      <td>NaN</td>\n",
       "      <td>happiness</td>\n",
       "      <td>no task</td>\n",
       "      <td>neutral</td>\n",
       "      <td>male</td>\n",
       "      <td>0.000000</td>\n",
       "    </tr>\n",
       "    <tr>\n",
       "      <th>1</th>\n",
       "      <td>1</td>\n",
       "      <td>0.1</td>\n",
       "      <td>0.013633</td>\n",
       "      <td>NaN</td>\n",
       "      <td>happiness</td>\n",
       "      <td>no task</td>\n",
       "      <td>neutral</td>\n",
       "      <td>male</td>\n",
       "      <td>0.001667</td>\n",
       "    </tr>\n",
       "    <tr>\n",
       "      <th>2</th>\n",
       "      <td>1</td>\n",
       "      <td>0.2</td>\n",
       "      <td>0.015672</td>\n",
       "      <td>NaN</td>\n",
       "      <td>happiness</td>\n",
       "      <td>no task</td>\n",
       "      <td>neutral</td>\n",
       "      <td>male</td>\n",
       "      <td>0.003333</td>\n",
       "    </tr>\n",
       "    <tr>\n",
       "      <th>3</th>\n",
       "      <td>1</td>\n",
       "      <td>0.3</td>\n",
       "      <td>0.019451</td>\n",
       "      <td>NaN</td>\n",
       "      <td>happiness</td>\n",
       "      <td>no task</td>\n",
       "      <td>neutral</td>\n",
       "      <td>male</td>\n",
       "      <td>0.005000</td>\n",
       "    </tr>\n",
       "    <tr>\n",
       "      <th>4</th>\n",
       "      <td>1</td>\n",
       "      <td>0.4</td>\n",
       "      <td>NaN</td>\n",
       "      <td>NaN</td>\n",
       "      <td>NaN</td>\n",
       "      <td>no task</td>\n",
       "      <td>neutral</td>\n",
       "      <td>male</td>\n",
       "      <td>0.006667</td>\n",
       "    </tr>\n",
       "  </tbody>\n",
       "</table>\n",
       "</div>"
      ],
      "text/plain": [
       "   participant_id  capture_time_secs  happiness  confusion primary_emotion  \\\n",
       "0               1                0.0   0.013309        NaN       happiness   \n",
       "1               1                0.1   0.013633        NaN       happiness   \n",
       "2               1                0.2   0.015672        NaN       happiness   \n",
       "3               1                0.3   0.019451        NaN       happiness   \n",
       "4               1                0.4        NaN        NaN             NaN   \n",
       "\n",
       "      task self_reported_attitude gender  capture_time_mins  \n",
       "0  no task                neutral   male           0.000000  \n",
       "1  no task                neutral   male           0.001667  \n",
       "2  no task                neutral   male           0.003333  \n",
       "3  no task                neutral   male           0.005000  \n",
       "4  no task                neutral   male           0.006667  "
      ]
     },
     "execution_count": 18,
     "metadata": {},
     "output_type": "execute_result"
    }
   ],
   "source": [
    "df.head()"
   ]
  },
  {
   "cell_type": "markdown",
   "metadata": {},
   "source": [
    "### \n",
    "# <font color='#32925E'> **Did the \"primary emotion\" differ by gender?** </font>"
   ]
  },
  {
   "cell_type": "markdown",
   "metadata": {},
   "source": [
    "### **Filtering**: Let's first filter the dataset to only the female participants."
   ]
  },
  {
   "cell_type": "code",
   "execution_count": null,
   "metadata": {},
   "outputs": [],
   "source": [
    "# This is what the filter looks like\n",
    "\n",
    "df['gender'] == 'female'"
   ]
  },
  {
   "cell_type": "code",
   "execution_count": null,
   "metadata": {},
   "outputs": [],
   "source": [
    "# This is how you use the filter\n",
    "\n",
    "df_female = df[df['gender'] == 'female']\n",
    "df_female"
   ]
  },
  {
   "cell_type": "markdown",
   "metadata": {},
   "source": [
    "### **Two things to note:**\n",
    "### 1. df_female is a subset of df\n",
    "### 2. This subset dataframe still keeps track of the original row numbers (i.e., indices)"
   ]
  },
  {
   "cell_type": "markdown",
   "metadata": {},
   "source": [
    "### \n",
    "### <font color='#9E54C0'> **OPTIONAL EXERCISE: What were the proportions for the primary emotion for the female participants?** </font>"
   ]
  },
  {
   "cell_type": "code",
   "execution_count": null,
   "metadata": {},
   "outputs": [],
   "source": [
    "df_female['primary_emotion'].____(normalize = True).round(2)"
   ]
  },
  {
   "cell_type": "markdown",
   "metadata": {},
   "source": [
    "### What about for the male participants?"
   ]
  },
  {
   "cell_type": "code",
   "execution_count": null,
   "metadata": {},
   "outputs": [],
   "source": [
    "df_male = df[df['gender'] == 'male']\n",
    "\n",
    "df_male['primary_emotion'].value_counts(normalize = True).round(2)"
   ]
  },
  {
   "cell_type": "markdown",
   "metadata": {},
   "source": [
    "### Looks like the men in this study were slightly more confused than happy, and substantially more confused and less happy than the women.\n",
    "# \n",
    "# <font color='#32925E'> How could we get these answers in one step, and without creating extra smaller datasets? </font>\n",
    "## Introducing **grouping**:"
   ]
  },
  {
   "cell_type": "markdown",
   "metadata": {},
   "source": [
    "### Grouping in pandas works using the following syntax: \n",
    "### `df.groupby(column name to group on)[column name to aggregate].some_function()`\n",
    "### Common functions to use while grouping are \"value_counts\", \"mean\", \"median\" \"mode\", \"max\", \"min\""
   ]
  },
  {
   "cell_type": "code",
   "execution_count": null,
   "metadata": {},
   "outputs": [],
   "source": [
    "df.groupby('gender')['primary_emotion'].value_counts(normalize = True).round(2)"
   ]
  },
  {
   "cell_type": "markdown",
   "metadata": {},
   "source": [
    "### Let's see if participants' faces reflected their emobutton choice?"
   ]
  },
  {
   "cell_type": "code",
   "execution_count": null,
   "metadata": {},
   "outputs": [],
   "source": [
    "df['self_reported_attitude'].value_counts(normalize = True).round(2)"
   ]
  },
  {
   "cell_type": "code",
   "execution_count": null,
   "metadata": {},
   "outputs": [],
   "source": [
    "df['primary_emotion'].value_counts(normalize = True).round(2)"
   ]
  },
  {
   "cell_type": "code",
   "execution_count": null,
   "metadata": {},
   "outputs": [],
   "source": [
    "df.groupby('self_reported_attitude')['primary_emotion'].value_counts(normalize = True).round(2).sort_index(ascending = False)"
   ]
  },
  {
   "cell_type": "markdown",
   "metadata": {},
   "source": [
    "### The faces of the participants who hit the \"unhappy\" part of the Submit EmoButton looked substantially different than for the other two groups of participants."
   ]
  },
  {
   "cell_type": "markdown",
   "metadata": {},
   "source": [
    "# Using Python, there are numerous types of visualizations you have at your disposal to examine the shape of your data.\n",
    "### The remainder of this workshop will go over different visualizations you can produce to generate meaningful insights."
   ]
  },
  {
   "cell_type": "markdown",
   "metadata": {},
   "source": [
    "### \n",
    "# <font color='#32925E'> **Were people who gave negative feedback more confused? Or less happy? Or both?** </font>"
   ]
  },
  {
   "cell_type": "markdown",
   "metadata": {},
   "source": [
    "# A picture is worth a thousand words, and often researchers will use visualizations to explore their data and to isolate insights."
   ]
  },
  {
   "cell_type": "markdown",
   "metadata": {},
   "source": [
    "### Seaborn is a powerful and easy-to-learn package that can create beautiful visualizations - both quick/dirty and polished.\n",
    "\n",
    "<img src = './images/seaborn_logo.png' width = 400 align = \"center\" border = \"5px solid #555\"> \n",
    "\n",
    "### Seaborn visualization gallery: https://seaborn.pydata.org/examples/index.html"
   ]
  },
  {
   "cell_type": "code",
   "execution_count": null,
   "metadata": {},
   "outputs": [],
   "source": [
    "import seaborn as sns"
   ]
  },
  {
   "cell_type": "code",
   "execution_count": null,
   "metadata": {},
   "outputs": [],
   "source": [
    "cat_df = df.groupby('self_reported_attitude')['primary_emotion'].value_counts(normalize = True).round(2).sort_index(ascending = False)\n",
    "\n",
    "cat_df = pd.DataFrame(cat_df).rename(columns = {'primary_emotion':'proportion'}).reset_index()\n",
    "\n",
    "cat_df"
   ]
  },
  {
   "cell_type": "code",
   "execution_count": null,
   "metadata": {},
   "outputs": [],
   "source": [
    "sns.catplot(data = cat_df, kind = 'bar', x = 'self_reported_attitude', y = 'proportion', hue = 'primary_emotion') "
   ]
  },
  {
   "cell_type": "markdown",
   "metadata": {},
   "source": [
    "### Participants who self-reported a negative attitude had less facial happiness."
   ]
  },
  {
   "cell_type": "markdown",
   "metadata": {},
   "source": [
    "# <font color='#32925E'> What were the session lengths? </font>"
   ]
  },
  {
   "cell_type": "code",
   "execution_count": 19,
   "metadata": {},
   "outputs": [
    {
     "data": {
      "text/html": [
       "<div>\n",
       "<style scoped>\n",
       "    .dataframe tbody tr th:only-of-type {\n",
       "        vertical-align: middle;\n",
       "    }\n",
       "\n",
       "    .dataframe tbody tr th {\n",
       "        vertical-align: top;\n",
       "    }\n",
       "\n",
       "    .dataframe thead th {\n",
       "        text-align: right;\n",
       "    }\n",
       "</style>\n",
       "<table border=\"1\" class=\"dataframe\">\n",
       "  <thead>\n",
       "    <tr style=\"text-align: right;\">\n",
       "      <th></th>\n",
       "      <th>participant_id</th>\n",
       "      <th>capture_time_secs</th>\n",
       "      <th>happiness</th>\n",
       "      <th>confusion</th>\n",
       "      <th>primary_emotion</th>\n",
       "      <th>task</th>\n",
       "      <th>self_reported_attitude</th>\n",
       "      <th>gender</th>\n",
       "      <th>capture_time_mins</th>\n",
       "    </tr>\n",
       "  </thead>\n",
       "  <tbody>\n",
       "    <tr>\n",
       "      <th>0</th>\n",
       "      <td>1</td>\n",
       "      <td>0.0</td>\n",
       "      <td>0.013309</td>\n",
       "      <td>NaN</td>\n",
       "      <td>happiness</td>\n",
       "      <td>no task</td>\n",
       "      <td>neutral</td>\n",
       "      <td>male</td>\n",
       "      <td>0.000000</td>\n",
       "    </tr>\n",
       "    <tr>\n",
       "      <th>1</th>\n",
       "      <td>1</td>\n",
       "      <td>0.1</td>\n",
       "      <td>0.013633</td>\n",
       "      <td>NaN</td>\n",
       "      <td>happiness</td>\n",
       "      <td>no task</td>\n",
       "      <td>neutral</td>\n",
       "      <td>male</td>\n",
       "      <td>0.001667</td>\n",
       "    </tr>\n",
       "    <tr>\n",
       "      <th>2</th>\n",
       "      <td>1</td>\n",
       "      <td>0.2</td>\n",
       "      <td>0.015672</td>\n",
       "      <td>NaN</td>\n",
       "      <td>happiness</td>\n",
       "      <td>no task</td>\n",
       "      <td>neutral</td>\n",
       "      <td>male</td>\n",
       "      <td>0.003333</td>\n",
       "    </tr>\n",
       "    <tr>\n",
       "      <th>3</th>\n",
       "      <td>1</td>\n",
       "      <td>0.3</td>\n",
       "      <td>0.019451</td>\n",
       "      <td>NaN</td>\n",
       "      <td>happiness</td>\n",
       "      <td>no task</td>\n",
       "      <td>neutral</td>\n",
       "      <td>male</td>\n",
       "      <td>0.005000</td>\n",
       "    </tr>\n",
       "    <tr>\n",
       "      <th>4</th>\n",
       "      <td>1</td>\n",
       "      <td>0.4</td>\n",
       "      <td>NaN</td>\n",
       "      <td>NaN</td>\n",
       "      <td>NaN</td>\n",
       "      <td>no task</td>\n",
       "      <td>neutral</td>\n",
       "      <td>male</td>\n",
       "      <td>0.006667</td>\n",
       "    </tr>\n",
       "  </tbody>\n",
       "</table>\n",
       "</div>"
      ],
      "text/plain": [
       "   participant_id  capture_time_secs  happiness  confusion primary_emotion  \\\n",
       "0               1                0.0   0.013309        NaN       happiness   \n",
       "1               1                0.1   0.013633        NaN       happiness   \n",
       "2               1                0.2   0.015672        NaN       happiness   \n",
       "3               1                0.3   0.019451        NaN       happiness   \n",
       "4               1                0.4        NaN        NaN             NaN   \n",
       "\n",
       "      task self_reported_attitude gender  capture_time_mins  \n",
       "0  no task                neutral   male           0.000000  \n",
       "1  no task                neutral   male           0.001667  \n",
       "2  no task                neutral   male           0.003333  \n",
       "3  no task                neutral   male           0.005000  \n",
       "4  no task                neutral   male           0.006667  "
      ]
     },
     "execution_count": 19,
     "metadata": {},
     "output_type": "execute_result"
    }
   ],
   "source": [
    "df.head()"
   ]
  },
  {
   "cell_type": "code",
   "execution_count": null,
   "metadata": {},
   "outputs": [],
   "source": [
    "# Hint: .max() finds the maximum of a column of numbers.\n",
    "\n",
    "df.groupby('participant_id')['capture_time_mins'].max()"
   ]
  },
  {
   "cell_type": "markdown",
   "metadata": {},
   "source": [
    "### For an even better idea of how long most sessions were, we can create a quick and dirty histogram with just one more function."
   ]
  },
  {
   "cell_type": "code",
   "execution_count": null,
   "metadata": {},
   "outputs": [],
   "source": [
    "session_lengths = df.groupby('participant_id')['capture_time_mins'].max() \n",
    "\n",
    "sns.histplot(session_lengths)"
   ]
  },
  {
   "cell_type": "markdown",
   "metadata": {},
   "source": [
    "# <font color='#32925E'> What is the shape (e.g., average and spread) of time spent per task? </font>"
   ]
  },
  {
   "cell_type": "code",
   "execution_count": null,
   "metadata": {},
   "outputs": [],
   "source": [
    "task_time = df.groupby(['task', 'participant_id'])['capture_time_mins'].size().reset_index()\n",
    "task_time = avg_task_time[avg_task_time['task'] != 'no task']"
   ]
  },
  {
   "cell_type": "code",
   "execution_count": null,
   "metadata": {},
   "outputs": [],
   "source": [
    "sns.boxplot(data = task_time, x = 'task', y = 'capture_time_mins')"
   ]
  },
  {
   "cell_type": "markdown",
   "metadata": {},
   "source": [
    "# \n",
    "# <font color='#32925E'> **Are happiness and confusion negatively correlated?** </font>"
   ]
  },
  {
   "cell_type": "markdown",
   "metadata": {},
   "source": [
    "### It seems obvious that they should be, but let's confirm!"
   ]
  },
  {
   "cell_type": "code",
   "execution_count": null,
   "metadata": {},
   "outputs": [],
   "source": [
    "# Each data point is a participant\n",
    "\n",
    "happiness_by_participant = df.groupby('participant_id')['happiness'].mean()\n",
    "confusion_by_participant = df.groupby('participant_id')['confusion'].mean()\n",
    "\n",
    "sns.regplot(x = happiness_by_participant, y = confusion_by_participant, ci = 0)"
   ]
  },
  {
   "cell_type": "markdown",
   "metadata": {},
   "source": [
    "### Looks like a negative correlation - but let's double-check that directly"
   ]
  },
  {
   "cell_type": "code",
   "execution_count": null,
   "metadata": {},
   "outputs": [],
   "source": [
    "df[['happiness', 'confusion']].corr()"
   ]
  },
  {
   "cell_type": "markdown",
   "metadata": {},
   "source": [
    "### As expected, there's a small negative correlation between facial happiness and facial confusion."
   ]
  },
  {
   "cell_type": "markdown",
   "metadata": {},
   "source": [
    "# Pretty Visualizations"
   ]
  },
  {
   "cell_type": "code",
   "execution_count": null,
   "metadata": {},
   "outputs": [],
   "source": [
    "from IPython.core.display import display, HTML\n",
    "display(HTML(filename='./images/timelines_variable_y_scale 3 Ps.html'))"
   ]
  },
  {
   "cell_type": "markdown",
   "metadata": {},
   "source": [
    "# \n",
    "# <font color = \"red\"> That's it for now!</font> Before we move on to next steps, we'd love to hear any questions you may have regarding anything we covered today.\n",
    "# <img src = './images/any_questions.jpg' width = 500 >\n"
   ]
  },
  {
   "cell_type": "markdown",
   "metadata": {},
   "source": [
    "# \n",
    "# **Next Steps**"
   ]
  },
  {
   "cell_type": "markdown",
   "metadata": {},
   "source": [
    "<img src = \"./images/Next_Steps_Slide.jpg\" width = \"900\" align = \"center\" border = \"5px solid #555\" >"
   ]
  },
  {
   "cell_type": "markdown",
   "metadata": {},
   "source": [
    "# [Pandas Cheatsheet](https://pandas.pydata.org/Pandas_Cheat_Sheet.pdf)\n",
    "\n",
    "### This official pandas cheatsheet covers everything we talked about today plus a lot more!"
   ]
  },
  {
   "cell_type": "markdown",
   "metadata": {},
   "source": [
    "# \n",
    "# Installing Anaconda: the most widely used python software for data and science!"
   ]
  },
  {
   "cell_type": "markdown",
   "metadata": {},
   "source": [
    "### **STEP 1:** Go to [Anaconda's website](https:/www.anaconda.com) and click on \"Get Started\""
   ]
  },
  {
   "cell_type": "markdown",
   "metadata": {},
   "source": [
    "<img src = \"./images/Anaconda_Step1.png\" width = \"900\" align = \"center\" border = \"5px solid #555\" >"
   ]
  },
  {
   "cell_type": "markdown",
   "metadata": {},
   "source": [
    "### **STEP 2:** On the next page, click \"Install Anaconda Individual Edition\""
   ]
  },
  {
   "cell_type": "markdown",
   "metadata": {},
   "source": [
    "<img src = \"./images/Anaconda_Step2.png\" width = \"900\" align = \"center\" border = \"5px solid #555\" >"
   ]
  },
  {
   "cell_type": "markdown",
   "metadata": {},
   "source": [
    "### **STEP 3:** Then, click \"Download\""
   ]
  },
  {
   "cell_type": "markdown",
   "metadata": {},
   "source": [
    "<img src = \"./images/Anaconda_Step3.png\" width = \"900\" align = \"center\" border = \"5px solid #555\" >"
   ]
  },
  {
   "cell_type": "markdown",
   "metadata": {},
   "source": [
    "### **STEP 4:** Finally - paying attention to which operating system you have - click on the appropriate \"graphical installer\" link"
   ]
  },
  {
   "cell_type": "markdown",
   "metadata": {},
   "source": [
    "<img src = \"./images/Anaconda_Step4.png\" width = \"900\" align = \"center\" border = \"5px solid #555\" >"
   ]
  },
  {
   "cell_type": "markdown",
   "metadata": {},
   "source": [
    "# Once installed type the following in your command line (or terminal for Mac users)"
   ]
  },
  {
   "cell_type": "markdown",
   "metadata": {},
   "source": [
    "# <img src = \"./images/running_jupyter_lab.png\" width = 700>"
   ]
  },
  {
   "cell_type": "markdown",
   "metadata": {},
   "source": [
    "# \n",
    "# **POST-WORKSHOP: TEACHING YOURSELF**"
   ]
  },
  {
   "cell_type": "markdown",
   "metadata": {},
   "source": [
    "# <font color='#32925E'> **You want to filter a column by two or more values. You've never done this before.** </font>"
   ]
  },
  {
   "cell_type": "markdown",
   "metadata": {},
   "source": [
    "### _self_reported_attitude_ currently has 3 values: negative, neutral, positive. Earlier, we found that the \"negative\" participants differ sharply from the \"neutral\" and \"positive\" participants. For further analyses, you'd like to lump positive and neutral participants together as one group. The first step is to find all the rows where the _self_reported_attitude_ is _either_ \"positive\" or \"neutral\". How would you do that?"
   ]
  },
  {
   "cell_type": "markdown",
   "metadata": {},
   "source": [
    "### Google \"pandas filter column by multiple values\".\n",
    "### Find: https://stackoverflow.com/questions/12096252/use-a-list-of-values-to-select-rows-from-a-pandas-dataframe"
   ]
  },
  {
   "cell_type": "code",
   "execution_count": null,
   "metadata": {},
   "outputs": [],
   "source": [
    "# Key piece of info: use the .isin() function!\n",
    "\n",
    "list_to_find = ['positive', 'neutral'] # list of all 2 values you want to find in the column\n",
    "\n",
    "df['self_reported_attitude'].isin(list_to_find) # returns True in every row where 'self_reported_attitude' is either 'positive' or 'neutral'"
   ]
  },
  {
   "cell_type": "markdown",
   "metadata": {},
   "source": [
    "### \n",
    "# <font color='#32925E'> **You want to read only the first 50 rows of a CSV. You've never done this before.** </font>"
   ]
  },
  {
   "cell_type": "markdown",
   "metadata": {},
   "source": [
    "### Google \"pandas read csv\".\n",
    "### Find: https://pandas.pydata.org/pandas-docs/stable/reference/api/pandas.read_csv.html"
   ]
  },
  {
   "cell_type": "code",
   "execution_count": null,
   "metadata": {},
   "outputs": [],
   "source": [
    "# Key piece of info: use nrows parameter!\n",
    "\n",
    "df = pd.read_csv('face_data.csv', nrows = 50)\n",
    "\n",
    "df"
   ]
  },
  {
   "cell_type": "markdown",
   "metadata": {},
   "source": [
    "### \n",
    "# <font color='#32925E'> **You want to save your CSV. You've never done this before.** </font>\n",
    "\n",
    "### Google \"pandas save csv\".\n",
    "\n",
    "### Find: https://pandas.pydata.org/pandas-docs/stable/reference/api/pandas.DataFrame.to_csv.html"
   ]
  },
  {
   "cell_type": "code",
   "execution_count": null,
   "metadata": {},
   "outputs": [],
   "source": [
    "# Key piece of info: saving a csv file to a directory! t\n",
    "\n",
    "df.to_csv('example/path/to/save/your/file/file_name.csv')"
   ]
  },
  {
   "cell_type": "markdown",
   "metadata": {},
   "source": [
    "# \n",
    "# <font color='red'> **ADVANCED SECTION: TRY AT YOUR OWN RISK** </font>"
   ]
  },
  {
   "cell_type": "markdown",
   "metadata": {},
   "source": [
    "# <font color='#32925E'> **Finding delight: Identifying when participants are \"extremely happy\"** </font>"
   ]
  },
  {
   "cell_type": "markdown",
   "metadata": {},
   "source": [
    "### In UX, this facial emotion-analysis tool gives us the unique opportunity to go back and see what made participants happiest during a task, even if they didn't self-report it. But first we need to define the cutoff for \"extremely happy\".\n",
    "### An accepted way to \"standardize\" continuous variables (i.e., put them all on a comparable scale) is to create a **Z-score**: for every value, subtract the mean and divide by the standard deviation. The resulting variable always has Mean == 0 and Standard Deviation == 1. A Z-score >3 or <-3 is commonly considered extreme."
   ]
  },
  {
   "cell_type": "markdown",
   "metadata": {},
   "source": [
    "### Let's write a reusable function that will take any one Happiness value and make a Happiness Z-score out of it. Functions in Python are defined like this:\n",
    "### `def my_function(inputs):`\n",
    "###     &nbsp;&nbsp;&nbsp;&nbsp;&nbsp;&nbsp;&nbsp;&nbsp;&nbsp;&nbsp;&nbsp;&nbsp;do stuff to the inputs to create an output variable\n",
    "###     &nbsp;&nbsp;&nbsp;&nbsp;&nbsp;&nbsp;&nbsp;&nbsp;&nbsp;&nbsp;&nbsp;&nbsp;`return output`"
   ]
  },
  {
   "cell_type": "code",
   "execution_count": null,
   "metadata": {},
   "outputs": [],
   "source": [
    "happiness_mean = df['happiness'].mean() # Average face happiness across all participants\n",
    "happiness_std = df['happiness'].std() # Standard deviation (variability) of face happiness across all participants"
   ]
  },
  {
   "cell_type": "code",
   "execution_count": null,
   "metadata": {},
   "outputs": [],
   "source": [
    "# Give your new function a name: z_score\n",
    "def z_score(happiness_value): \n",
    "    \n",
    "    \"\"\" This function takes one happiness value and changes it to a Z-score value. \"\"\"\n",
    "    \n",
    "    # From the happiness value, subtract the mean of all happiness values and divide by the standard deviation of all happiness values\n",
    "    happiness_z = (happiness_value - happiness_mean) / happiness_std\n",
    "    \n",
    "    # Return the changed value\n",
    "    return happiness_z"
   ]
  },
  {
   "cell_type": "markdown",
   "metadata": {},
   "source": [
    "### What would be the Z-score of a Happiness value of 0.55? (remember, the Happiness scale ranges from 0 to 1, so 0.55 might not seem that high)"
   ]
  },
  {
   "cell_type": "code",
   "execution_count": null,
   "metadata": {},
   "outputs": [],
   "source": [
    "z_score(0.55)"
   ]
  },
  {
   "cell_type": "markdown",
   "metadata": {},
   "source": [
    "### 0.55 on the Happiness scale is actually an extreme outlier with Z-score > 3."
   ]
  },
  {
   "cell_type": "markdown",
   "metadata": {},
   "source": [
    "### Now let's apply our Z-score function to the first real Happiness value in our actual data."
   ]
  },
  {
   "cell_type": "code",
   "execution_count": null,
   "metadata": {},
   "outputs": [],
   "source": [
    "df.head()"
   ]
  },
  {
   "cell_type": "markdown",
   "metadata": {},
   "source": [
    "### But instead of copying \"0.013309\" by hand, let's refer to its location in the dataframe: row 0, column \"happiness\""
   ]
  },
  {
   "cell_type": "code",
   "execution_count": null,
   "metadata": {},
   "outputs": [],
   "source": [
    "print(df.loc[0, 'happiness'])\n",
    "print(z_score(df.loc[0, 'happiness']))"
   ]
  },
  {
   "cell_type": "markdown",
   "metadata": {},
   "source": [
    "### Now let's literally \"apply\" our Z-score function to _every single row_ of the Happiness column in one short line of code!"
   ]
  },
  {
   "cell_type": "code",
   "execution_count": null,
   "metadata": {},
   "outputs": [],
   "source": [
    "df['happiness_z_score'] = df['happiness'].apply(z_score)\n",
    "df['happiness_z_score']"
   ]
  },
  {
   "cell_type": "markdown",
   "metadata": {},
   "source": [
    "### Your function just ran 400,000+ times in a row at the blink of an eye!"
   ]
  },
  {
   "cell_type": "markdown",
   "metadata": {},
   "source": [
    "### Finally, let's confirm that the mean of the Happiness Z-score is indeed 0 and the standard deviation is indeed 1."
   ]
  },
  {
   "cell_type": "code",
   "execution_count": null,
   "metadata": {},
   "outputs": [],
   "source": [
    "df['happiness_z_score'].describe().round(3)"
   ]
  },
  {
   "cell_type": "markdown",
   "metadata": {},
   "source": [
    "# \n",
    "# <font color='red'> **In case of emergency: load the face dataset at different stages** </font>"
   ]
  },
  {
   "cell_type": "code",
   "execution_count": null,
   "metadata": {},
   "outputs": [],
   "source": [
    "df = pd.read_csv('face_data_all.csv.gz') # initial state of the dataset"
   ]
  },
  {
   "cell_type": "code",
   "execution_count": null,
   "metadata": {},
   "outputs": [],
   "source": [
    "dfp = pd.read_excel('participant_data.xlsx') # original small dataset"
   ]
  },
  {
   "cell_type": "code",
   "execution_count": null,
   "metadata": {},
   "outputs": [],
   "source": [
    "# df['capture_time_mins'] = df['capture_time_secs'] / 60\n",
    "\n",
    "df = pd.read_csv('face_data_minutes.csv.gz', index_col = 0) # minutes column added"
   ]
  },
  {
   "cell_type": "code",
   "execution_count": null,
   "metadata": {},
   "outputs": [],
   "source": []
  }
 ],
 "metadata": {
  "kernelspec": {
   "display_name": "Python 3",
   "language": "python",
   "name": "python3"
  },
  "language_info": {
   "codemirror_mode": {
    "name": "ipython",
    "version": 3
   },
   "file_extension": ".py",
   "mimetype": "text/x-python",
   "name": "python",
   "nbconvert_exporter": "python",
   "pygments_lexer": "ipython3",
   "version": "3.6.10"
  }
 },
 "nbformat": 4,
 "nbformat_minor": 4
}
